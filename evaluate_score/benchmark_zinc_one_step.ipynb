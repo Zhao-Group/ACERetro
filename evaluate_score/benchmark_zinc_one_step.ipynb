{
 "cells": [
  {
   "cell_type": "code",
   "execution_count": 2,
   "metadata": {},
   "outputs": [
    {
     "name": "stdout",
     "output_type": "stream",
     "text": [
      "root_directory:  /home/xuan/GitLab/synthetic-field-score/evalueate_score\n",
      "project_directory:  /home/xuan/GitLab/synthetic-field-score\n",
      "['/home/xuan/GitLab/synthetic-field-score/evalueate_score', '/home/xuan/miniconda3/envs/sfscore_tools/lib/python36.zip', '/home/xuan/miniconda3/envs/sfscore_tools/lib/python3.6', '/home/xuan/miniconda3/envs/sfscore_tools/lib/python3.6/lib-dynload', '', '/home/xuan/miniconda3/envs/sfscore_tools/lib/python3.6/site-packages', '/home/xuan/GitLab/biocatalysis-model', '/home/xuan/miniconda3/envs/sfscore_tools/lib/python3.6/site-packages/IPython/extensions', '/home/xuan/.ipython', '/home/xuan/GitLab/synthetic-field-score/sfscore']\n",
      "Loading model /home/xuan/GitLab/synthetic-field-score/process_reaction_database/saved_model/ecfp4_4096_3_layer_epoch10.pt\n"
     ]
    },
    {
     "data": {
      "text/plain": [
       "<sfscore.SFScore at 0x7fd326caa7b8>"
      ]
     },
     "execution_count": 2,
     "metadata": {},
     "output_type": "execute_result"
    }
   ],
   "source": [
    "import numpy as np\n",
    "import pandas as pd\n",
    "import pickle\n",
    "from rdkit import Chem\n",
    "import matplotlib.pyplot as plt\n",
    "\n",
    "import sys\n",
    "from pathlib import Path\n",
    "root_directory = Path('__file__').parent.parent.resolve()\n",
    "print('root_directory: ', root_directory)\n",
    "project_directory = root_directory.parent\n",
    "print('project_directory: ', project_directory)\n",
    "\n",
    "sfscore_path = project_directory/'sfscore'\n",
    "sys.path.append(str(sfscore_path))\n",
    "print(sys.path)\n",
    "\n",
    "from sfscore import SFScore\n",
    "sfscore_model = SFScore()\n",
    "sfscore_model.load()\n"
   ]
  },
  {
   "cell_type": "code",
   "execution_count": null,
   "metadata": {},
   "outputs": [],
   "source": [
    "def standardize_smiles_list (smi_ls):\n",
    "    # Ref: https://github.com/itai-levin/hybmind/blob/main/analyze_templates/Notebooks/compare_model_outputs.ipynb\n",
    "    std_ls = []\n",
    "    for smi in smi_ls:\n",
    "        mol = Chem.MolFromSmiles(smi)\n",
    "        for atm in mol.GetAtoms():\n",
    "            atm.SetAtomMapNum(0)\n",
    "        std_ls.append(Chem.MolToSmiles(mol))\n",
    "    return std_ls\n",
    "\n",
    "def draw_sfscore_difference_distribution(score_list_1, title):\n",
    "    a= score_list_1[:,0] - score_list_1[:,1]\n",
    "\n",
    "    plt.hist(a, color = \"steelblue\", label = \"in-vivo\", bins=140,alpha = 0.7)\n",
    "\n",
    "    plt.ylabel('Number of molecules')\n",
    "    plt.xlabel('S_Chem - S_Enzy')\n",
    "\n",
    "    plt.show()\n",
    "\n",
    "def get_diff_margin_distribution(score_list,margin_list=[0.05,0.1,0.15,0.2,0.25],title=None):\n",
    "    a= score_list[:,0]\n",
    "    b= score_list[:,1]\n",
    "    sfscore_diff = a - b\n",
    "    for margin in margin_list:\n",
    "        chem_search_idx = [x > margin for x in sfscore_diff]\n",
    "        enzy_search_idx = [x < -margin for x in sfscore_diff]\n",
    "        # overlap_search_idx = np.multiply(enzy_search_idx, chem_search_idx)\n",
    "        overlap_search_idx = [x >= -margin and x <= margin for x in sfscore_diff]\n",
    "        chem_search_precent = sum(chem_search_idx)/len(sfscore_diff)\n",
    "        enzy_search_precent = sum(enzy_search_idx)/len(sfscore_diff)\n",
    "        overlap_search_precent = sum(overlap_search_idx)/len(sfscore_diff)\n",
    "        print(f'margin: {margin}, chem_search_precent: {chem_search_precent:.4%}, enzy_search_precent: {enzy_search_precent:.4%}, overlap_search_precent: {overlap_search_precent:.4%}')\n",
    "    "
   ]
  },
  {
   "attachments": {},
   "cell_type": "markdown",
   "metadata": {},
   "source": [
    "# Process ZINC(in-vitro) database"
   ]
  },
  {
   "cell_type": "code",
   "execution_count": 4,
   "metadata": {},
   "outputs": [],
   "source": [
    "np.random.seed(42)\n",
    "in_vitro = pd.read_csv('../data/in-vitro/in-vitro.csv')\n",
    "rand_inds = np.random.choice(len(in_vitro), 12000)\n",
    "in_vitro = in_vitro.loc[rand_inds, :]\n",
    "in_vitro_subset = standardize_smiles_list(in_vitro['smiles'])"
   ]
  },
  {
   "cell_type": "code",
   "execution_count": 5,
   "metadata": {},
   "outputs": [
    {
     "name": "stdout",
     "output_type": "stream",
     "text": [
      "loaded saved file\n",
      "11003\n"
     ]
    }
   ],
   "source": [
    "try:\n",
    "    in_vitro_in_train = np.load('../data/in-vitro/in_vitro_in_train.npy')\n",
    "    in_vitro_not_in_train_idxs = [x not in in_vitro_in_train for x in in_vitro_subset]\n",
    "    print ('loaded saved file')\n",
    "except:\n",
    "    with open(\"../process_reaction_database/data/bio_products_uni.pkl\",\"rb\") as f:\n",
    "        bio_products_uni = pickle.load(f)\n",
    "    with open(\"../process_reaction_database/data/chem_products_uni.pkl\",\"rb\") as f:\n",
    "        chem_products_uni = pickle.load(f)\n",
    "    sfscore_subset = standardize_smiles_list(bio_products_uni + chem_products_uni)\n",
    "    \n",
    "    in_vitro_in_train = set(sfscore_subset).intersection(in_vitro_subset)\n",
    "    in_vitro_not_in_train_idxs = [x not in in_vitro_in_train for x in in_vitro_subset]\n",
    "    np.save('../data/in-vitro/in_vitro_in_train.npy', np.array(list(in_vitro_in_train)))\n",
    "print (sum(in_vitro_not_in_train_idxs))"
   ]
  },
  {
   "cell_type": "code",
   "execution_count": 6,
   "metadata": {},
   "outputs": [],
   "source": [
    "try:\n",
    "    in_vitro_sfscore = np.load('../data/in-vitro/in_vitro_sfscore.npy')\n",
    "except:\n",
    "    in_vitro_sfscore = sfscore_model.score_from_smi_many(in_vitro_subset)\n",
    "    np.save('../data/in-vitro/in_vitro_sfscore', in_vitro_sfscore)\n",
    "    np.savetxt(\"../data/in-vitro/in_vitro_sfscore.csv\", in_vitro_sfscore[in_vitro_not_in_train_idxs], delimiter=\",\")"
   ]
  },
  {
   "cell_type": "code",
   "execution_count": 7,
   "metadata": {},
   "outputs": [
    {
     "data": {
      "image/png": "[encoded data removed]",
      "text/plain": [
       "<Figure size 432x288 with 1 Axes>"
      ]
     },
     "metadata": {
      "needs_background": "light"
     },
     "output_type": "display_data"
    }
   ],
   "source": [
    "draw_sfscore_difference_distribution(in_vitro_sfscore[in_vitro_not_in_train_idxs],\"Benchmark on in_vitro dataset\")"
   ]
  },
  {
   "cell_type": "code",
   "execution_count": 10,
   "metadata": {},
   "outputs": [
    {
     "name": "stdout",
     "output_type": "stream",
     "text": [
      "margin: 0.05, chem_search_precent: 34.7632%, enzy_search_precent: 56.4937%, overlap_search_precent: 8.7431%\n",
      "margin: 0.1, chem_search_precent: 30.9098%, enzy_search_precent: 52.0767%, overlap_search_precent: 17.0135%\n"
     ]
    },
    {
     "name": "stdout",
     "output_type": "stream",
     "text": [
      "margin: 0.15, chem_search_precent: 25.0023%, enzy_search_precent: 44.0244%, overlap_search_precent: 30.9734%\n",
      "margin: 0.2, chem_search_precent: 16.3683%, enzy_search_precent: 25.2113%, overlap_search_precent: 58.4204%\n",
      "margin: 0.25, chem_search_precent: 8.5340%, enzy_search_precent: 7.0163%, overlap_search_precent: 84.4497%\n"
     ]
    }
   ],
   "source": [
    "get_diff_margin_distribution(in_vitro_sfscore[in_vitro_not_in_train_idxs])"
   ]
  },
  {
   "attachments": {},
   "cell_type": "markdown",
   "metadata": {},
   "source": [
    "# One-step retrosynthesis search\n",
    "Cost around 43.5 hours"
   ]
  },
  {
   "cell_type": "code",
   "execution_count": 8,
   "metadata": {},
   "outputs": [
    {
     "name": "stdout",
     "output_type": "stream",
     "text": [
      "project_directory:  /home/xuan/GitLab/synthetic-field-score\n",
      "INFO@pricer              : [1689046919.814s]\tLoaded prices from flat file\n",
      "INFO@retro_transformer   : [1689046919.815s]\tLoading template prioritizer for RetroTransformer\n",
      "WARNING:tensorflow:SavedModel saved prior to TF 2.5 detected when loading Keras model. Please ensure that you are saving the model with model.save() or tf.keras.models.save_model(), *NOT* tf.saved_model.save(). To confirm, there should be a file named \"keras_metadata.pb\" in the SavedModel directory.\n",
      "WARNING:tensorflow:No training configuration found in save file, so the model was *not* compiled. Compile it manually.\n",
      "INFO@retro_transformer   : [1689046921.982s]\tLoading precursor prioritizer for RetroTransformer\n",
      "INFO@pricer              : [1689046923.000s]\tCannot connect to mongodb to load prices\n",
      "INFO@pricer              : [1689046923.520s]\tLoaded prices from flat file\n",
      "INFO@retro_transformer   : [1689046923.557s]\tLoading fast filter for RetroTransformer\n",
      "INFO@fast_filter         : [1689046923.558s]\tStarting to load fast filter\n",
      "WARNING:tensorflow:SavedModel saved prior to TF 2.5 detected when loading Keras model. Please ensure that you are saving the model with model.save() or tf.keras.models.save_model(), *NOT* tf.saved_model.save(). To confirm, there should be a file named \"keras_metadata.pb\" in the SavedModel directory.\n",
      "WARNING:tensorflow:No training configuration found in save file, so the model was *not* compiled. Compile it manually.\n",
      "INFO@fast_filter         : [1689046924.264s]\tDone loading fast filter\n",
      "INFO@retro_transformer   : [1689046924.266s]\tUsing default clustering for RetroTransformer\n",
      "INFO@retro_transformer   : [1689046924.267s]\tLoading retro-synthetic transformer\n",
      "INFO@retro_transformer   : [1689046924.267s]\treading from file\n",
      "INFO@template_transformer: [1689046924.267s]\tLoading templates from /home/xuan/GitLab/synthetic-field-score/pathway_search_standalone/askcos-core/askcos/data/bkms-data/templates/bkms-and-reaxys-templates.json.gz\n",
      "INFO@template_transformer: [1689046928.310s]\tLoaded templates. Using 7984 templates\n",
      "Loading model /home/xuan/GitLab/synthetic-field-score/process_reaction_database/saved_model/ecfp4_4096_3_layer_epoch10.pt\n",
      "Start unit test.\n",
      "Checking pricer...Done\n"
     ]
    },
    {
     "name": "stderr",
     "output_type": "stream",
     "text": [
      "/opt/conda/conda-bld/pytorch_1591914834915/work/aten/src/ATen/native/BinaryOps.cpp:66: UserWarning: Integer division of tensors using div or / is deprecated, and in a future release div will perform true division as in Python 3. Use true_divide or floor_divide (// in Python) instead.\n"
     ]
    },
    {
     "name": "stdout",
     "output_type": "stream",
     "text": [
      "Checking RXN4Chemistry retro model...Done\n",
      "Checking ASKCOS(Enzy) model...Done\n",
      "Done unit test.\n"
     ]
    }
   ],
   "source": [
    "import json\n",
    "from tqdm import tqdm\n",
    "\n",
    "search_tool_path = project_directory/'pathway_search_standalone'\n",
    "sys.path.append(str(search_tool_path))\n",
    "\n",
    "from scripts.search_utils import hybridSearch\n",
    "\n",
    "hybridSearch = hybridSearch()\n",
    "hybridSearch.unit_test()\n"
   ]
  },
  {
   "cell_type": "code",
   "execution_count": 9,
   "metadata": {},
   "outputs": [],
   "source": [
    "class NumpyFloatValuesEncoder(json.JSONEncoder):\n",
    "    def default(self, obj):\n",
    "        if isinstance(obj, np.float32):\n",
    "            return float(obj)\n",
    "        return JSONEncoder.default(self, obj)"
   ]
  },
  {
   "cell_type": "code",
   "execution_count": 10,
   "metadata": {},
   "outputs": [
    {
     "name": "stderr",
     "output_type": "stream",
     "text": [
      "Working on 11002: 100%|██████████| 12000/12000 [43:34:39<00:00, 13.07s/it, chem_result_list=7, enzy_precursors=15, sfscore=[0.582015335559845, 0.4182663559913635], smiles=COc1cccc(C2(C(F)(F)F)NN2)c1]                                                                                                                                                                                                                          \n"
     ]
    }
   ],
   "source": [
    "i = 0\n",
    "\n",
    "with tqdm(zip(in_vitro_not_in_train_idxs, in_vitro_sfscore, in_vitro_subset),total=len(in_vitro_subset)) as tcal:\n",
    "    for idx,sfscore,smiles in tcal:\n",
    "        if idx:\n",
    "            tcal.set_description(f\"Working on {i}\")\n",
    "\n",
    "            in_vitro_search_result={}\n",
    "            in_vitro_search_result['smiles'] = smiles\n",
    "            in_vitro_search_result['sfscore'] = sfscore.tolist()\n",
    "\n",
    "            # Search chemical reaction\n",
    "            # print(f'Working on {i}, SFScore={sfscore.tolist()}, smiles={smiles}')\n",
    "            chem_result_list = hybridSearch.get_rxn4chem_result(smiles,fap=0)\n",
    "            in_vitro_search_result['chem_result'] = chem_result_list\n",
    "            chem_bw_confidence_list = []\n",
    "            for chem_rxn in chem_result_list:\n",
    "                chem_bw_confidence_list.append(chem_rxn['bw_confidence'])\n",
    "            in_vitro_search_result['chem_bw_confidence_list'] = chem_bw_confidence_list\n",
    "            \n",
    "            # Search enzymatic reaction\n",
    "            enzy_precursors = hybridSearch.askcos_enzy.get_outcomes(smiles,fast_filter_threshold=0, max_num_templates=250, \n",
    "                                                    max_cum_prob=0.9999, cluster_precursors=False, use_ban_list=False,\n",
    "                                                    )\n",
    "            enzy_precursors = enzy_precursors[:15]\n",
    "            enzy_template_score_list = []\n",
    "            for enzy_rxn in enzy_precursors:\n",
    "                enzy_template_score_list.append(enzy_rxn['template_score'])\n",
    "            in_vitro_search_result['enzy_template_score_list'] = enzy_template_score_list\n",
    "            in_vitro_search_result['enzy_result'] = enzy_precursors\n",
    "\n",
    "            tcal.set_postfix(smiles=smiles, sfscore=sfscore.tolist(),chem_result_list=len(chem_result_list), enzy_precursors=len(enzy_precursors))\n",
    "\n",
    "            with open(f\"../data/in_vitro_search_result/in_vitro_{i}.json\", \"w\") as outfile:\n",
    "                json.dump(in_vitro_search_result, outfile, cls=NumpyFloatValuesEncoder)\n",
    "            \n",
    "            i+=1\n"
   ]
  }
 ],
 "metadata": {
  "kernelspec": {
   "display_name": "sfscore_tools",
   "language": "python",
   "name": "python3"
  },
  "language_info": {
   "codemirror_mode": {
    "name": "ipython",
    "version": 3
   },
   "file_extension": ".py",
   "mimetype": "text/x-python",
   "name": "python",
   "nbconvert_exporter": "python",
   "pygments_lexer": "ipython3",
   "version": "3.6.13"
  },
  "orig_nbformat": 4
 },
 "nbformat": 4,
 "nbformat_minor": 2
}
