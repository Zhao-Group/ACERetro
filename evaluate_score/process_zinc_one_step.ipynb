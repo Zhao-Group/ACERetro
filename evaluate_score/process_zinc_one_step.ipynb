{
 "cells": [
  {
   "cell_type": "code",
   "execution_count": 6,
   "metadata": {},
   "outputs": [],
   "source": [
    "import json\n",
    "import pandas as pd\n",
    "import numpy as np\n",
    "from scipy.stats import pearsonr"
   ]
  },
  {
   "cell_type": "code",
   "execution_count": 2,
   "metadata": {},
   "outputs": [],
   "source": [
    "# List SFScores, backward confidence, and template score\n",
    "try:\n",
    "    zinc_sfscore_retro_result = pd.read_csv('../data/in-vitro/zinc_sfscore_retro_result.csv',index_col=0)\n",
    "except:\n",
    "    top_list = [5]\n",
    "    for top in top_list:\n",
    "        sfchem_list = []\n",
    "        sfenzy_list = []\n",
    "        sfdiff_list = []\n",
    "        top_bw_confidence = []\n",
    "        top_template_score = []\n",
    "        for i in range(11003):\n",
    "            path = f'../data/in_vitro_search_result/in_vitro_{i}.json'\n",
    "            with open(path, \"r\") as outfile:\n",
    "                result_dict = json.load(outfile)\n",
    "            sfscore_chem=result_dict['sfscore'][0]\n",
    "            sfscore_enzy=result_dict['sfscore'][1]\n",
    "            sfscore_diff=result_dict['sfscore'][0]-result_dict['sfscore'][1]\n",
    "            sfchem_list.append(sfscore_chem)\n",
    "            sfenzy_list.append(sfscore_enzy)\n",
    "            sfdiff_list.append(sfscore_diff)\n",
    "            top_bw_confidence.append(sum(result_dict['chem_bw_confidence_list'][:top])/top)\n",
    "            top_template_score.append(sum(result_dict['enzy_template_score_list'][:top])/top)\n",
    "    zinc_sfscore_retro_result = pd.DataFrame([sfchem_list,sfenzy_list,sfdiff_list,top_bw_confidence,top_template_score]).T\n",
    "    zinc_sfscore_retro_result.to_csv('../data/in-vitro/zinc_sfscore_retro_result.csv')"
   ]
  },
  {
   "cell_type": "code",
   "execution_count": 12,
   "metadata": {},
   "outputs": [
    {
     "name": "stdout",
     "output_type": "stream",
     "text": [
      "sfchem_list vs. top_bw_confidence pearsonr corr: 0.6068061419463089, p_value: 0.00000e+00\n",
      "sfenzy_list vs. top_template_score pearsonr corr: 0.3559831551757154, p_value: 0.00000e+00\n",
      "sfdiff_list vs. top_bw_confidence pearsonr corr: 0.6018628875611666, p_value: 0.00000e+00\n",
      "sfdiff_list vs. top_template_score pearsonr corr: -0.35231115479521097, p_value: 5.52069e-319\n"
     ]
    }
   ],
   "source": [
    "zinc_sfscore_retro_result.columns = ['sfchem_list','sfenzy_list','sfdiff_list','top_bw_confidence','top_template_score']\n",
    "corr, p_value = pearsonr(zinc_sfscore_retro_result['sfchem_list'],zinc_sfscore_retro_result['top_bw_confidence'])\n",
    "print(f'sfchem_list vs. top_bw_confidence pearsonr corr: {corr}, p_value: {p_value:.5e}')\n",
    "corr, p_value = pearsonr(zinc_sfscore_retro_result['sfenzy_list'],zinc_sfscore_retro_result['top_template_score'])\n",
    "print(f'sfenzy_list vs. top_template_score pearsonr corr: {corr}, p_value: {p_value:.5e}')\n",
    "corr, p_value = pearsonr(zinc_sfscore_retro_result['sfdiff_list'],zinc_sfscore_retro_result['top_bw_confidence'])\n",
    "print(f'sfdiff_list vs. top_bw_confidence pearsonr corr: {corr}, p_value: {p_value:.5e}')\n",
    "corr, p_value = pearsonr(zinc_sfscore_retro_result['sfdiff_list'],zinc_sfscore_retro_result['top_template_score'])\n",
    "print(f'sfdiff_list vs. top_template_score pearsonr corr: {corr}, p_value: {p_value:.5e}')\n"
   ]
  },
  {
   "cell_type": "code",
   "execution_count": 11,
   "metadata": {},
   "outputs": [
    {
     "data": {
      "text/plain": [
       "mpf('0.0')"
      ]
     },
     "execution_count": 11,
     "metadata": {},
     "output_type": "execute_result"
    }
   ],
   "source": [
    "from mpmath import mp\n",
    "mp.dps = 100\n",
    "mp_p_value = mp.mpf(p_value)\n",
    "mp_p_value"
   ]
  },
  {
   "cell_type": "code",
   "execution_count": 52,
   "metadata": {},
   "outputs": [],
   "source": [
    "# Compare SFScore difference with backward confidence and template score\n",
    "top_list = [5]\n",
    "columns_name = ['[-1,-0.3)','[-0.3,-0.15)','[-0.15,0)','[0,0.15)','[0.15,0.3)','[0.3,1)']\n",
    "for top in top_list:\n",
    "    top_chem_bw_confidence = [[],[],[],[],[],[]]\n",
    "    top_enzy_template_score = [[],[],[],[],[],[]]\n",
    "    for i in range(11003):\n",
    "        path = f'../data/in_vitro_search_result/in_vitro_{i}.json'\n",
    "        with open(path, \"r\") as outfile:\n",
    "            result_dict = json.load(outfile)\n",
    "        sfscore_diff=result_dict['sfscore'][0]-result_dict['sfscore'][1]\n",
    "        if sfscore_diff < -0.3:\n",
    "            top_chem_bw_confidence[0].append(sum(result_dict['chem_bw_confidence_list'][:top])/top)\n",
    "            top_enzy_template_score[0].append(sum(list(set(result_dict['enzy_template_score_list']))[:top])/top)\n",
    "        elif sfscore_diff < -0.15:\n",
    "            top_chem_bw_confidence[1].append(sum(result_dict['chem_bw_confidence_list'][:top])/top)\n",
    "            top_enzy_template_score[1].append(sum(list(set(result_dict['enzy_template_score_list']))[:top])/top)\n",
    "        elif sfscore_diff < 0:\n",
    "            top_chem_bw_confidence[2].append(sum(result_dict['chem_bw_confidence_list'][:top])/top)\n",
    "            top_enzy_template_score[2].append(sum(list(set(result_dict['enzy_template_score_list']))[:top])/top)\n",
    "        elif sfscore_diff < 0.15:\n",
    "            top_chem_bw_confidence[3].append(sum(result_dict['chem_bw_confidence_list'][:top])/top)\n",
    "            top_enzy_template_score[3].append(sum(list(set(result_dict['enzy_template_score_list']))[:top])/top)\n",
    "        elif sfscore_diff < 0.3:\n",
    "            top_chem_bw_confidence[4].append(sum(result_dict['chem_bw_confidence_list'][:top])/top)\n",
    "            top_enzy_template_score[4].append(sum(list(set(result_dict['enzy_template_score_list']))[:top])/top)\n",
    "        else:\n",
    "            top_chem_bw_confidence[5].append(sum(result_dict['chem_bw_confidence_list'][:top])/top)\n",
    "            top_enzy_template_score[5].append(sum(list(set(result_dict['enzy_template_score_list']))[:top])/top)\n",
    "\n",
    "    top_chem_bw_confidence_pd = pd.DataFrame(top_chem_bw_confidence).T\n",
    "    top_chem_bw_confidence_pd.to_csv(f'../data/in-vitro/zinc_top{top}_sfdiff_bw_confidence_pd.csv')\n",
    "    top_enzy_template_score_pd = pd.DataFrame(top_enzy_template_score).T\n",
    "    top_enzy_template_score_pd.to_csv(f'../data/in-vitro/zinc_top{top}_sfdiff_template_score_pd.csv')"
   ]
  },
  {
   "cell_type": "code",
   "execution_count": 51,
   "metadata": {},
   "outputs": [],
   "source": [
    "# Compare SFScore with backward confidence and template score\n",
    "top_list = [5]\n",
    "columns_name = ['[0,0.35)','[0.35,0.5)','[0.5,0.65)','[0.65,1)']\n",
    "\n",
    "for top in top_list:\n",
    "    top_sfchem_bw_confidence = [[],[],[],[]]\n",
    "    top_sfenzy_template_score = [[],[],[],[]]\n",
    "    for i in range(11003):\n",
    "        path = f'../data/in_vitro_search_result/in_vitro_{i}.json'\n",
    "        with open(path, \"r\") as outfile:\n",
    "            result_dict = json.load(outfile)\n",
    "        sfscore_chem=result_dict['sfscore'][0]\n",
    "        sfscore_enzy=result_dict['sfscore'][1]\n",
    "        if sfscore_chem < 0.35:\n",
    "            top_sfchem_bw_confidence[0].append(sum(result_dict['chem_bw_confidence_list'][:top])/top)\n",
    "        elif sfscore_chem < 0.5:\n",
    "            top_sfchem_bw_confidence[1].append(sum(result_dict['chem_bw_confidence_list'][:top])/top)\n",
    "        elif sfscore_chem < 0.65:\n",
    "            top_sfchem_bw_confidence[2].append(sum(result_dict['chem_bw_confidence_list'][:top])/top)\n",
    "        else:\n",
    "            top_sfchem_bw_confidence[3].append(sum(result_dict['chem_bw_confidence_list'][:top])/top)\n",
    "        \n",
    "        if sfscore_enzy < 0.35:\n",
    "            top_sfenzy_template_score[0].append(sum(list(set(result_dict['enzy_template_score_list']))[:top])/top)\n",
    "        elif sfscore_enzy < 0.5:\n",
    "            top_sfenzy_template_score[1].append(sum(list(set(result_dict['enzy_template_score_list']))[:top])/top)\n",
    "        elif sfscore_enzy < 0.65:\n",
    "            top_sfenzy_template_score[2].append(sum(list(set(result_dict['enzy_template_score_list']))[:top])/top)\n",
    "        else:\n",
    "            top_sfenzy_template_score[3].append(sum(list(set(result_dict['enzy_template_score_list']))[:top])/top)\n",
    "    top_sfchem_bw_confidence_pd = pd.DataFrame(top_sfchem_bw_confidence).T\n",
    "    top_sfchem_bw_confidence_pd.to_csv(f'../data/in-vitro/zinc_top{top}_sfchem_bw_confidence_pd.csv')\n",
    "    top_sfenzy_template_score_pd = pd.DataFrame(top_sfenzy_template_score).T\n",
    "    top_sfenzy_template_score_pd.to_csv(f'../data/in-vitro/zinc_top{top}_sfenzy_template_score_pd.csv')"
   ]
  }
 ],
 "metadata": {
  "kernelspec": {
   "display_name": "sfscore_tools",
   "language": "python",
   "name": "python3"
  },
  "language_info": {
   "codemirror_mode": {
    "name": "ipython",
    "version": 3
   },
   "file_extension": ".py",
   "mimetype": "text/x-python",
   "name": "python",
   "nbconvert_exporter": "python",
   "pygments_lexer": "ipython3",
   "version": "3.6.13"
  },
  "orig_nbformat": 4
 },
 "nbformat": 4,
 "nbformat_minor": 2
}
