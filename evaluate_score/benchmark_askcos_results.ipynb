{
 "cells": [
  {
   "attachments": {},
   "cell_type": "markdown",
   "metadata": {},
   "source": [
    "# Get ASKCOS results"
   ]
  },
  {
   "cell_type": "code",
   "execution_count": 1,
   "metadata": {},
   "outputs": [
    {
     "name": "stdout",
     "output_type": "stream",
     "text": [
      "root_directory:  /home/xuan/GitLab/AceRetro/evaluate_score\n",
      "project_directory:  /home/xuan/GitLab/AceRetro\n"
     ]
    }
   ],
   "source": [
    "import sys\n",
    "from pathlib import Path\n",
    "root_directory = Path('__file__').parent.parent.resolve()\n",
    "print('root_directory: ', root_directory)\n",
    "project_directory = root_directory.parent\n",
    "print('project_directory: ', project_directory)\n",
    "search_tool_path = project_directory/'pathway_search_standalone'\n",
    "sys.path.append(str(search_tool_path))\n",
    "sfscore_path = project_directory/'sfscore'\n",
    "sys.path.append(str(sfscore_path))\n",
    "from sfscore import SFScore\n",
    "from scripts.utils import *\n",
    "from scripts.process_utils import (compare_results_with_askcos,\n",
    "                                   print_rxns,print_bypass_rxns,\n",
    "                                   print_rxns_list)\n",
    "from rdkit.Chem import AllChem as Chem\n",
    "import networkx as nx\n",
    "import numpy as np\n",
    "import json\n",
    "import gzip"
   ]
  },
  {
   "cell_type": "code",
   "execution_count": 2,
   "metadata": {},
   "outputs": [
    {
     "name": "stdout",
     "output_type": "stream",
     "text": [
      "Loading model /home/xuan/GitLab/AceRetro/process_reaction_database/saved_model/ecfp4_4096_3_layer_epoch10.pt\n"
     ]
    },
    {
     "data": {
      "text/plain": [
       "<sfscore.SFScore at 0x7f52065bc828>"
      ]
     },
     "execution_count": 2,
     "metadata": {},
     "output_type": "execute_result"
    }
   ],
   "source": [
    "sfscore_model = SFScore()\n",
    "sfscore_model.load()"
   ]
  },
  {
   "cell_type": "code",
   "execution_count": 3,
   "metadata": {},
   "outputs": [
    {
     "name": "stdout",
     "output_type": "stream",
     "text": [
      "1001\n"
     ]
    }
   ],
   "source": [
    "# 1.5 min\n",
    "path = '../../hybmind/data/boutique_1000_retrosynthesis_graphs.json.gz'\n",
    "with gzip.open(path, 'r') as fin:\n",
    "    graph_dict = json.loads(fin.read().decode('utf-8'))\n",
    "print(len(graph_dict))"
   ]
  },
  {
   "cell_type": "code",
   "execution_count": 4,
   "metadata": {},
   "outputs": [
    {
     "name": "stdout",
     "output_type": "stream",
     "text": [
      "Short Paths found\n"
     ]
    }
   ],
   "source": [
    "# 7min\n",
    "askcos_shortest_path_dict = {}\n",
    "askcos_spg_dict = {}\n",
    "\n",
    "for smiles in graph_dict:\n",
    "    askcos_shortest_path_dict[smiles] = {}\n",
    "    askcos_spg_dict[smiles] = {}\n",
    "\n",
    "    for prioritizer in graph_dict[smiles]:\n",
    "        try:\n",
    "            g = nx.node_link_graph(graph_dict[smiles][prioritizer]['output'])\n",
    "            g = g.reverse()\n",
    "\n",
    "            if g and len(g.nodes)>1:\n",
    "                std_smiles = Chem.MolToSmiles(Chem.MolFromSmiles(smiles))\n",
    "                chem_nodes = [n for n in g.nodes if '>>' not in n]\n",
    "                starting_nodes = [n for n in chem_nodes if g.nodes[n]['terminal']]\n",
    "                s_p_g = metabolic_dijkstra(g, starting_nodes)\n",
    "                askcos_spg_dict[smiles][prioritizer] = s_p_g\n",
    "                try:\n",
    "                    askcos_shortest_path_dict[smiles][prioritizer] = s_p_g.nodes[std_smiles]['path_length']\n",
    "                except:\n",
    "                    askcos_shortest_path_dict[smiles][prioritizer] = s_p_g.nodes[smiles]['path_length']\n",
    "\n",
    "            else:\n",
    "                print ('No Graph for', smiles, prioritizer)\n",
    "        except:\n",
    "            print ('Graph retrieval failed for', smiles, prioritizer)\n",
    "\n",
    "print ('Short Paths found')"
   ]
  },
  {
   "cell_type": "code",
   "execution_count": 5,
   "metadata": {},
   "outputs": [
    {
     "data": {
      "text/plain": [
       "{'type': 'chemical',\n",
       " 'as_reactant': 0,\n",
       " 'purchase_price': 0.0,\n",
       " 'as_product': 0,\n",
       " 'terminal': False,\n",
       " 'path_length': 1,\n",
       " 'visited': False,\n",
       " 'shortest_pathway': ['N[C@H](CC(=O)O)C(=O)O.N[C@H](CO)C(=O)O>>N[C@H](CO)C(=O)N[C@H](CC(=O)O)C(=O)O']}"
      ]
     },
     "execution_count": 5,
     "metadata": {},
     "output_type": "execute_result"
    }
   ],
   "source": [
    "smi = 'N[C@H](CO)C(=O)N[C@H](CC(=O)O)C(=O)O'\n",
    "askcos_spg_dict[smi]['bkms,reaxys'].nodes[smi]"
   ]
  },
  {
   "cell_type": "code",
   "execution_count": 6,
   "metadata": {},
   "outputs": [],
   "source": [
    "shortest_paths = pd.DataFrame(askcos_shortest_path_dict).T    \n",
    "# shortest_paths_cascade = pd.DataFrame(shortest_path_cascade_dict).T\n",
    "any_path_found = shortest_paths.copy()\n",
    "for idx in shortest_paths.index:\n",
    "    for col in shortest_paths.columns:\n",
    "        addl_data = shortest_paths.loc[idx, col]\n",
    "        if addl_data < np.inf:\n",
    "            any_path_found.loc[idx, col] = 1\n",
    "        elif addl_data > 12:\n",
    "            any_path_found.loc[idx, col] = 0\n",
    "any_path_found = any_path_found.dropna(axis=0)\n",
    "any_path_found = any_path_found>0"
   ]
  },
  {
   "cell_type": "code",
   "execution_count": 7,
   "metadata": {},
   "outputs": [
    {
     "data": {
      "text/html": [
       "<div>\n",
       "<style scoped>\n",
       "    .dataframe tbody tr th:only-of-type {\n",
       "        vertical-align: middle;\n",
       "    }\n",
       "\n",
       "    .dataframe tbody tr th {\n",
       "        vertical-align: top;\n",
       "    }\n",
       "\n",
       "    .dataframe thead th {\n",
       "        text-align: right;\n",
       "    }\n",
       "</style>\n",
       "<table border=\"1\" class=\"dataframe\">\n",
       "  <thead>\n",
       "    <tr style=\"text-align: right;\">\n",
       "      <th></th>\n",
       "      <th>bkms,reaxys</th>\n",
       "      <th>bkms</th>\n",
       "      <th>reaxys</th>\n",
       "    </tr>\n",
       "  </thead>\n",
       "  <tbody>\n",
       "    <tr>\n",
       "      <th>CC[C@H](C)N(C[C@@H](O)c1cccn1Cc1ccccc1Cl)[C@@H](C)CC</th>\n",
       "      <td>inf</td>\n",
       "      <td>inf</td>\n",
       "      <td>10.0</td>\n",
       "    </tr>\n",
       "    <tr>\n",
       "      <th>C=C(C)[C@@H]1CC=C(C)C[C@@H]1O</th>\n",
       "      <td>1.0</td>\n",
       "      <td>1.0</td>\n",
       "      <td>inf</td>\n",
       "    </tr>\n",
       "    <tr>\n",
       "      <th>C[C@H](C(=O)CC[C@@H](C)CO)[C@H]1C(=O)C[C@H]2[C@@H]3CC=C4C[C@@H](O)CC[C@]4(C)[C@H]3CC[C@@]21C</th>\n",
       "      <td>inf</td>\n",
       "      <td>inf</td>\n",
       "      <td>inf</td>\n",
       "    </tr>\n",
       "    <tr>\n",
       "      <th>C=CC1=C(C)[C@@H](CC2=N/C(=C3\\c4[nH]c(Cc5[nH]c(C=O)c(C)c5CC)c(C)c4C(=O)[C@@H]3C(=O)OC)[C@@H](CCC(=O)O)[C@@H]2C)NC1=O</th>\n",
       "      <td>inf</td>\n",
       "      <td>inf</td>\n",
       "      <td>inf</td>\n",
       "    </tr>\n",
       "    <tr>\n",
       "      <th>O=C(COP(=O)(O)O)[C@H](O)[C@H](O)CO</th>\n",
       "      <td>1.0</td>\n",
       "      <td>2.0</td>\n",
       "      <td>1.0</td>\n",
       "    </tr>\n",
       "    <tr>\n",
       "      <th>...</th>\n",
       "      <td>...</td>\n",
       "      <td>...</td>\n",
       "      <td>...</td>\n",
       "    </tr>\n",
       "    <tr>\n",
       "      <th>C=C(C)[C@H](CC=C(C)C)Cc1c(O)cc(OC)c2c1O[C@H](c1ccc(O)cc1O)[C@H](O)C2=O</th>\n",
       "      <td>inf</td>\n",
       "      <td>inf</td>\n",
       "      <td>inf</td>\n",
       "    </tr>\n",
       "    <tr>\n",
       "      <th>c1ccc(-c2nc(N3CCNCC3)cc3ccccc23)cc1</th>\n",
       "      <td>2.0</td>\n",
       "      <td>inf</td>\n",
       "      <td>2.0</td>\n",
       "    </tr>\n",
       "    <tr>\n",
       "      <th>CC1(C)O[C@](C)([C@H]2CC[C@](C)(Cl)[C@@H](Br)C2)[C@H](O)C[C@H]1Br</th>\n",
       "      <td>inf</td>\n",
       "      <td>inf</td>\n",
       "      <td>inf</td>\n",
       "    </tr>\n",
       "    <tr>\n",
       "      <th>CNC(=O)CCC(=O)c1cccnc1</th>\n",
       "      <td>2.0</td>\n",
       "      <td>2.0</td>\n",
       "      <td>2.0</td>\n",
       "    </tr>\n",
       "    <tr>\n",
       "      <th>CCCCCC(=O)/C=C/[C@H]1[C@H](O)C[C@H](O)[C@@H]1CC(=O)CCCCC(=O)O</th>\n",
       "      <td>inf</td>\n",
       "      <td>inf</td>\n",
       "      <td>inf</td>\n",
       "    </tr>\n",
       "  </tbody>\n",
       "</table>\n",
       "<p>1001 rows × 3 columns</p>\n",
       "</div>"
      ],
      "text/plain": [
       "                                                    bkms,reaxys  bkms  reaxys\n",
       "CC[C@H](C)N(C[C@@H](O)c1cccn1Cc1ccccc1Cl)[C@@H]...          inf   inf    10.0\n",
       "C=C(C)[C@@H]1CC=C(C)C[C@@H]1O                               1.0   1.0     inf\n",
       "C[C@H](C(=O)CC[C@@H](C)CO)[C@H]1C(=O)C[C@H]2[C@...          inf   inf     inf\n",
       "C=CC1=C(C)[C@@H](CC2=N/C(=C3\\c4[nH]c(Cc5[nH]c(C...          inf   inf     inf\n",
       "O=C(COP(=O)(O)O)[C@H](O)[C@H](O)CO                          1.0   2.0     1.0\n",
       "...                                                         ...   ...     ...\n",
       "C=C(C)[C@H](CC=C(C)C)Cc1c(O)cc(OC)c2c1O[C@H](c1...          inf   inf     inf\n",
       "c1ccc(-c2nc(N3CCNCC3)cc3ccccc23)cc1                         2.0   inf     2.0\n",
       "CC1(C)O[C@](C)([C@H]2CC[C@](C)(Cl)[C@@H](Br)C2)...          inf   inf     inf\n",
       "CNC(=O)CCC(=O)c1cccnc1                                      2.0   2.0     2.0\n",
       "CCCCCC(=O)/C=C/[C@H]1[C@H](O)C[C@H](O)[C@@H]1CC...          inf   inf     inf\n",
       "\n",
       "[1001 rows x 3 columns]"
      ]
     },
     "execution_count": 7,
     "metadata": {},
     "output_type": "execute_result"
    }
   ],
   "source": [
    "shortest_paths"
   ]
  },
  {
   "cell_type": "code",
   "execution_count": 8,
   "metadata": {},
   "outputs": [
    {
     "data": {
      "text/html": [
       "<div>\n",
       "<style scoped>\n",
       "    .dataframe tbody tr th:only-of-type {\n",
       "        vertical-align: middle;\n",
       "    }\n",
       "\n",
       "    .dataframe tbody tr th {\n",
       "        vertical-align: top;\n",
       "    }\n",
       "\n",
       "    .dataframe thead th {\n",
       "        text-align: right;\n",
       "    }\n",
       "</style>\n",
       "<table border=\"1\" class=\"dataframe\">\n",
       "  <thead>\n",
       "    <tr style=\"text-align: right;\">\n",
       "      <th></th>\n",
       "      <th>bkms,reaxys</th>\n",
       "      <th>bkms</th>\n",
       "      <th>reaxys</th>\n",
       "    </tr>\n",
       "  </thead>\n",
       "  <tbody>\n",
       "    <tr>\n",
       "      <th>CC[C@H](C)N(C[C@@H](O)c1cccn1Cc1ccccc1Cl)[C@@H](C)CC</th>\n",
       "      <td>False</td>\n",
       "      <td>False</td>\n",
       "      <td>True</td>\n",
       "    </tr>\n",
       "    <tr>\n",
       "      <th>C=C(C)[C@@H]1CC=C(C)C[C@@H]1O</th>\n",
       "      <td>True</td>\n",
       "      <td>True</td>\n",
       "      <td>False</td>\n",
       "    </tr>\n",
       "    <tr>\n",
       "      <th>C[C@H](C(=O)CC[C@@H](C)CO)[C@H]1C(=O)C[C@H]2[C@@H]3CC=C4C[C@@H](O)CC[C@]4(C)[C@H]3CC[C@@]21C</th>\n",
       "      <td>False</td>\n",
       "      <td>False</td>\n",
       "      <td>False</td>\n",
       "    </tr>\n",
       "    <tr>\n",
       "      <th>C=CC1=C(C)[C@@H](CC2=N/C(=C3\\c4[nH]c(Cc5[nH]c(C=O)c(C)c5CC)c(C)c4C(=O)[C@@H]3C(=O)OC)[C@@H](CCC(=O)O)[C@@H]2C)NC1=O</th>\n",
       "      <td>False</td>\n",
       "      <td>False</td>\n",
       "      <td>False</td>\n",
       "    </tr>\n",
       "    <tr>\n",
       "      <th>O=C(COP(=O)(O)O)[C@H](O)[C@H](O)CO</th>\n",
       "      <td>True</td>\n",
       "      <td>True</td>\n",
       "      <td>True</td>\n",
       "    </tr>\n",
       "    <tr>\n",
       "      <th>...</th>\n",
       "      <td>...</td>\n",
       "      <td>...</td>\n",
       "      <td>...</td>\n",
       "    </tr>\n",
       "    <tr>\n",
       "      <th>C=C(C)[C@H](CC=C(C)C)Cc1c(O)cc(OC)c2c1O[C@H](c1ccc(O)cc1O)[C@H](O)C2=O</th>\n",
       "      <td>False</td>\n",
       "      <td>False</td>\n",
       "      <td>False</td>\n",
       "    </tr>\n",
       "    <tr>\n",
       "      <th>c1ccc(-c2nc(N3CCNCC3)cc3ccccc23)cc1</th>\n",
       "      <td>True</td>\n",
       "      <td>False</td>\n",
       "      <td>True</td>\n",
       "    </tr>\n",
       "    <tr>\n",
       "      <th>CC1(C)O[C@](C)([C@H]2CC[C@](C)(Cl)[C@@H](Br)C2)[C@H](O)C[C@H]1Br</th>\n",
       "      <td>False</td>\n",
       "      <td>False</td>\n",
       "      <td>False</td>\n",
       "    </tr>\n",
       "    <tr>\n",
       "      <th>CNC(=O)CCC(=O)c1cccnc1</th>\n",
       "      <td>True</td>\n",
       "      <td>True</td>\n",
       "      <td>True</td>\n",
       "    </tr>\n",
       "    <tr>\n",
       "      <th>CCCCCC(=O)/C=C/[C@H]1[C@H](O)C[C@H](O)[C@@H]1CC(=O)CCCCC(=O)O</th>\n",
       "      <td>False</td>\n",
       "      <td>False</td>\n",
       "      <td>False</td>\n",
       "    </tr>\n",
       "  </tbody>\n",
       "</table>\n",
       "<p>1001 rows × 3 columns</p>\n",
       "</div>"
      ],
      "text/plain": [
       "                                                    bkms,reaxys   bkms  reaxys\n",
       "CC[C@H](C)N(C[C@@H](O)c1cccn1Cc1ccccc1Cl)[C@@H]...        False  False    True\n",
       "C=C(C)[C@@H]1CC=C(C)C[C@@H]1O                              True   True   False\n",
       "C[C@H](C(=O)CC[C@@H](C)CO)[C@H]1C(=O)C[C@H]2[C@...        False  False   False\n",
       "C=CC1=C(C)[C@@H](CC2=N/C(=C3\\c4[nH]c(Cc5[nH]c(C...        False  False   False\n",
       "O=C(COP(=O)(O)O)[C@H](O)[C@H](O)CO                         True   True    True\n",
       "...                                                         ...    ...     ...\n",
       "C=C(C)[C@H](CC=C(C)C)Cc1c(O)cc(OC)c2c1O[C@H](c1...        False  False   False\n",
       "c1ccc(-c2nc(N3CCNCC3)cc3ccccc23)cc1                        True  False    True\n",
       "CC1(C)O[C@](C)([C@H]2CC[C@](C)(Cl)[C@@H](Br)C2)...        False  False   False\n",
       "CNC(=O)CCC(=O)c1cccnc1                                     True   True    True\n",
       "CCCCCC(=O)/C=C/[C@H]1[C@H](O)C[C@H](O)[C@@H]1CC...        False  False   False\n",
       "\n",
       "[1001 rows x 3 columns]"
      ]
     },
     "execution_count": 8,
     "metadata": {},
     "output_type": "execute_result"
    }
   ],
   "source": [
    "any_path_found"
   ]
  },
  {
   "cell_type": "code",
   "execution_count": 9,
   "metadata": {},
   "outputs": [
    {
     "data": {
      "text/plain": [
       "493"
      ]
     },
     "execution_count": 9,
     "metadata": {},
     "output_type": "execute_result"
    }
   ],
   "source": [
    "len(shortest_paths[shortest_paths.loc[:, 'bkms,reaxys']<np.inf])"
   ]
  },
  {
   "cell_type": "code",
   "execution_count": 11,
   "metadata": {},
   "outputs": [],
   "source": [
    "max_depth = 10\n",
    "max_trees = 5000\n",
    "validate_paths = True\n",
    "NIL_UUID = '00000000-0000-0000-0000-000000000000'"
   ]
  },
  {
   "cell_type": "code",
   "execution_count": 3,
   "metadata": {},
   "outputs": [
    {
     "name": "stdout",
     "output_type": "stream",
     "text": [
      "Loading data from files.\n"
     ]
    }
   ],
   "source": [
    "# 36 min\n",
    "try:\n",
    "    with open(f\"../data/askcos_benchmark_result/enumerated_paths_in_hybrid.json\", \"r\") as outfile:\n",
    "        enumerated_paths_in_hybrid = json.load(outfile)\n",
    "    with open(f\"../data/askcos_benchmark_result/molecule_label_in_all_paths_found.json\", \"r\") as outfile:\n",
    "        molecule_label_in_all_paths_found = json.load(outfile)\n",
    "    with open(f\"../data/askcos_benchmark_result/molecule_label_in_shortest_paths_found.json\", \"r\") as outfile:\n",
    "        molecule_label_in_shortest_paths_found = json.load(outfile)\n",
    "    print('Loading data from files.')\n",
    "except:\n",
    "    print('Running the script ...')\n",
    "    enumerated_paths_in_hybrid = {}\n",
    "    molecule_label_in_all_paths_found = {}\n",
    "    molecule_label_in_shortest_paths_found = {}\n",
    "\n",
    "    path_num_count = 0\n",
    "    rxn_num_count = 0\n",
    "    shortest_path_num_count = 0\n",
    "    shortest_rxn_num_count = 0\n",
    "\n",
    "    #for smiles in shortest_paths[shortest_paths.loc[:, 'bkms,reaxys']<2].index:\n",
    "\n",
    "    for smiles in shortest_paths[shortest_paths.loc[:, 'bkms,reaxys']<np.inf].index:\n",
    "        g = askcos_spg_dict[smiles]['bkms,reaxys']\n",
    "        std_smiles = Chem.MolToSmiles(Chem.MolFromSmiles(smiles))\n",
    "        try:\n",
    "            shortest_path = g.nodes[smiles]['shortest_pathway']\n",
    "        except:\n",
    "            shortest_path = g.nodes[std_smiles]['shortest_pathway']\n",
    "        \n",
    "        paths = get_paths(\n",
    "    #                    graph_dict[smiles]['bkms,reaxys'].reverse(),\n",
    "                        nx.node_link_graph(graph_dict[smiles]['bkms,reaxys']['output']),\n",
    "                        root=smiles,\n",
    "                        root_uuid=NIL_UUID,\n",
    "                        max_depth=max_depth,\n",
    "                        max_trees=max_trees,\n",
    "                        validate_paths=validate_paths,\n",
    "                    )\n",
    "        all_paths = nx_paths_to_json(paths, NIL_UUID)\n",
    "        enumerated_paths_in_hybrid[smiles] = all_paths\n",
    "\n",
    "        shortest_path_length = shortest_paths.loc[smiles, 'bkms,reaxys']\n",
    "        \n",
    "        for path in all_paths:\n",
    "            rxn_list = get_all_children(path)\n",
    "            path_length = len(rxn_list)\n",
    "            path_num_count += 1\n",
    "            if shortest_path_length == path_length:\n",
    "                shortest_path_num_count += 1\n",
    "                for rxn in rxn_list:\n",
    "                    rxn_num_count += 1\n",
    "                    shortest_rxn_num_count += 1\n",
    "                    product = rxn.split('>>')[-1]\n",
    "                    if product not in molecule_label_in_all_paths_found:\n",
    "                        molecule_label_in_all_paths_found[product] = {'any_bkms':False,'any_reaxys':False}\n",
    "                    if product not in molecule_label_in_shortest_paths_found:\n",
    "                        molecule_label_in_shortest_paths_found[product] = {'any_bkms':False,'any_reaxys':False}\n",
    "                    if 'bkms' in g.nodes[rxn]['template_set']:\n",
    "                        molecule_label_in_all_paths_found[product]['any_bkms'] = True\n",
    "                        molecule_label_in_shortest_paths_found[product]['any_bkms'] = True\n",
    "                    if 'reaxys' in g.nodes[rxn]['template_set']:\n",
    "                        molecule_label_in_all_paths_found[product]['any_reaxys'] = True\n",
    "                        molecule_label_in_shortest_paths_found[product]['any_reaxys'] = True\n",
    "            else:\n",
    "                for rxn in rxn_list:\n",
    "                    rxn_num_count += 1\n",
    "                    product = rxn.split('>>')[-1]\n",
    "                    if product not in molecule_label_in_all_paths_found:\n",
    "                        molecule_label_in_all_paths_found[product] = {'any_bkms':False,'any_reaxys':False}\n",
    "                    if 'bkms' in g.nodes[rxn]['template_set']:\n",
    "                        molecule_label_in_all_paths_found[product]['any_bkms'] = True\n",
    "                    if 'reaxys' in g.nodes[rxn]['template_set']:\n",
    "                        molecule_label_in_all_paths_found[product]['any_reaxys'] = True\n",
    "    with open(f\"../data/askcos_benchmark_result/enumerated_paths_in_hybrid.json\", \"w\") as outfile:\n",
    "        json.dump(enumerated_paths_in_hybrid, outfile)\n",
    "    with open(f\"../data/askcos_benchmark_result/molecule_label_in_all_paths_found.json\", \"w\") as outfile:\n",
    "        json.dump(molecule_label_in_all_paths_found, outfile)\n",
    "    with open(f\"../data/askcos_benchmark_result/molecule_label_in_shortest_paths_found.json\", \"w\") as outfile:\n",
    "        json.dump(molecule_label_in_shortest_paths_found, outfile)\n",
    "    print('Files saved')"
   ]
  },
  {
   "cell_type": "code",
   "execution_count": 12,
   "metadata": {},
   "outputs": [
    {
     "name": "stdout",
     "output_type": "stream",
     "text": [
      "\n",
      "path_num_count = 397040\n",
      "rxn_num_count = 3719157\n",
      "shortest_path_num_count = 1531\n",
      "shortest_rxn_num_count = 5383\n",
      "molecule_label_in_all_paths_found = 26741\n",
      "molecule_label_in_shortest_paths_found = 1544\n",
      "\n"
     ]
    }
   ],
   "source": [
    "molecule_label_in_all_paths_found = {}\n",
    "molecule_label_in_shortest_paths_found = {}\n",
    "\n",
    "path_num_count = 0\n",
    "rxn_num_count = 0\n",
    "shortest_path_num_count = 0\n",
    "shortest_rxn_num_count = 0\n",
    "\n",
    "for smiles in shortest_paths[shortest_paths.loc[:, 'bkms,reaxys']<np.inf].index:\n",
    "    #if smiles == 'CNC(=O)CCC(=O)c1cccnc1':\n",
    "    g = askcos_spg_dict[smiles]['bkms,reaxys']\n",
    "    std_smiles = Chem.MolToSmiles(Chem.MolFromSmiles(smiles))\n",
    "    all_paths = enumerated_paths_in_hybrid[smiles]\n",
    "    shortest_path_length = shortest_paths.loc[smiles, 'bkms,reaxys']        \n",
    "    for path in all_paths:\n",
    "        rxn_list = get_all_children(path)\n",
    "        path_length = len(rxn_list)\n",
    "        path_num_count += 1\n",
    "        if shortest_path_length == path_length:\n",
    "            shortest_path_num_count += 1\n",
    "            for rxn in rxn_list:\n",
    "                rxn_num_count += 1\n",
    "                shortest_rxn_num_count += 1\n",
    "                product = rxn.split('>>')[-1]\n",
    "                if product not in molecule_label_in_all_paths_found:\n",
    "                    molecule_label_in_all_paths_found[product] = {'any_bkms':False,'any_reaxys':False}\n",
    "                if product not in molecule_label_in_shortest_paths_found:\n",
    "                    molecule_label_in_shortest_paths_found[product] = {'any_bkms':False,'any_reaxys':False}\n",
    "                if 'bkms' in g.nodes[rxn]['template_set']:\n",
    "                    molecule_label_in_all_paths_found[product]['any_bkms'] = True\n",
    "                    molecule_label_in_shortest_paths_found[product]['any_bkms'] = True\n",
    "                if 'reaxys' in g.nodes[rxn]['template_set']:\n",
    "                    molecule_label_in_all_paths_found[product]['any_reaxys'] = True\n",
    "                    molecule_label_in_shortest_paths_found[product]['any_reaxys'] = True\n",
    "        else:\n",
    "            for rxn in rxn_list:\n",
    "                rxn_num_count += 1\n",
    "                product = rxn.split('>>')[-1]\n",
    "                if product not in molecule_label_in_all_paths_found:\n",
    "                    molecule_label_in_all_paths_found[product] = {'any_bkms':False,'any_reaxys':False}\n",
    "                if 'bkms' in g.nodes[rxn]['template_set']:\n",
    "                    molecule_label_in_all_paths_found[product]['any_bkms'] = True\n",
    "                if 'reaxys' in g.nodes[rxn]['template_set']:\n",
    "                    molecule_label_in_all_paths_found[product]['any_reaxys'] = True\n",
    "print(f'''\n",
    "path_num_count = {path_num_count}\n",
    "rxn_num_count = {rxn_num_count}\n",
    "shortest_path_num_count = {shortest_path_num_count}\n",
    "shortest_rxn_num_count = {shortest_rxn_num_count}\n",
    "molecule_label_in_all_paths_found = {len(molecule_label_in_all_paths_found)}\n",
    "molecule_label_in_shortest_paths_found = {len(molecule_label_in_shortest_paths_found)}\n",
    "''')"
   ]
  },
  {
   "attachments": {},
   "cell_type": "markdown",
   "metadata": {},
   "source": [
    "## field coverage in shortest paths"
   ]
  },
  {
   "cell_type": "code",
   "execution_count": 31,
   "metadata": {},
   "outputs": [
    {
     "name": "stdout",
     "output_type": "stream",
     "text": [
      "shortest_paths_found_smiles_label =  1544\n"
     ]
    }
   ],
   "source": [
    "shortest_paths_found_smiles_list = list(molecule_label_in_shortest_paths_found.keys())\n",
    "shortest_paths_found_smiles_label = []\n",
    "\n",
    "for smi in shortest_paths_found_smiles_list:\n",
    "    if molecule_label_in_shortest_paths_found [smi]['any_bkms'] and molecule_label_in_shortest_paths_found [smi]['any_reaxys']:\n",
    "        shortest_paths_found_smiles_label.append(0)\n",
    "    elif molecule_label_in_shortest_paths_found [smi]['any_bkms'] and not molecule_label_in_shortest_paths_found [smi]['any_reaxys']:\n",
    "        shortest_paths_found_smiles_label.append(-1)\n",
    "    elif not molecule_label_in_shortest_paths_found [smi]['any_bkms'] and molecule_label_in_shortest_paths_found [smi]['any_reaxys']:\n",
    "        shortest_paths_found_smiles_label.append(1)\n",
    "print('shortest_paths_found_smiles_label = ',len(shortest_paths_found_smiles_label))"
   ]
  },
  {
   "cell_type": "code",
   "execution_count": 32,
   "metadata": {},
   "outputs": [
    {
     "name": "stdout",
     "output_type": "stream",
     "text": [
      "Chem: 788  Overlap: 275  Enzy: 481\n"
     ]
    }
   ],
   "source": [
    "print('Chem:',shortest_paths_found_smiles_label.count(1),\n",
    "' Overlap:',shortest_paths_found_smiles_label.count(0),\n",
    "' Enzy:',shortest_paths_found_smiles_label.count(-1))"
   ]
  },
  {
   "cell_type": "code",
   "execution_count": 33,
   "metadata": {},
   "outputs": [
    {
     "name": "stdout",
     "output_type": "stream",
     "text": [
      "Load saved file.\n",
      "shortest_paths_found_molecules_sfscore =  1544\n"
     ]
    }
   ],
   "source": [
    "try:\n",
    "    shortest_paths_found_molecules_sfscore = np.load('../data/askcos_benchmark_result/shortest_paths_found_molecules_sfscore.npy')\n",
    "    print('Load saved file.')\n",
    "except:\n",
    "    shortest_paths_found_molecules_sfscore = sfscore_model.score_from_smi_many(shortest_paths_found_smiles_list)\n",
    "    np.save('../data/askcos_benchmark_result/shortest_paths_found_molecules_sfscore.npy',shortest_paths_found_molecules_sfscore)\n",
    "print('shortest_paths_found_molecules_sfscore = ',len(shortest_paths_found_molecules_sfscore))"
   ]
  },
  {
   "cell_type": "code",
   "execution_count": 64,
   "metadata": {},
   "outputs": [
    {
     "name": "stdout",
     "output_type": "stream",
     "text": [
      "margin = 0.05\n",
      "Cover 66.8% of molecule's synthesis field in original paths, while 66.9% of 1269 molecules only search one synthesis field guided by SFScore.\n",
      "margin = 0.1\n",
      "Cover 74.4% of molecule's synthesis field in original paths, while 58.9% of 1269 molecules only search one synthesis field guided by SFScore.\n",
      "margin = 0.15\n",
      "Cover 85.8% of molecule's synthesis field in original paths, while 40.2% of 1269 molecules only search one synthesis field guided by SFScore.\n",
      "margin = 0.2\n",
      "Cover 95.9% of molecule's synthesis field in original paths, while 18.7% of 1269 molecules only search one synthesis field guided by SFScore.\n",
      "margin = 0.25\n",
      "Cover 99.0% of molecule's synthesis field in original paths, while 6.4% of 1269 molecules only search one synthesis field guided by SFScore.\n"
     ]
    }
   ],
   "source": [
    "def get_search_field_coverage(molecules_sfscore, smiles_label, margin = 0.15):\n",
    "    chem_cor = 0\n",
    "    chem_over = 0\n",
    "    bio_cor = 0\n",
    "    bio_over = 0\n",
    "    over_num = 0\n",
    "    for pred_sfscore, real_label in zip(molecules_sfscore, smiles_label):\n",
    "        score_diff = pred_sfscore[0] - pred_sfscore[1]\n",
    "        if real_label == 1 and score_diff>margin:\n",
    "            chem_cor += 1\n",
    "        if real_label == 1 and score_diff>-margin:\n",
    "            chem_over += 1\n",
    "        if real_label == -1 and score_diff<margin:\n",
    "            bio_over += 1\n",
    "        if real_label == -1 and score_diff<-margin:\n",
    "            bio_cor += 1\n",
    "        if real_label == 0 and score_diff>-margin and score_diff<margin:\n",
    "            over_num += 1\n",
    "\n",
    "    chem_mol_num = len([i for i in smiles_label if i == 1])\n",
    "    bio_mol_num = len([i for i in smiles_label if i == -1])\n",
    "    overlap_mol_num = len([i for i in smiles_label if i == 0])\n",
    "\n",
    "    sf_coverage = (chem_over+bio_over+over_num)/len(molecules_sfscore)\n",
    "    overall_acc = (chem_cor+bio_cor)/(chem_mol_num+bio_mol_num)\n",
    "    print(f'margin = {margin}')\n",
    "    print(f'Cover {sf_coverage*100 :0.1f}% of molecule\\'s synthesis field in original paths, while {overall_acc*100 :0.1f}% of {chem_mol_num+bio_mol_num} molecules only search one synthesis field guided by SFScore.')\n",
    "\n",
    "    return sf_coverage, overall_acc\n",
    "\n",
    "# user defined margin\n",
    "margin_list = [0.05, 0.1, 0.15, 0.2, 0.25]\n",
    "result_kept_list = []\n",
    "overall_acc_list = []\n",
    "for margin in margin_list:\n",
    "    result_kept, overall_acc = get_search_field_coverage(shortest_paths_found_molecules_sfscore, shortest_paths_found_smiles_label, margin=margin)\n",
    "    result_kept_list.append(result_kept)\n",
    "    overall_acc_list.append(overall_acc)"
   ]
  },
  {
   "attachments": {},
   "cell_type": "markdown",
   "metadata": {},
   "source": [
    "## field coverage in all paths"
   ]
  },
  {
   "cell_type": "code",
   "execution_count": 3,
   "metadata": {},
   "outputs": [
    {
     "ename": "NameError",
     "evalue": "name 'molecule_label_in_all_paths_found' is not defined",
     "output_type": "error",
     "traceback": [
      "\u001b[0;31m---------------------------------------------------------------------------\u001b[0m",
      "\u001b[0;31mNameError\u001b[0m                                 Traceback (most recent call last)",
      "\u001b[0;32m<ipython-input-3-bc6ad13b29c9>\u001b[0m in \u001b[0;36m<module>\u001b[0;34m\u001b[0m\n\u001b[0;32m----> 1\u001b[0;31m \u001b[0mall_paths_found_smiles_list\u001b[0m \u001b[0;34m=\u001b[0m \u001b[0mlist\u001b[0m\u001b[0;34m(\u001b[0m\u001b[0mmolecule_label_in_all_paths_found\u001b[0m\u001b[0;34m.\u001b[0m\u001b[0mkeys\u001b[0m\u001b[0;34m(\u001b[0m\u001b[0;34m)\u001b[0m\u001b[0;34m)\u001b[0m\u001b[0;34m\u001b[0m\u001b[0;34m\u001b[0m\u001b[0m\n\u001b[0m\u001b[1;32m      2\u001b[0m \u001b[0mall_paths_found_smiles_label\u001b[0m \u001b[0;34m=\u001b[0m \u001b[0;34m[\u001b[0m\u001b[0;34m]\u001b[0m\u001b[0;34m\u001b[0m\u001b[0;34m\u001b[0m\u001b[0m\n\u001b[1;32m      3\u001b[0m \u001b[0;32mfor\u001b[0m \u001b[0msmi\u001b[0m \u001b[0;32min\u001b[0m \u001b[0mall_paths_found_smiles_list\u001b[0m\u001b[0;34m:\u001b[0m\u001b[0;34m\u001b[0m\u001b[0;34m\u001b[0m\u001b[0m\n\u001b[1;32m      4\u001b[0m     \u001b[0;32mif\u001b[0m \u001b[0mmolecule_label_in_all_paths_found\u001b[0m\u001b[0;34m[\u001b[0m\u001b[0msmi\u001b[0m\u001b[0;34m]\u001b[0m\u001b[0;34m[\u001b[0m\u001b[0;34m'any_bkms'\u001b[0m\u001b[0;34m]\u001b[0m \u001b[0;32mand\u001b[0m \u001b[0mmolecule_label_in_all_paths_found\u001b[0m\u001b[0;34m[\u001b[0m\u001b[0msmi\u001b[0m\u001b[0;34m]\u001b[0m\u001b[0;34m[\u001b[0m\u001b[0;34m'any_reaxys'\u001b[0m\u001b[0;34m]\u001b[0m\u001b[0;34m:\u001b[0m\u001b[0;34m\u001b[0m\u001b[0;34m\u001b[0m\u001b[0m\n\u001b[1;32m      5\u001b[0m         \u001b[0mall_paths_found_smiles_label\u001b[0m\u001b[0;34m.\u001b[0m\u001b[0mappend\u001b[0m\u001b[0;34m(\u001b[0m\u001b[0;36m0\u001b[0m\u001b[0;34m)\u001b[0m\u001b[0;34m\u001b[0m\u001b[0;34m\u001b[0m\u001b[0m\n",
      "\u001b[0;31mNameError\u001b[0m: name 'molecule_label_in_all_paths_found' is not defined"
     ]
    }
   ],
   "source": [
    "all_paths_found_smiles_list = list(molecule_label_in_all_paths_found.keys())\n",
    "all_paths_found_smiles_label = []\n",
    "for smi in all_paths_found_smiles_list:\n",
    "    if molecule_label_in_all_paths_found[smi]['any_bkms'] and molecule_label_in_all_paths_found[smi]['any_reaxys']:\n",
    "        all_paths_found_smiles_label.append(0)\n",
    "    elif molecule_label_in_all_paths_found[smi]['any_bkms'] and not molecule_label_in_all_paths_found[smi]['any_reaxys']:\n",
    "        all_paths_found_smiles_label.append(-1)\n",
    "    elif not molecule_label_in_all_paths_found[smi]['any_bkms'] and molecule_label_in_all_paths_found[smi]['any_reaxys']:\n",
    "        all_paths_found_smiles_label.append(1)\n",
    "print('all_paths_found_smiles_label = ',len(all_paths_found_smiles_label))"
   ]
  },
  {
   "cell_type": "code",
   "execution_count": 14,
   "metadata": {},
   "outputs": [
    {
     "name": "stdout",
     "output_type": "stream",
     "text": [
      "Chem: 9162  Overlap: 7368  Enzy: 10211\n"
     ]
    }
   ],
   "source": [
    "print('Chem:',all_paths_found_smiles_label.count(1),\n",
    "' Overlap:',all_paths_found_smiles_label.count(0),\n",
    "' Enzy:',all_paths_found_smiles_label.count(-1))"
   ]
  },
  {
   "cell_type": "code",
   "execution_count": 15,
   "metadata": {},
   "outputs": [
    {
     "name": "stdout",
     "output_type": "stream",
     "text": [
      "Load saved file.\n",
      "all_paths_found_molecules_sfscore =  26741\n"
     ]
    }
   ],
   "source": [
    "try:\n",
    "    all_paths_found_molecules_sfscore = np.load('../data/askcos_benchmark_result/all_paths_found_molecules_sfscore.npy')\n",
    "    print('Load saved file.')\n",
    "except:\n",
    "    all_paths_found_molecules_sfscore = sfscore_model.score_from_smi_many(all_paths_found_smiles_list)\n",
    "    np.save('../data/askcos_benchmark_result/all_paths_found_molecules_sfscore.npy',all_paths_found_molecules_sfscore)\n",
    "    np.savetxt('../data/askcos_benchmark_result/all_paths_found_molecules_sfscore.csv', all_paths_found_molecules_sfscore, delimiter=\",\")\n",
    "print('all_paths_found_molecules_sfscore = ',len(all_paths_found_molecules_sfscore))"
   ]
  },
  {
   "cell_type": "code",
   "execution_count": 16,
   "metadata": {},
   "outputs": [
    {
     "name": "stdout",
     "output_type": "stream",
     "text": [
      "margin: 0.05, chem_search_precent: 59.5079%, enzy_search_precent: 27.6242%, overlap_search_precent: 12.8679%\n",
      "margin: 0.1, chem_search_precent: 51.6772%, enzy_search_precent: 21.3455%, overlap_search_precent: 26.9773%\n",
      "margin: 0.15, chem_search_precent: 38.5475%, enzy_search_precent: 10.8635%, overlap_search_precent: 50.5890%\n",
      "margin: 0.2, chem_search_precent: 20.9341%, enzy_search_precent: 2.6140%, overlap_search_precent: 76.4519%\n",
      "margin: 0.25, chem_search_precent: 7.4006%, enzy_search_precent: 0.4600%, overlap_search_precent: 92.1394%\n"
     ]
    },
    {
     "data": {
      "text/plain": [
       "([59.50787180733704,\n",
       "  51.67719980554205,\n",
       "  38.54754870797652,\n",
       "  20.934146067835908,\n",
       "  7.400620769604727],\n",
       " [27.624247410343667,\n",
       "  21.34549942036573,\n",
       "  10.86346808271942,\n",
       "  2.613963576530421,\n",
       "  0.45996783964698407],\n",
       " [12.867880782319286,\n",
       "  26.977300774092217,\n",
       "  50.58898320930406,\n",
       "  76.45189035563367,\n",
       "  92.1394113907483])"
      ]
     },
     "execution_count": 16,
     "metadata": {},
     "output_type": "execute_result"
    }
   ],
   "source": [
    "import matplotlib as plt\n",
    "def draw_sfscore_difference_distribution(score_list_1, title):\n",
    "    a= score_list_1[:,0] - score_list_1[:,1]\n",
    "    plt.hist(a, color = \"steelblue\", label = \"in-vivo\", bins=140,alpha = 0.7)\n",
    "    #plt.ylim((0,1400))\n",
    "    plt.ylabel('Number of molecules')\n",
    "    plt.xlabel('S_Chem - S_Enzy')\n",
    "    plt.show()\n",
    "\n",
    "def get_diff_margin_distribution(score_list,margin_list=[0.05,0.1,0.15,0.2,0.25],title=None):\n",
    "    a= score_list[:,0]\n",
    "    b= score_list[:,1]\n",
    "    sfscore_diff = a - b\n",
    "    chem_search_precent_list = []\n",
    "    enzy_search_precent_list = []\n",
    "    overlap_search_precent_list = []\n",
    "    for margin in margin_list:\n",
    "        chem_search_idx = [x > margin for x in sfscore_diff]\n",
    "        enzy_search_idx = [x < -margin for x in sfscore_diff]\n",
    "        # overlap_search_idx = np.multiply(enzy_search_idx, chem_search_idx)\n",
    "        overlap_search_idx = [x >= -margin and x <= margin for x in sfscore_diff]\n",
    "        chem_search_precent = sum(chem_search_idx)/len(sfscore_diff)\n",
    "        enzy_search_precent = sum(enzy_search_idx)/len(sfscore_diff)\n",
    "        overlap_search_precent = sum(overlap_search_idx)/len(sfscore_diff)\n",
    "\n",
    "        chem_search_precent_list.append(chem_search_precent*100)\n",
    "        enzy_search_precent_list.append(enzy_search_precent*100)\n",
    "        overlap_search_precent_list.append(overlap_search_precent*100)\n",
    "        print(f'margin: {margin}, chem_search_precent: {chem_search_precent:.4%}, enzy_search_precent: {enzy_search_precent:.4%}, overlap_search_precent: {overlap_search_precent:.4%}')\n",
    "    return chem_search_precent_list, enzy_search_precent_list, overlap_search_precent_list\n",
    "get_diff_margin_distribution(all_paths_found_molecules_sfscore)"
   ]
  },
  {
   "cell_type": "code",
   "execution_count": 17,
   "metadata": {},
   "outputs": [],
   "source": [
    "all_paths_found_smiles_sfscore_dict  = {}\n",
    "for smi,sfscore in zip(all_paths_found_smiles_list,all_paths_found_molecules_sfscore):\n",
    "    all_paths_found_smiles_sfscore_dict[smi] = sfscore"
   ]
  },
  {
   "cell_type": "code",
   "execution_count": 25,
   "metadata": {},
   "outputs": [
    {
     "data": {
      "text/plain": [
       "26741"
      ]
     },
     "execution_count": 25,
     "metadata": {},
     "output_type": "execute_result"
    }
   ],
   "source": [
    "len(all_paths_found_smiles_label)"
   ]
  },
  {
   "cell_type": "code",
   "execution_count": 23,
   "metadata": {},
   "outputs": [
    {
     "data": {
      "text/plain": [
       "26741"
      ]
     },
     "execution_count": 23,
     "metadata": {},
     "output_type": "execute_result"
    }
   ],
   "source": [
    "len(all_paths_found_molecules_sfscore)"
   ]
  },
  {
   "cell_type": "code",
   "execution_count": 22,
   "metadata": {},
   "outputs": [
    {
     "data": {
      "text/plain": [
       "26741"
      ]
     },
     "execution_count": 22,
     "metadata": {},
     "output_type": "execute_result"
    }
   ],
   "source": [
    "len(all_paths_found_smiles_list)"
   ]
  },
  {
   "cell_type": "code",
   "execution_count": 63,
   "metadata": {},
   "outputs": [
    {
     "name": "stdout",
     "output_type": "stream",
     "text": [
      "margin = 0.05\n",
      "Cover 52.7% of molecule's synthesis field in original paths, while 55.0% of 19373 molecules only search one synthesis field guided by SFScore.\n",
      "margin = 0.1\n",
      "Cover 61.4% of molecule's synthesis field in original paths, while 47.5% of 19373 molecules only search one synthesis field guided by SFScore.\n",
      "margin = 0.15\n",
      "Cover 75.0% of molecule's synthesis field in original paths, while 33.8% of 19373 molecules only search one synthesis field guided by SFScore.\n",
      "margin = 0.2\n",
      "Cover 89.0% of molecule's synthesis field in original paths, while 17.3% of 19373 molecules only search one synthesis field guided by SFScore.\n",
      "margin = 0.25\n",
      "Cover 96.7% of molecule's synthesis field in original paths, while 6.3% of 19373 molecules only search one synthesis field guided by SFScore.\n"
     ]
    }
   ],
   "source": [
    "margin_list = [0.05, 0.1, 0.15, 0.2, 0.25]\n",
    "result_kept_list = []\n",
    "overall_acc_list = []\n",
    "for margin in margin_list:\n",
    "    result_kept, overall_acc = get_search_field_coverage(all_paths_found_molecules_sfscore, all_paths_found_smiles_label, margin=margin)\n",
    "    result_kept_list.append(result_kept)\n",
    "    overall_acc_list.append(overall_acc)"
   ]
  },
  {
   "cell_type": "code",
   "execution_count": 1,
   "metadata": {},
   "outputs": [],
   "source": [
    "import pandas as pd\n",
    "import numpy as np\n",
    "import seaborn as sns\n",
    "import matplotlib.pyplot as plt\n",
    "from sklearn.decomposition import PCA\n",
    "\n",
    "def pca_fn(all_smi, chem_smi, overlap_smi, enzy_smi, size: int=2, filename=None):\n",
    "    all  = [Chem.GetMorganFingerprintAsBitVect(Chem.MolFromSmiles(m), 2, nBits=1024) for m in all_smi]\n",
    "    chem  = [Chem.GetMorganFingerprintAsBitVect(Chem.MolFromSmiles(m), 2, nBits=1024) for m in chem_smi]\n",
    "    overlap  = [Chem.GetMorganFingerprintAsBitVect(Chem.MolFromSmiles(m), 2, nBits=1024) for m in overlap_smi]\n",
    "    enzy  = [Chem.GetMorganFingerprintAsBitVect(Chem.MolFromSmiles(m), 2, nBits=1024) for m in enzy_smi]\n",
    "    pca = PCA(n_components=2)\n",
    "    products_data = all + chem + overlap + enzy\n",
    "    crds = pca.fit_transform(products_data)\n",
    "\n",
    "    type_list = ['all']*len(all) + ['chem']*len(chem) + ['overlap']*len(overlap) +  ['enzy']*len(enzy) \n",
    "    crds_df = pd.DataFrame(crds,columns=[\"PC_1\",\"PC_2\"])\n",
    "    crds_df['type'] = type_list\n",
    "    ax = sns.scatterplot(data=crds_df.query(\"type == 'all'\"),x=\"PC_1\",y=\"PC_2\",color='black', s=size)\n",
    "    ax = sns.scatterplot(data=crds_df.query(\"type == 'chem'\"),x=\"PC_1\",y=\"PC_2\",color='steelblue', s=size)\n",
    "    ax = sns.scatterplot(data=crds_df.query(\"type == 'overlap'\"),x=\"PC_1\",y=\"PC_2\",color='green', s=size)\n",
    "    ax = sns.scatterplot(data=crds_df.query(\"type == 'enzy'\"),x=\"PC_1\",y=\"PC_2\",color='purple', s=size)\n",
    "    ax.set(xlabel='PC 1', ylabel='PC 2')\n",
    "\n",
    "    _ = plt.legend(labels=['All','Chem', 'Both', 'Enzy'])\n",
    "    for handle in _.legendHandles:\n",
    "        handle.set_sizes([42])\n",
    "    if filename:\n",
    "        plt.savefig(filename,dpi=600)"
   ]
  },
  {
   "cell_type": "code",
   "execution_count": 2,
   "metadata": {},
   "outputs": [
    {
     "ename": "NameError",
     "evalue": "name 'all_paths_found_molecules_sfscore' is not defined",
     "output_type": "error",
     "traceback": [
      "\u001b[0;31m---------------------------------------------------------------------------\u001b[0m",
      "\u001b[0;31mNameError\u001b[0m                                 Traceback (most recent call last)",
      "\u001b[0;32m<ipython-input-2-b32b6a9e4bef>\u001b[0m in \u001b[0;36m<module>\u001b[0;34m\u001b[0m\n\u001b[1;32m     37\u001b[0m     \u001b[0;32mreturn\u001b[0m \u001b[0mchem_failed_list\u001b[0m\u001b[0;34m,\u001b[0m \u001b[0mover_failed_list\u001b[0m\u001b[0;34m,\u001b[0m \u001b[0mbio_failed_list\u001b[0m\u001b[0;34m\u001b[0m\u001b[0;34m\u001b[0m\u001b[0m\n\u001b[1;32m     38\u001b[0m \u001b[0;34m\u001b[0m\u001b[0m\n\u001b[0;32m---> 39\u001b[0;31m \u001b[0mchem_failed_list\u001b[0m\u001b[0;34m,\u001b[0m \u001b[0mover_failed_list\u001b[0m\u001b[0;34m,\u001b[0m \u001b[0mbio_failed_list\u001b[0m \u001b[0;34m=\u001b[0m \u001b[0mget_failed_molecules\u001b[0m\u001b[0;34m(\u001b[0m\u001b[0mall_paths_found_molecules_sfscore\u001b[0m\u001b[0;34m,\u001b[0m \u001b[0mall_paths_found_smiles_label\u001b[0m\u001b[0;34m,\u001b[0m \u001b[0mall_paths_found_smiles_list\u001b[0m\u001b[0;34m,\u001b[0m \u001b[0mmargin\u001b[0m\u001b[0;34m=\u001b[0m\u001b[0;36m0.15\u001b[0m\u001b[0;34m)\u001b[0m\u001b[0;34m\u001b[0m\u001b[0;34m\u001b[0m\u001b[0m\n\u001b[0m\u001b[1;32m     40\u001b[0m \u001b[0mall_smi\u001b[0m \u001b[0;34m=\u001b[0m \u001b[0;34m[\u001b[0m\u001b[0mi\u001b[0m \u001b[0;32mfor\u001b[0m \u001b[0mi\u001b[0m \u001b[0;32min\u001b[0m \u001b[0mall_paths_found_smiles_list\u001b[0m \u001b[0;32mif\u001b[0m \u001b[0mi\u001b[0m \u001b[0;32mnot\u001b[0m \u001b[0;32min\u001b[0m \u001b[0mchem_failed_list\u001b[0m \u001b[0;32mand\u001b[0m \u001b[0mi\u001b[0m \u001b[0;32mnot\u001b[0m \u001b[0;32min\u001b[0m \u001b[0mover_failed_list\u001b[0m \u001b[0;32mand\u001b[0m \u001b[0mi\u001b[0m \u001b[0;32mnot\u001b[0m \u001b[0;32min\u001b[0m \u001b[0mbio_failed_list\u001b[0m\u001b[0;34m]\u001b[0m\u001b[0;34m\u001b[0m\u001b[0;34m\u001b[0m\u001b[0m\n\u001b[1;32m     41\u001b[0m \u001b[0mpca_fn\u001b[0m\u001b[0;34m(\u001b[0m\u001b[0mall_smi\u001b[0m\u001b[0;34m,\u001b[0m\u001b[0mchem_failed_list\u001b[0m\u001b[0;34m,\u001b[0m\u001b[0mover_failed_list\u001b[0m\u001b[0;34m,\u001b[0m\u001b[0mbio_failed_list\u001b[0m\u001b[0;34m,\u001b[0m\u001b[0msize\u001b[0m\u001b[0;34m=\u001b[0m\u001b[0;36m4\u001b[0m\u001b[0;34m,\u001b[0m\u001b[0mfilename\u001b[0m\u001b[0;34m=\u001b[0m\u001b[0;34m'margin0.15.pdf'\u001b[0m\u001b[0;34m)\u001b[0m\u001b[0;34m\u001b[0m\u001b[0;34m\u001b[0m\u001b[0m\n",
      "\u001b[0;31mNameError\u001b[0m: name 'all_paths_found_molecules_sfscore' is not defined"
     ]
    }
   ],
   "source": [
    "def get_failed_molecules(molecules_sfscore, smiles_label, smiles_list, margin = 0.15):\n",
    "    chem_cor = 0\n",
    "    chem_over = 0\n",
    "    chem_failed_list = []\n",
    "    bio_cor = 0\n",
    "    bio_over = 0\n",
    "    bio_failed_list = []\n",
    "    over_num = 0\n",
    "    over_failed_list = []\n",
    "    for pred_sfscore, real_label, smiles in zip(molecules_sfscore, smiles_label, smiles_list):\n",
    "        score_diff = pred_sfscore[0] - pred_sfscore[1]\n",
    "        if real_label == 1 and score_diff>margin:\n",
    "            chem_cor += 1\n",
    "        if real_label == 1 and score_diff>-margin:\n",
    "            chem_over += 1\n",
    "        if real_label == 1 and score_diff<-margin:\n",
    "            chem_failed_list.append(smiles)\n",
    "        if real_label == -1 and score_diff<margin:\n",
    "            bio_over += 1\n",
    "        if real_label == -1 and score_diff<-margin:\n",
    "            bio_cor += 1\n",
    "        if real_label == -1 and score_diff>margin: \n",
    "            bio_failed_list.append(smiles)\n",
    "        if real_label == 0 and score_diff>-margin and score_diff<margin:\n",
    "            over_num += 1\n",
    "        if real_label == 0 and (score_diff<-margin or score_diff>margin):\n",
    "            over_failed_list.append(smiles)\n",
    "\n",
    "    chem_mol_num = len([i for i in smiles_label if i == 1])\n",
    "    bio_mol_num = len([i for i in smiles_label if i == -1])\n",
    "    overlap_mol_num = len([i for i in smiles_label if i == 0])\n",
    "\n",
    "    #sf_coverage = (chem_over+bio_over+over_num)/len(molecules_sfscore)\n",
    "    #overall_acc = (chem_cor+bio_cor)/(chem_mol_num+bio_mol_num)\n",
    "    #print(f'margin = {margin}')\n",
    "    #print(f'Cover {sf_coverage*100 :0.1f}% of molecule\\'s synthesis field in original paths, while {overall_acc*100 :0.1f}% of molecules only search one synthesis field guided by SFScore.')\n",
    "    return chem_failed_list, over_failed_list, bio_failed_list\n",
    "\n",
    "chem_failed_list, over_failed_list, bio_failed_list = get_failed_molecules(all_paths_found_molecules_sfscore, all_paths_found_smiles_label, all_paths_found_smiles_list, margin=0.15)\n",
    "all_smi = [i for i in all_paths_found_smiles_list if i not in chem_failed_list and i not in over_failed_list and i not in bio_failed_list]\n",
    "pca_fn(all_smi,chem_failed_list,over_failed_list,bio_failed_list,size=4,filename='margin0.15.pdf')\n",
    "print(len(all_smi))\n",
    "len(chem_failed_list+bio_failed_list+over_failed_list)\n"
   ]
  },
  {
   "cell_type": "code",
   "execution_count": 79,
   "metadata": {},
   "outputs": [
    {
     "name": "stdout",
     "output_type": "stream",
     "text": [
      "410 3332 2931\n"
     ]
    }
   ],
   "source": [
    "print(len(chem_failed_list),len(over_failed_list),len(bio_failed_list))"
   ]
  },
  {
   "cell_type": "code",
   "execution_count": 53,
   "metadata": {},
   "outputs": [
    {
     "ename": "TypeError",
     "evalue": "unsupported operand type(s) for -: 'list' and 'list'",
     "output_type": "error",
     "traceback": [
      "\u001b[0;31m---------------------------------------------------------------------------\u001b[0m",
      "\u001b[0;31mTypeError\u001b[0m                                 Traceback (most recent call last)",
      "\u001b[0;32m<ipython-input-53-79e9cfe7256c>\u001b[0m in \u001b[0;36m<module>\u001b[0;34m\u001b[0m\n\u001b[1;32m      1\u001b[0m \u001b[0ma\u001b[0m \u001b[0;34m=\u001b[0m \u001b[0;34m[\u001b[0m\u001b[0;36m1\u001b[0m\u001b[0;34m,\u001b[0m\u001b[0;36m2\u001b[0m\u001b[0;34m]\u001b[0m\u001b[0;34m\u001b[0m\u001b[0;34m\u001b[0m\u001b[0m\n\u001b[1;32m      2\u001b[0m \u001b[0mb\u001b[0m\u001b[0;34m=\u001b[0m \u001b[0;34m[\u001b[0m\u001b[0;36m2\u001b[0m\u001b[0;34m]\u001b[0m\u001b[0;34m\u001b[0m\u001b[0;34m\u001b[0m\u001b[0m\n\u001b[0;32m----> 3\u001b[0;31m \u001b[0ma\u001b[0m\u001b[0;34m-\u001b[0m\u001b[0mb\u001b[0m\u001b[0;34m\u001b[0m\u001b[0;34m\u001b[0m\u001b[0m\n\u001b[0m",
      "\u001b[0;31mTypeError\u001b[0m: unsupported operand type(s) for -: 'list' and 'list'"
     ]
    }
   ],
   "source": [
    "a = [1,2]\n",
    "b= [2]\n",
    "a-b"
   ]
  },
  {
   "attachments": {},
   "cell_type": "markdown",
   "metadata": {},
   "source": [
    "# Routes in shortest paths"
   ]
  },
  {
   "cell_type": "code",
   "execution_count": 23,
   "metadata": {},
   "outputs": [
    {
     "data": {
      "text/plain": [
       "493"
      ]
     },
     "execution_count": 23,
     "metadata": {},
     "output_type": "execute_result"
    }
   ],
   "source": [
    "i = 0\n",
    "for smiles in shortest_paths[shortest_paths.loc[:, 'bkms,reaxys']<np.inf].index:\n",
    "    i += 1\n",
    "i"
   ]
  },
  {
   "cell_type": "code",
   "execution_count": 39,
   "metadata": {},
   "outputs": [
    {
     "name": "stdout",
     "output_type": "stream",
     "text": [
      "Load data from file.\n"
     ]
    }
   ],
   "source": [
    "# 3 min\n",
    "try:\n",
    "    with open(f\"../data/askcos_benchmark_result/enumerated_paths_count.json\", \"r\") as outfile:\n",
    "        enumerated_paths_count = json.load(outfile)\n",
    "    print('Load data from file.')\n",
    "except:\n",
    "    print('Running the script...')\n",
    "    enumerated_paths_count = {}\n",
    "    margin_list = [0.05, 0.1, 0.15, 0.2, 0.25]\n",
    "    for margin in margin_list:\n",
    "        enumerated_paths_count[margin] = {}\n",
    "        for smiles in shortest_paths[shortest_paths.loc[:, 'bkms,reaxys']<np.inf].index:\n",
    "            #if smiles == 'CNC(=O)CCC(=O)c1cccnc1':\n",
    "            g = askcos_spg_dict[smiles]['bkms,reaxys']\n",
    "            # std_smiles = Chem.MolToSmiles(Chem.MolFromSmiles(smiles))\n",
    "            all_paths = enumerated_paths_in_hybrid[smiles]\n",
    "            shortest_path_length = shortest_paths.loc[smiles, 'bkms,reaxys']\n",
    "            path_num_count += len(all_paths)\n",
    "            \n",
    "            enumerated_paths_count[margin][smiles] = {}\n",
    "            enumerated_paths_count[margin][smiles]['paths_count'] = len(all_paths)\n",
    "            enumerated_paths_count[margin][smiles]['shortest_paths_count'] = 0\n",
    "            enumerated_paths_count[margin][smiles]['rxns_count'] = 0\n",
    "            enumerated_paths_count[margin][smiles]['shortest_rxns_count'] = 0\n",
    "\n",
    "            # enumerated_paths_count[margin][smiles]['kept_paths_count'] = 0\n",
    "            enumerated_paths_count[margin][smiles]['kept_shortest_paths_count'] = 0\n",
    "            enumerated_paths_count[margin][smiles]['kept_rxns_count'] = 0\n",
    "            enumerated_paths_count[margin][smiles]['kept_shortest_rxns_count'] = 0\n",
    "\n",
    "            enumerated_paths_count[margin][smiles]['num_rxns_each_path'] = []\n",
    "            enumerated_paths_count[margin][smiles]['kept_num_rxns_each_path'] = []\n",
    "            enumerated_paths_count[margin][smiles]['if_path_kept'] = []\n",
    "            \n",
    "            for path in all_paths:\n",
    "                has_not_matched_sfscore = False\n",
    "\n",
    "                rxn_list = get_all_children(path)\n",
    "                path_length = len(rxn_list)\n",
    "                \n",
    "                num_rxns_each_path = 0\n",
    "                kept_num_rxns_each_path = 0\n",
    "\n",
    "                if shortest_path_length == path_length:\n",
    "                    # shortest_path_num_count += 1\n",
    "                    enumerated_paths_count[margin][smiles]['shortest_paths_count'] += 1\n",
    "                    \n",
    "                    for rxn in rxn_list:\n",
    "                        num_rxns_each_path += 1\n",
    "                        #rxn_num_count += 1\n",
    "                        #shortest_rxn_num_count += 1\n",
    "                        enumerated_paths_count[margin][smiles]['rxns_count'] += 1\n",
    "                        enumerated_paths_count[margin][smiles]['shortest_rxns_count'] += 1\n",
    "\n",
    "                        product = rxn.split('>>')[-1]\n",
    "                        product_sfscore = all_paths_found_smiles_sfscore_dict[product]\n",
    "                        product_sfscore_diff = product_sfscore[0] - product_sfscore[1]\n",
    "                        if 'bkms' in g.nodes[rxn]['template_set'] and 'reaxys' not in g.nodes[rxn]['template_set']:\n",
    "                            if product_sfscore_diff > margin:\n",
    "                                has_not_matched_sfscore = True\n",
    "                            else:\n",
    "                                #kept_rxn_count += 1\n",
    "                                #kept_shortest_rxn_count += 1\n",
    "                                enumerated_paths_count[margin][smiles]['kept_rxns_count'] += 1\n",
    "                                enumerated_paths_count[margin][smiles]['kept_shortest_rxns_count'] += 1\n",
    "                                kept_num_rxns_each_path += 1\n",
    "                        elif 'reaxys' in g.nodes[rxn]['template_set'] and 'bkms' not in g.nodes[rxn]['template_set']:\n",
    "                            if product_sfscore_diff < -margin:\n",
    "                                has_not_matched_sfscore = True\n",
    "                            else:\n",
    "                                #kept_rxn_count += 1\n",
    "                                #kept_shortest_rxn_count += 1\n",
    "                                enumerated_paths_count[margin][smiles]['kept_rxns_count'] += 1\n",
    "                                enumerated_paths_count[margin][smiles]['kept_shortest_rxns_count'] += 1\n",
    "                                kept_num_rxns_each_path += 1\n",
    "                        else:\n",
    "                            if product_sfscore_diff < -margin or product_sfscore_diff > margin:\n",
    "                                has_not_matched_sfscore = True\n",
    "                            else:\n",
    "                                #kept_rxn_count += 1\n",
    "                                #kept_shortest_rxn_count += 1\n",
    "                                enumerated_paths_count[margin][smiles]['kept_rxns_count'] += 1\n",
    "                                enumerated_paths_count[margin][smiles]['kept_shortest_rxns_count'] += 1\n",
    "                                kept_num_rxns_each_path += 1\n",
    "                    enumerated_paths_count[margin][smiles]['num_rxns_each_path'].append(num_rxns_each_path)\n",
    "                    enumerated_paths_count[margin][smiles]['kept_num_rxns_each_path'].append(kept_num_rxns_each_path)\n",
    "                    if not has_not_matched_sfscore:\n",
    "                        #kept_path_count += 1\n",
    "                        #kept_shortest_path_count += 1\n",
    "                        # enumerated_paths_count[margin][smiles]['kept_paths_count'] += 1\n",
    "                        enumerated_paths_count[margin][smiles]['kept_shortest_paths_count'] += 1\n",
    "                        enumerated_paths_count[margin][smiles]['if_path_kept'].append(True)\n",
    "                    else:\n",
    "                        enumerated_paths_count[margin][smiles]['if_path_kept'].append(False)\n",
    "                else:\n",
    "                    for rxn in rxn_list:\n",
    "                        num_rxns_each_path += 1\n",
    "                        # rxn_num_count += 1\n",
    "                        enumerated_paths_count[margin][smiles]['rxns_count'] += 1\n",
    "                        product = rxn.split('>>')[-1]\n",
    "                        product_sfscore = all_paths_found_smiles_sfscore_dict[product]\n",
    "                        product_sfscore_diff = product_sfscore[0] - product_sfscore[1]\n",
    "                        if 'bkms' in g.nodes[rxn]['template_set'] and 'reaxys' not in g.nodes[rxn]['template_set']:\n",
    "                            if product_sfscore_diff > margin:\n",
    "                                has_not_matched_sfscore = True\n",
    "                            else:\n",
    "                                #kept_rxn_count += 1\n",
    "                                enumerated_paths_count[margin][smiles]['kept_rxns_count'] += 1\n",
    "                                kept_num_rxns_each_path += 1\n",
    "\n",
    "                        elif 'reaxys' in g.nodes[rxn]['template_set'] and 'bkms' not in g.nodes[rxn]['template_set']:\n",
    "                            if product_sfscore_diff < -margin:\n",
    "                                has_not_matched_sfscore = True\n",
    "                            else:\n",
    "                                #kept_rxn_count += 1\n",
    "                                enumerated_paths_count[margin][smiles]['kept_rxns_count'] += 1\n",
    "                                kept_num_rxns_each_path += 1\n",
    "                        else:\n",
    "                            if product_sfscore_diff < -margin or product_sfscore_diff > margin:\n",
    "                                has_not_matched_sfscore = True\n",
    "                            else:\n",
    "                                #kept_rxn_count += 1\n",
    "                                enumerated_paths_count[margin][smiles]['kept_rxns_count'] += 1\n",
    "                                kept_num_rxns_each_path += 1\n",
    "                    enumerated_paths_count[margin][smiles]['num_rxns_each_path'].append(num_rxns_each_path)\n",
    "                    enumerated_paths_count[margin][smiles]['kept_num_rxns_each_path'].append(kept_num_rxns_each_path)\n",
    "                    if not has_not_matched_sfscore:\n",
    "                        #kept_path_count += 1\n",
    "                        #enumerated_paths_count[margin][smiles]['kept_paths_count'] += 1\n",
    "                        enumerated_paths_count[margin][smiles]['if_path_kept'].append(True)\n",
    "                    else:\n",
    "                        enumerated_paths_count[margin][smiles]['if_path_kept'].append(False)\n",
    "    with open(f\"../data/askcos_benchmark_result/enumerated_paths_count.json\", \"w\") as outfile:\n",
    "        json.dump(enumerated_paths_count, outfile)\n",
    "    print('File saved')"
   ]
  },
  {
   "cell_type": "code",
   "execution_count": 42,
   "metadata": {},
   "outputs": [
    {
     "name": "stdout",
     "output_type": "stream",
     "text": [
      "\n",
      "    margin = 0.05\n",
      "    shortest_rxns_count = 5383\n",
      "    kept_shortest_rxns_count = 3810\n",
      "    kept_shortest_rxns_rate = 70.7784%\n",
      "    near_shortest_rxns_count = 63491\n",
      "    kept_near_shortest_rxns_count = 43454\n",
      "    kept_near_shortest_rxns_rate = 68.4412%\n",
      "    \n",
      "\n",
      "    margin = 0.1\n",
      "    shortest_rxns_count = 5383\n",
      "    kept_shortest_rxns_count = 4209\n",
      "    kept_shortest_rxns_rate = 78.1906%\n",
      "    near_shortest_rxns_count = 63491\n",
      "    kept_near_shortest_rxns_count = 48647\n",
      "    kept_near_shortest_rxns_rate = 76.6203%\n",
      "    \n",
      "\n",
      "    margin = 0.15\n",
      "    shortest_rxns_count = 5383\n",
      "    kept_shortest_rxns_count = 4841\n",
      "    kept_shortest_rxns_rate = 89.9313%\n",
      "    near_shortest_rxns_count = 63491\n",
      "    kept_near_shortest_rxns_count = 54599\n",
      "    kept_near_shortest_rxns_rate = 85.9949%\n",
      "    \n",
      "\n",
      "    margin = 0.2\n",
      "    shortest_rxns_count = 5383\n",
      "    kept_shortest_rxns_count = 5272\n",
      "    kept_shortest_rxns_rate = 97.9380%\n",
      "    near_shortest_rxns_count = 63491\n",
      "    kept_near_shortest_rxns_count = 60825\n",
      "    kept_near_shortest_rxns_rate = 95.8010%\n",
      "    \n",
      "\n",
      "    margin = 0.25\n",
      "    shortest_rxns_count = 5383\n",
      "    kept_shortest_rxns_count = 5347\n",
      "    kept_shortest_rxns_rate = 99.3312%\n",
      "    near_shortest_rxns_count = 63491\n",
      "    kept_near_shortest_rxns_count = 62532\n",
      "    kept_near_shortest_rxns_rate = 98.4895%\n",
      "    \n"
     ]
    }
   ],
   "source": [
    "margin_list = ['0.05', '0.1', '0.15', '0.2', '0.25']\n",
    "for margin in margin_list:\n",
    "    shortest_rxns_count = 0\n",
    "    kept_shortest_rxns_count = 0\n",
    "\n",
    "    near_shortest_rxns_count = 0\n",
    "    kept_near_shortest_rxns_count = 0\n",
    "\n",
    "    for smi,result_dict in enumerated_paths_count[margin].items():\n",
    "        if_path_kept = result_dict['if_path_kept']\n",
    "        num_rxns_each_path = result_dict['num_rxns_each_path']\n",
    "        kept_num_rxns_each_path = result_dict['kept_num_rxns_each_path']\n",
    "        min_length = shortest_paths.loc[smi, 'bkms,reaxys']\n",
    "        # min_length = min(num_rxns_each_path)\n",
    "        for num_rxns,kept_num_rxns in zip(num_rxns_each_path,kept_num_rxns_each_path):\n",
    "            if num_rxns <= min_length+2:\n",
    "                near_shortest_rxns_count += num_rxns\n",
    "                kept_near_shortest_rxns_count += kept_num_rxns\n",
    "            if num_rxns == min_length:\n",
    "                shortest_rxns_count += num_rxns\n",
    "                kept_shortest_rxns_count += kept_num_rxns\n",
    "\n",
    "\n",
    "                    \n",
    "    print(f'''\n",
    "    margin = {margin}\n",
    "    shortest_rxns_count = {shortest_rxns_count}\n",
    "    kept_shortest_rxns_count = {kept_shortest_rxns_count}\n",
    "    kept_shortest_rxns_rate = {kept_shortest_rxns_count/shortest_rxns_count:.4%}\n",
    "    near_shortest_rxns_count = {near_shortest_rxns_count}\n",
    "    kept_near_shortest_rxns_count = {kept_near_shortest_rxns_count}\n",
    "    kept_near_shortest_rxns_rate = {kept_near_shortest_rxns_count/near_shortest_rxns_count:.4%}\n",
    "    ''')"
   ]
  },
  {
   "cell_type": "code",
   "execution_count": 45,
   "metadata": {},
   "outputs": [
    {
     "name": "stdout",
     "output_type": "stream",
     "text": [
      "\n",
      "    margin = 0.05\n",
      "    one_shortest_path_count = 493\n",
      "    kept_one_shortest_path_count = 279\n",
      "    kept_one_shortest_path_rate = 56.5923%\n",
      "    three_shortest_paths_count = 148\n",
      "    kept_three_shortest_paths_count = 60\n",
      "    kept_three_shortest_paths_rate = 40.5405%\n",
      "    \n",
      "\n",
      "    margin = 0.1\n",
      "    one_shortest_path_count = 493\n",
      "    kept_one_shortest_path_count = 319\n",
      "    kept_one_shortest_path_rate = 64.7059%\n",
      "    three_shortest_paths_count = 148\n",
      "    kept_three_shortest_paths_count = 76\n",
      "    kept_three_shortest_paths_rate = 51.3514%\n",
      "    \n",
      "\n",
      "    margin = 0.15\n",
      "    one_shortest_path_count = 493\n",
      "    kept_one_shortest_path_count = 387\n",
      "    kept_one_shortest_path_rate = 78.4990%\n",
      "    three_shortest_paths_count = 148\n",
      "    kept_three_shortest_paths_count = 105\n",
      "    kept_three_shortest_paths_rate = 70.9459%\n",
      "    \n",
      "\n",
      "    margin = 0.2\n",
      "    one_shortest_path_count = 493\n",
      "    kept_one_shortest_path_count = 461\n",
      "    kept_one_shortest_path_rate = 93.5091%\n",
      "    three_shortest_paths_count = 148\n",
      "    kept_three_shortest_paths_count = 133\n",
      "    kept_three_shortest_paths_rate = 89.8649%\n",
      "    \n",
      "\n",
      "    margin = 0.25\n",
      "    one_shortest_path_count = 493\n",
      "    kept_one_shortest_path_count = 478\n",
      "    kept_one_shortest_path_rate = 96.9574%\n",
      "    three_shortest_paths_count = 148\n",
      "    kept_three_shortest_paths_count = 145\n",
      "    kept_three_shortest_paths_rate = 97.9730%\n",
      "    \n"
     ]
    }
   ],
   "source": [
    "margin_list = ['0.05', '0.1', '0.15', '0.2', '0.25']\n",
    "for margin in margin_list:\n",
    "    one_shortest_path_count = 0\n",
    "    kept_one_shortest_path_count = 0\n",
    "\n",
    "    three_shortest_paths_count = 0\n",
    "    kept_three_shortest_paths_count = 0\n",
    "\n",
    "    for smi,result_dict in enumerated_paths_count[margin].items():\n",
    "        if_path_kept = result_dict['if_path_kept']\n",
    "        num_rxns_each_path = result_dict['num_rxns_each_path']\n",
    "        kept_num_rxns_each_path = result_dict['kept_num_rxns_each_path']\n",
    "        one_shortest_path_count += 1\n",
    "        min_length = shortest_paths.loc[smi, 'bkms,reaxys']\n",
    "        num_min_length = num_rxns_each_path.count(min_length)\n",
    "        #has_three_shortest_paths_count = False\n",
    "        # has_kept_one_shortest_path_count = False\n",
    "        num_of_shortest_paths_kept = 0\n",
    "        for path_kept,num_rxns,kept_num_rxns in zip(if_path_kept,num_rxns_each_path,kept_num_rxns_each_path):\n",
    "            if num_rxns == min_length and path_kept:\n",
    "                num_of_shortest_paths_kept += 1\n",
    "        # print(three_shortest_paths_count)\n",
    "        if num_min_length >= 3:\n",
    "            three_shortest_paths_count += 1\n",
    "            if num_of_shortest_paths_kept >= 3:\n",
    "                kept_three_shortest_paths_count += 1\n",
    "        if num_of_shortest_paths_kept > 0:\n",
    "            kept_one_shortest_path_count += 1\n",
    "    # print(kept_three_shortest_paths_count)\n",
    "    print(f'''\n",
    "    margin = {margin}\n",
    "    one_shortest_path_count = {one_shortest_path_count}\n",
    "    kept_one_shortest_path_count = {kept_one_shortest_path_count}\n",
    "    kept_one_shortest_path_rate = {kept_one_shortest_path_count/one_shortest_path_count:.4%}\n",
    "    three_shortest_paths_count = {three_shortest_paths_count}\n",
    "    kept_three_shortest_paths_count = {kept_three_shortest_paths_count}\n",
    "    kept_three_shortest_paths_rate = {kept_three_shortest_paths_count/three_shortest_paths_count:.4%}\n",
    "    ''')"
   ]
  },
  {
   "cell_type": "code",
   "execution_count": 73,
   "metadata": {},
   "outputs": [
    {
     "name": "stdout",
     "output_type": "stream",
     "text": [
      "margin: 0.05, chem_search_precent: 59.5079%, enzy_search_precent: 27.6242%, overlap_search_precent: 12.8679%\n",
      "margin: 0.1, chem_search_precent: 51.6772%, enzy_search_precent: 21.3455%, overlap_search_precent: 26.9773%\n",
      "margin: 0.15, chem_search_precent: 38.5475%, enzy_search_precent: 10.8635%, overlap_search_precent: 50.5890%\n",
      "margin: 0.2, chem_search_precent: 20.9341%, enzy_search_precent: 2.6140%, overlap_search_precent: 76.4519%\n",
      "margin: 0.25, chem_search_precent: 7.4006%, enzy_search_precent: 0.4600%, overlap_search_precent: 92.1394%\n"
     ]
    }
   ],
   "source": [
    "def get_diff_margin_distribution(score_list,margin_list=[0.05,0.1,0.15,0.2,0.25],title=None):\n",
    "    a= score_list[:,0]\n",
    "    b= score_list[:,1]\n",
    "    sfscore_diff = a - b\n",
    "    for margin in margin_list:\n",
    "        chem_search_idx = [x > margin for x in sfscore_diff]\n",
    "        enzy_search_idx = [x < -margin for x in sfscore_diff]\n",
    "        # overlap_search_idx = np.multiply(enzy_search_idx, chem_search_idx)\n",
    "        overlap_search_idx = [x >= -margin and x <= margin for x in sfscore_diff]\n",
    "        chem_search_precent = sum(chem_search_idx)/len(sfscore_diff)\n",
    "        enzy_search_precent = sum(enzy_search_idx)/len(sfscore_diff)\n",
    "        overlap_search_precent = sum(overlap_search_idx)/len(sfscore_diff)\n",
    "        print(f'margin: {margin}, chem_search_precent: {chem_search_precent:.4%}, enzy_search_precent: {enzy_search_precent:.4%}, overlap_search_precent: {overlap_search_precent:.4%}')\n",
    "get_diff_margin_distribution(all_paths_found_molecules_sfscore)\n",
    "# get_diff_margin_distribution(shortest_paths_found_molecules_sfscore)"
   ]
  },
  {
   "cell_type": "markdown",
   "metadata": {},
   "source": [
    "# Compare pathways with Async"
   ]
  },
  {
   "cell_type": "code",
   "execution_count": 10,
   "metadata": {},
   "outputs": [],
   "source": [
    "import urllib.parse\n",
    "from IPython.display import Image,display\n",
    "def print_rxns_askcos(spg_dict,prioritizer,smi):\n",
    "    #images = []\n",
    "    for rxn in spg_dict[smi][prioritizer].nodes[smi]['shortest_pathway']:\n",
    "        url_rxn = urllib.parse.quote(rxn)\n",
    "        img = Image(url=f'https://askcos.mit.edu/api/v2/draw/?smiles={url_rxn}&draw_map=false&highlight=false')\n",
    "        #images.append(img)\n",
    "        model = spg_dict[smi][prioritizer].nodes[rxn]['template_set']\n",
    "        #print(spg_dict[smi][prioritizer].nodes[rxn])\n",
    "        product = rxn.split('>>')[-1]\n",
    "        # product_sfscore = spg_dict[smi][prioritizer].nodes[product]['sfscore']\n",
    "        print(model,': ',rxn)\n",
    "        display(img)"
   ]
  },
  {
   "cell_type": "code",
   "execution_count": 45,
   "metadata": {},
   "outputs": [
    {
     "name": "stdout",
     "output_type": "stream",
     "text": [
      "['reaxys'] :  CC[C@H](C)CBr.Cn1c(=O)cc(N)[nH]c1=O>>CC[C@H](C)Cn1c(N)cc(=O)n(C)c1=O\n"
     ]
    },
    {
     "data": {
      "text/html": [
       "<img src=\"https://askcos.mit.edu/api/v2/draw/?smiles=CC%5BC%40H%5D%28C%29CBr.Cn1c%28%3DO%29cc%28N%29%5BnH%5Dc1%3DO%3E%3ECC%5BC%40H%5D%28C%29Cn1c%28N%29cc%28%3DO%29n%28C%29c1%3DO&draw_map=false&highlight=false\"/>"
      ],
      "text/plain": [
       "<IPython.core.display.Image object>"
      ]
     },
     "metadata": {},
     "output_type": "display_data"
    },
    {
     "name": "stdout",
     "output_type": "stream",
     "text": [
      "['reaxys'] :  CC[C@H](C)Cn1c(N)cc(=O)n(C)c1=O>>CC[C@H](C)Cn1c(N)c(N=O)c(=O)n(C)c1=O\n"
     ]
    },
    {
     "data": {
      "text/html": [
       "<img src=\"https://askcos.mit.edu/api/v2/draw/?smiles=CC%5BC%40H%5D%28C%29Cn1c%28N%29cc%28%3DO%29n%28C%29c1%3DO%3E%3ECC%5BC%40H%5D%28C%29Cn1c%28N%29c%28N%3DO%29c%28%3DO%29n%28C%29c1%3DO&draw_map=false&highlight=false\"/>"
      ],
      "text/plain": [
       "<IPython.core.display.Image object>"
      ]
     },
     "metadata": {},
     "output_type": "display_data"
    },
    {
     "name": "stdout",
     "output_type": "stream",
     "text": [
      "['reaxys'] :  CC[C@H](C)Cn1c(N)c(N=O)c(=O)n(C)c1=O>>CC[C@H](C)Cn1c(N)c(N)c(=O)n(C)c1=O\n"
     ]
    },
    {
     "data": {
      "text/html": [
       "<img src=\"https://askcos.mit.edu/api/v2/draw/?smiles=CC%5BC%40H%5D%28C%29Cn1c%28N%29c%28N%3DO%29c%28%3DO%29n%28C%29c1%3DO%3E%3ECC%5BC%40H%5D%28C%29Cn1c%28N%29c%28N%29c%28%3DO%29n%28C%29c1%3DO&draw_map=false&highlight=false\"/>"
      ],
      "text/plain": [
       "<IPython.core.display.Image object>"
      ]
     },
     "metadata": {},
     "output_type": "display_data"
    },
    {
     "name": "stdout",
     "output_type": "stream",
     "text": [
      "['reaxys'] :  CC(=O)O.CC[C@H](C)Cn1c(N)c(N)c(=O)n(C)c1=O>>CC[C@H](C)Cn1c(=O)n(C)c(=O)c2[nH]c(C)nc21\n"
     ]
    },
    {
     "data": {
      "text/html": [
       "<img src=\"https://askcos.mit.edu/api/v2/draw/?smiles=CC%28%3DO%29O.CC%5BC%40H%5D%28C%29Cn1c%28N%29c%28N%29c%28%3DO%29n%28C%29c1%3DO%3E%3ECC%5BC%40H%5D%28C%29Cn1c%28%3DO%29n%28C%29c%28%3DO%29c2%5BnH%5Dc%28C%29nc21&draw_map=false&highlight=false\"/>"
      ],
      "text/plain": [
       "<IPython.core.display.Image object>"
      ]
     },
     "metadata": {},
     "output_type": "display_data"
    }
   ],
   "source": [
    "smi = 'CC[C@H](C)Cn1c(=O)n(C)c(=O)c2[nH]c(C)nc21'\n",
    "print_rxns_askcos(askcos_spg_dict,'bkms,reaxys',smi)"
   ]
  },
  {
   "cell_type": "code",
   "execution_count": 53,
   "metadata": {},
   "outputs": [
    {
     "name": "stdout",
     "output_type": "stream",
     "text": [
      "['reaxys'] :  CC(C)=O.CC1=C(C=O)C(C)(C)CCC1>>CC(=O)/C=C/C1=C(C)CCCC1(C)C\n"
     ]
    },
    {
     "data": {
      "text/html": [
       "<img src=\"https://askcos.mit.edu/api/v2/draw/?smiles=CC%28C%29%3DO.CC1%3DC%28C%3DO%29C%28C%29%28C%29CCC1%3E%3ECC%28%3DO%29/C%3DC/C1%3DC%28C%29CCCC1%28C%29C&draw_map=false&highlight=false\"/>"
      ],
      "text/plain": [
       "<IPython.core.display.Image object>"
      ]
     },
     "metadata": {},
     "output_type": "display_data"
    },
    {
     "name": "stdout",
     "output_type": "stream",
     "text": [
      "['reaxys'] :  CC(=O)/C=C/C1=C(C)CCCC1(C)C>>CC1=C(/C=C/C(C)O)C(C)(C)CCC1\n"
     ]
    },
    {
     "data": {
      "text/html": [
       "<img src=\"https://askcos.mit.edu/api/v2/draw/?smiles=CC%28%3DO%29/C%3DC/C1%3DC%28C%29CCCC1%28C%29C%3E%3ECC1%3DC%28/C%3DC/C%28C%29O%29C%28C%29%28C%29CCC1&draw_map=false&highlight=false\"/>"
      ],
      "text/plain": [
       "<IPython.core.display.Image object>"
      ]
     },
     "metadata": {},
     "output_type": "display_data"
    },
    {
     "name": "stdout",
     "output_type": "stream",
     "text": [
      "['bkms', 'bkms'] :  CC1=C(/C=C/C(C)O)C(C)(C)CCC1>>CC1=C(/C=C/C(C)O)C(C)(C)C[C@@H](O)C1\n"
     ]
    },
    {
     "data": {
      "text/html": [
       "<img src=\"https://askcos.mit.edu/api/v2/draw/?smiles=CC1%3DC%28/C%3DC/C%28C%29O%29C%28C%29%28C%29CCC1%3E%3ECC1%3DC%28/C%3DC/C%28C%29O%29C%28C%29%28C%29C%5BC%40%40H%5D%28O%29C1&draw_map=false&highlight=false\"/>"
      ],
      "text/plain": [
       "<IPython.core.display.Image object>"
      ]
     },
     "metadata": {},
     "output_type": "display_data"
    },
    {
     "name": "stdout",
     "output_type": "stream",
     "text": [
      "['reaxys', 'reaxys'] :  CC1=C(/C=C/C(C)O)C(C)(C)C[C@@H](O)C1>>CC(=O)/C=C/C1=C(C)C[C@H](O)CC1(C)C\n"
     ]
    },
    {
     "data": {
      "text/html": [
       "<img src=\"https://askcos.mit.edu/api/v2/draw/?smiles=CC1%3DC%28/C%3DC/C%28C%29O%29C%28C%29%28C%29C%5BC%40%40H%5D%28O%29C1%3E%3ECC%28%3DO%29/C%3DC/C1%3DC%28C%29C%5BC%40H%5D%28O%29CC1%28C%29C&draw_map=false&highlight=false\"/>"
      ],
      "text/plain": [
       "<IPython.core.display.Image object>"
      ]
     },
     "metadata": {},
     "output_type": "display_data"
    }
   ],
   "source": [
    "# 2 steps shorter example\n",
    "smi = 'CC(=O)/C=C/C1=C(C)C[C@H](O)CC1(C)C'\n",
    "print_rxns_askcos(askcos_spg_dict,'bkms,reaxys',smi)"
   ]
  },
  {
   "cell_type": "code",
   "execution_count": 56,
   "metadata": {},
   "outputs": [
    {
     "name": "stdout",
     "output_type": "stream",
     "text": [
      "['reaxys'] :  CC(O)(c1ccccc1)c1ccccc1.CCI>>CCOC(C)(c1ccccc1)c1ccccc1\n"
     ]
    },
    {
     "data": {
      "text/html": [
       "<img src=\"https://askcos.mit.edu/api/v2/draw/?smiles=CC%28O%29%28c1ccccc1%29c1ccccc1.CCI%3E%3ECCOC%28C%29%28c1ccccc1%29c1ccccc1&draw_map=false&highlight=false\"/>"
      ],
      "text/plain": [
       "<IPython.core.display.Image object>"
      ]
     },
     "metadata": {},
     "output_type": "display_data"
    },
    {
     "name": "stdout",
     "output_type": "stream",
     "text": [
      "['bkms'] :  CCOC(C)(c1ccccc1)c1ccccc1>>CCOC(CO)(c1ccccc1)c1ccccc1\n"
     ]
    },
    {
     "data": {
      "text/html": [
       "<img src=\"https://askcos.mit.edu/api/v2/draw/?smiles=CCOC%28C%29%28c1ccccc1%29c1ccccc1%3E%3ECCOC%28CO%29%28c1ccccc1%29c1ccccc1&draw_map=false&highlight=false\"/>"
      ],
      "text/plain": [
       "<IPython.core.display.Image object>"
      ]
     },
     "metadata": {},
     "output_type": "display_data"
    },
    {
     "name": "stdout",
     "output_type": "stream",
     "text": [
      "['reaxys'] :  CCOC(CO)(c1ccccc1)c1ccccc1>>CCOC(C(=O)O)(c1ccccc1)c1ccccc1\n"
     ]
    },
    {
     "data": {
      "text/html": [
       "<img src=\"https://askcos.mit.edu/api/v2/draw/?smiles=CCOC%28CO%29%28c1ccccc1%29c1ccccc1%3E%3ECCOC%28C%28%3DO%29O%29%28c1ccccc1%29c1ccccc1&draw_map=false&highlight=false\"/>"
      ],
      "text/plain": [
       "<IPython.core.display.Image object>"
      ]
     },
     "metadata": {},
     "output_type": "display_data"
    },
    {
     "name": "stdout",
     "output_type": "stream",
     "text": [
      "['reaxys'] :  CCOC(C(=O)O)(c1ccccc1)c1ccccc1.CN(C)CCCl>>CCOC(C(=O)OCCN(C)C)(c1ccccc1)c1ccccc1\n"
     ]
    },
    {
     "data": {
      "text/html": [
       "<img src=\"https://askcos.mit.edu/api/v2/draw/?smiles=CCOC%28C%28%3DO%29O%29%28c1ccccc1%29c1ccccc1.CN%28C%29CCCl%3E%3ECCOC%28C%28%3DO%29OCCN%28C%29C%29%28c1ccccc1%29c1ccccc1&draw_map=false&highlight=false\"/>"
      ],
      "text/plain": [
       "<IPython.core.display.Image object>"
      ]
     },
     "metadata": {},
     "output_type": "display_data"
    }
   ],
   "source": [
    "# 2 steps shorter example\n",
    "smi = 'CCOC(C(=O)OCCN(C)C)(c1ccccc1)c1ccccc1'\n",
    "print_rxns_askcos(askcos_spg_dict,'bkms,reaxys',smi)"
   ]
  },
  {
   "cell_type": "code",
   "execution_count": 13,
   "metadata": {},
   "outputs": [
    {
     "name": "stdout",
     "output_type": "stream",
     "text": [
      "['reaxys'] :  O[C@H](CCCl)c1ccccc1.Oc1ccccc1Br>>ClCC[C@H](Oc1ccccc1Br)c1ccccc1\n"
     ]
    },
    {
     "data": {
      "text/html": [
       "<img src=\"https://askcos.mit.edu/api/v2/draw/?smiles=O%5BC%40H%5D%28CCCl%29c1ccccc1.Oc1ccccc1Br%3E%3EClCC%5BC%40H%5D%28Oc1ccccc1Br%29c1ccccc1&draw_map=false&highlight=false\"/>"
      ],
      "text/plain": [
       "<IPython.core.display.Image object>"
      ]
     },
     "metadata": {},
     "output_type": "display_data"
    },
    {
     "name": "stdout",
     "output_type": "stream",
     "text": [
      "['reaxys'] :  ClCC[C@H](Oc1ccccc1Br)c1ccccc1>>c1ccc([C@@H]2CCc3ccccc3O2)cc1\n"
     ]
    },
    {
     "data": {
      "text/html": [
       "<img src=\"https://askcos.mit.edu/api/v2/draw/?smiles=ClCC%5BC%40H%5D%28Oc1ccccc1Br%29c1ccccc1%3E%3Ec1ccc%28%5BC%40%40H%5D2CCc3ccccc3O2%29cc1&draw_map=false&highlight=false\"/>"
      ],
      "text/plain": [
       "<IPython.core.display.Image object>"
      ]
     },
     "metadata": {},
     "output_type": "display_data"
    },
    {
     "name": "stdout",
     "output_type": "stream",
     "text": [
      "['bkms'] :  c1ccc([C@@H]2CCc3ccccc3O2)cc1>>O[C@H]1Cc2ccccc2O[C@@H]1c1ccccc1\n"
     ]
    },
    {
     "data": {
      "text/html": [
       "<img src=\"https://askcos.mit.edu/api/v2/draw/?smiles=c1ccc%28%5BC%40%40H%5D2CCc3ccccc3O2%29cc1%3E%3EO%5BC%40H%5D1Cc2ccccc2O%5BC%40%40H%5D1c1ccccc1&draw_map=false&highlight=false\"/>"
      ],
      "text/plain": [
       "<IPython.core.display.Image object>"
      ]
     },
     "metadata": {},
     "output_type": "display_data"
    },
    {
     "name": "stdout",
     "output_type": "stream",
     "text": [
      "['reaxys'] :  CI.O[C@H]1Cc2ccccc2O[C@@H]1c1ccccc1>>CO[C@H]1Cc2ccccc2O[C@@H]1c1ccccc1\n"
     ]
    },
    {
     "data": {
      "text/html": [
       "<img src=\"https://askcos.mit.edu/api/v2/draw/?smiles=CI.O%5BC%40H%5D1Cc2ccccc2O%5BC%40%40H%5D1c1ccccc1%3E%3ECO%5BC%40H%5D1Cc2ccccc2O%5BC%40%40H%5D1c1ccccc1&draw_map=false&highlight=false\"/>"
      ],
      "text/plain": [
       "<IPython.core.display.Image object>"
      ]
     },
     "metadata": {},
     "output_type": "display_data"
    },
    {
     "name": "stdout",
     "output_type": "stream",
     "text": [
      "['bkms'] :  CO[C@H]1Cc2ccccc2O[C@@H]1c1ccccc1>>CO[C@H]1Cc2c(O)cccc2O[C@@H]1c1ccccc1\n"
     ]
    },
    {
     "data": {
      "text/html": [
       "<img src=\"https://askcos.mit.edu/api/v2/draw/?smiles=CO%5BC%40H%5D1Cc2ccccc2O%5BC%40%40H%5D1c1ccccc1%3E%3ECO%5BC%40H%5D1Cc2c%28O%29cccc2O%5BC%40%40H%5D1c1ccccc1&draw_map=false&highlight=false\"/>"
      ],
      "text/plain": [
       "<IPython.core.display.Image object>"
      ]
     },
     "metadata": {},
     "output_type": "display_data"
    },
    {
     "name": "stdout",
     "output_type": "stream",
     "text": [
      "['bkms'] :  CO[C@H]1Cc2c(O)cccc2O[C@@H]1c1ccccc1>>CO[C@H]1Cc2c(O)cc(O)cc2O[C@@H]1c1ccccc1\n"
     ]
    },
    {
     "data": {
      "text/html": [
       "<img src=\"https://askcos.mit.edu/api/v2/draw/?smiles=CO%5BC%40H%5D1Cc2c%28O%29cccc2O%5BC%40%40H%5D1c1ccccc1%3E%3ECO%5BC%40H%5D1Cc2c%28O%29cc%28O%29cc2O%5BC%40%40H%5D1c1ccccc1&draw_map=false&highlight=false\"/>"
      ],
      "text/plain": [
       "<IPython.core.display.Image object>"
      ]
     },
     "metadata": {},
     "output_type": "display_data"
    },
    {
     "name": "stdout",
     "output_type": "stream",
     "text": [
      "['bkms'] :  CO[C@H]1Cc2c(O)cc(O)cc2O[C@@H]1c1ccccc1>>CO[C@H]1Cc2c(O)cc(O)cc2O[C@@H]1c1ccc(O)cc1\n"
     ]
    },
    {
     "data": {
      "text/html": [
       "<img src=\"https://askcos.mit.edu/api/v2/draw/?smiles=CO%5BC%40H%5D1Cc2c%28O%29cc%28O%29cc2O%5BC%40%40H%5D1c1ccccc1%3E%3ECO%5BC%40H%5D1Cc2c%28O%29cc%28O%29cc2O%5BC%40%40H%5D1c1ccc%28O%29cc1&draw_map=false&highlight=false\"/>"
      ],
      "text/plain": [
       "<IPython.core.display.Image object>"
      ]
     },
     "metadata": {},
     "output_type": "display_data"
    },
    {
     "name": "stdout",
     "output_type": "stream",
     "text": [
      "['bkms', 'reaxys'] :  CO[C@H]1Cc2c(O)cc(O)cc2O[C@@H]1c1ccc(O)cc1>>CO[C@H]1Cc2c(O)cc(O)cc2O[C@@H]1c1ccc(O)c(O)c1\n"
     ]
    },
    {
     "data": {
      "text/html": [
       "<img src=\"https://askcos.mit.edu/api/v2/draw/?smiles=CO%5BC%40H%5D1Cc2c%28O%29cc%28O%29cc2O%5BC%40%40H%5D1c1ccc%28O%29cc1%3E%3ECO%5BC%40H%5D1Cc2c%28O%29cc%28O%29cc2O%5BC%40%40H%5D1c1ccc%28O%29c%28O%29c1&draw_map=false&highlight=false\"/>"
      ],
      "text/plain": [
       "<IPython.core.display.Image object>"
      ]
     },
     "metadata": {},
     "output_type": "display_data"
    }
   ],
   "source": [
    "smi = 'CO[C@H]1Cc2c(O)cc(O)cc2O[C@@H]1c1ccc(O)c(O)c1'\n",
    "print_rxns_askcos(askcos_spg_dict,'bkms,reaxys',smi)"
   ]
  },
  {
   "cell_type": "code",
   "execution_count": 46,
   "metadata": {},
   "outputs": [
    {
     "name": "stdout",
     "output_type": "stream",
     "text": [
      "['reaxys'] :  CCOC(=O)C(=NO)C(C)=O.CI>>CCOC(=O)C(=NOC)C(C)=O\n"
     ]
    },
    {
     "data": {
      "text/html": [
       "<img src=\"https://askcos.mit.edu/api/v2/draw/?smiles=CCOC%28%3DO%29C%28%3DNO%29C%28C%29%3DO.CI%3E%3ECCOC%28%3DO%29C%28%3DNOC%29C%28C%29%3DO&draw_map=false&highlight=false\"/>"
      ],
      "text/plain": [
       "<IPython.core.display.Image object>"
      ]
     },
     "metadata": {},
     "output_type": "display_data"
    },
    {
     "name": "stdout",
     "output_type": "stream",
     "text": [
      "['reaxys'] :  CCOC(=O)C(=NOC)C(C)=O>>CCOC(=O)C(=NOC)C(=O)CBr\n"
     ]
    },
    {
     "data": {
      "text/html": [
       "<img src=\"https://askcos.mit.edu/api/v2/draw/?smiles=CCOC%28%3DO%29C%28%3DNOC%29C%28C%29%3DO%3E%3ECCOC%28%3DO%29C%28%3DNOC%29C%28%3DO%29CBr&draw_map=false&highlight=false\"/>"
      ],
      "text/plain": [
       "<IPython.core.display.Image object>"
      ]
     },
     "metadata": {},
     "output_type": "display_data"
    },
    {
     "name": "stdout",
     "output_type": "stream",
     "text": [
      "['reaxys'] :  CCOC(=O)C(=NOC)C(=O)CBr.NC(N)=S>>CCOC(=O)/C(=N\\OC)c1csc(N)n1\n"
     ]
    },
    {
     "data": {
      "text/html": [
       "<img src=\"https://askcos.mit.edu/api/v2/draw/?smiles=CCOC%28%3DO%29C%28%3DNOC%29C%28%3DO%29CBr.NC%28N%29%3DS%3E%3ECCOC%28%3DO%29/C%28%3DN%5COC%29c1csc%28N%29n1&draw_map=false&highlight=false\"/>"
      ],
      "text/plain": [
       "<IPython.core.display.Image object>"
      ]
     },
     "metadata": {},
     "output_type": "display_data"
    },
    {
     "name": "stdout",
     "output_type": "stream",
     "text": [
      "['reaxys'] :  CCOC(=O)/C(=N\\OC)c1csc(N)n1>>CO/N=C(\\C(=O)O)c1csc(N)n1\n"
     ]
    },
    {
     "data": {
      "text/html": [
       "<img src=\"https://askcos.mit.edu/api/v2/draw/?smiles=CCOC%28%3DO%29/C%28%3DN%5COC%29c1csc%28N%29n1%3E%3ECO/N%3DC%28%5CC%28%3DO%29O%29c1csc%28N%29n1&draw_map=false&highlight=false\"/>"
      ],
      "text/plain": [
       "<IPython.core.display.Image object>"
      ]
     },
     "metadata": {},
     "output_type": "display_data"
    },
    {
     "name": "stdout",
     "output_type": "stream",
     "text": [
      "['reaxys'] :  CCOP(=O)(Cl)OCC.CO/N=C(\\C(=O)O)c1csc(N)n1>>CCOP(=O)(OCC)OC(=O)/C(=N\\OC)c1csc(N)n1\n"
     ]
    },
    {
     "data": {
      "text/html": [
       "<img src=\"https://askcos.mit.edu/api/v2/draw/?smiles=CCOP%28%3DO%29%28Cl%29OCC.CO/N%3DC%28%5CC%28%3DO%29O%29c1csc%28N%29n1%3E%3ECCOP%28%3DO%29%28OCC%29OC%28%3DO%29/C%28%3DN%5COC%29c1csc%28N%29n1&draw_map=false&highlight=false\"/>"
      ],
      "text/plain": [
       "<IPython.core.display.Image object>"
      ]
     },
     "metadata": {},
     "output_type": "display_data"
    },
    {
     "name": "stdout",
     "output_type": "stream",
     "text": [
      "['reaxys'] :  CCOP(=O)(OCC)OC(=O)/C(=N\\OC)c1csc(N)n1.N[C@@H]1C(=O)N2C(C(=O)O)=C(CO)CS[C@H]12>>CO/N=C(\\C(=O)N[C@@H]1C(=O)N2C(C(=O)O)=C(CO)CS[C@H]12)c1csc(N)n1\n"
     ]
    },
    {
     "data": {
      "text/html": [
       "<img src=\"https://askcos.mit.edu/api/v2/draw/?smiles=CCOP%28%3DO%29%28OCC%29OC%28%3DO%29/C%28%3DN%5COC%29c1csc%28N%29n1.N%5BC%40%40H%5D1C%28%3DO%29N2C%28C%28%3DO%29O%29%3DC%28CO%29CS%5BC%40H%5D12%3E%3ECO/N%3DC%28%5CC%28%3DO%29N%5BC%40%40H%5D1C%28%3DO%29N2C%28C%28%3DO%29O%29%3DC%28CO%29CS%5BC%40H%5D12%29c1csc%28N%29n1&draw_map=false&highlight=false\"/>"
      ],
      "text/plain": [
       "<IPython.core.display.Image object>"
      ]
     },
     "metadata": {},
     "output_type": "display_data"
    },
    {
     "name": "stdout",
     "output_type": "stream",
     "text": [
      "['reaxys'] :  CO/N=C(\\C(=O)N[C@@H]1C(=O)N2C(C(=O)O)=C(CO)CS[C@H]12)c1csc(N)n1>>CO/N=C(\\C(=O)N[C@@H]1C(=O)N2C(C(=O)O)=C(CO)CS(=O)[C@H]12)c1csc(N)n1\n"
     ]
    },
    {
     "data": {
      "text/html": [
       "<img src=\"https://askcos.mit.edu/api/v2/draw/?smiles=CO/N%3DC%28%5CC%28%3DO%29N%5BC%40%40H%5D1C%28%3DO%29N2C%28C%28%3DO%29O%29%3DC%28CO%29CS%5BC%40H%5D12%29c1csc%28N%29n1%3E%3ECO/N%3DC%28%5CC%28%3DO%29N%5BC%40%40H%5D1C%28%3DO%29N2C%28C%28%3DO%29O%29%3DC%28CO%29CS%28%3DO%29%5BC%40H%5D12%29c1csc%28N%29n1&draw_map=false&highlight=false\"/>"
      ],
      "text/plain": [
       "<IPython.core.display.Image object>"
      ]
     },
     "metadata": {},
     "output_type": "display_data"
    },
    {
     "name": "stdout",
     "output_type": "stream",
     "text": [
      "['bkms', 'bkms', 'bkms'] :  CO/N=C(\\C(=O)N[C@@H]1C(=O)N2C(C(=O)O)=C(CO)CS(=O)[C@H]12)c1csc(N)n1>>CO/N=C(\\C(=O)N[C@@H]1C(=O)N2C(C(=O)O)=C(COC(C)=O)C[S@@](=O)[C@H]12)c1csc(N)n1\n"
     ]
    },
    {
     "data": {
      "text/html": [
       "<img src=\"https://askcos.mit.edu/api/v2/draw/?smiles=CO/N%3DC%28%5CC%28%3DO%29N%5BC%40%40H%5D1C%28%3DO%29N2C%28C%28%3DO%29O%29%3DC%28CO%29CS%28%3DO%29%5BC%40H%5D12%29c1csc%28N%29n1%3E%3ECO/N%3DC%28%5CC%28%3DO%29N%5BC%40%40H%5D1C%28%3DO%29N2C%28C%28%3DO%29O%29%3DC%28COC%28C%29%3DO%29C%5BS%40%40%5D%28%3DO%29%5BC%40H%5D12%29c1csc%28N%29n1&draw_map=false&highlight=false\"/>"
      ],
      "text/plain": [
       "<IPython.core.display.Image object>"
      ]
     },
     "metadata": {},
     "output_type": "display_data"
    }
   ],
   "source": [
    "smi = 'CO/N=C(\\C(=O)N[C@@H]1C(=O)N2C(C(=O)O)=C(COC(C)=O)C[S@@](=O)[C@H]12)c1csc(N)n1'\n",
    "print_rxns_askcos(askcos_spg_dict,'bkms,reaxys',smi)"
   ]
  },
  {
   "cell_type": "code",
   "execution_count": 15,
   "metadata": {},
   "outputs": [
    {
     "name": "stdout",
     "output_type": "stream",
     "text": [
      "['reaxys'] :  C#C[Si](C)(C)C.C=CCBr>>C=CCC#C[Si](C)(C)C\n"
     ]
    },
    {
     "data": {
      "text/html": [
       "<img src=\"https://askcos.mit.edu/api/v2/draw/?smiles=C%23C%5BSi%5D%28C%29%28C%29C.C%3DCCBr%3E%3EC%3DCCC%23C%5BSi%5D%28C%29%28C%29C&draw_map=false&highlight=false\"/>"
      ],
      "text/plain": [
       "<IPython.core.display.Image object>"
      ]
     },
     "metadata": {},
     "output_type": "display_data"
    },
    {
     "name": "stdout",
     "output_type": "stream",
     "text": [
      "['reaxys'] :  C=CCC#C[Si](C)(C)C>>C/C=C\\C#C[Si](C)(C)C\n"
     ]
    },
    {
     "data": {
      "text/html": [
       "<img src=\"https://askcos.mit.edu/api/v2/draw/?smiles=C%3DCCC%23C%5BSi%5D%28C%29%28C%29C%3E%3EC/C%3DC%5CC%23C%5BSi%5D%28C%29%28C%29C&draw_map=false&highlight=false\"/>"
      ],
      "text/plain": [
       "<IPython.core.display.Image object>"
      ]
     },
     "metadata": {},
     "output_type": "display_data"
    },
    {
     "name": "stdout",
     "output_type": "stream",
     "text": [
      "['reaxys', 'reaxys'] :  C/C=C\\C#C[Si](C)(C)C>>C#C/C=C\\C\n"
     ]
    },
    {
     "data": {
      "text/html": [
       "<img src=\"https://askcos.mit.edu/api/v2/draw/?smiles=C/C%3DC%5CC%23C%5BSi%5D%28C%29%28C%29C%3E%3EC%23C/C%3DC%5CC&draw_map=false&highlight=false\"/>"
      ],
      "text/plain": [
       "<IPython.core.display.Image object>"
      ]
     },
     "metadata": {},
     "output_type": "display_data"
    },
    {
     "name": "stdout",
     "output_type": "stream",
     "text": [
      "['reaxys', 'reaxys'] :  C#C/C=C\\C.O=C(O)CCC#CBr>>C/C=C\\C#CC#CCCC(=O)O\n"
     ]
    },
    {
     "data": {
      "text/html": [
       "<img src=\"https://askcos.mit.edu/api/v2/draw/?smiles=C%23C/C%3DC%5CC.O%3DC%28O%29CCC%23CBr%3E%3EC/C%3DC%5CC%23CC%23CCCC%28%3DO%29O&draw_map=false&highlight=false\"/>"
      ],
      "text/plain": [
       "<IPython.core.display.Image object>"
      ]
     },
     "metadata": {},
     "output_type": "display_data"
    },
    {
     "name": "stdout",
     "output_type": "stream",
     "text": [
      "['bkms'] :  C/C=C\\C#CC#CCCC(=O)O>>O=C(O)CCC#CC#C/C=C\\CO\n"
     ]
    },
    {
     "data": {
      "text/html": [
       "<img src=\"https://askcos.mit.edu/api/v2/draw/?smiles=C/C%3DC%5CC%23CC%23CCCC%28%3DO%29O%3E%3EO%3DC%28O%29CCC%23CC%23C/C%3DC%5CCO&draw_map=false&highlight=false\"/>"
      ],
      "text/plain": [
       "<IPython.core.display.Image object>"
      ]
     },
     "metadata": {},
     "output_type": "display_data"
    }
   ],
   "source": [
    "smi = 'O=C(O)CCC#CC#C/C=C\\CO'\n",
    "print_rxns_askcos(askcos_spg_dict,'bkms,reaxys',smi)"
   ]
  },
  {
   "cell_type": "code",
   "execution_count": 16,
   "metadata": {},
   "outputs": [
    {
     "name": "stdout",
     "output_type": "stream",
     "text": [
      "['reaxys'] :  CC(=O)c1ccc(C)o1.C[Mg]Br>>Cc1ccc(C(C)(C)O)o1\n"
     ]
    },
    {
     "data": {
      "text/html": [
       "<img src=\"https://askcos.mit.edu/api/v2/draw/?smiles=CC%28%3DO%29c1ccc%28C%29o1.C%5BMg%5DBr%3E%3ECc1ccc%28C%28C%29%28C%29O%29o1&draw_map=false&highlight=false\"/>"
      ],
      "text/plain": [
       "<IPython.core.display.Image object>"
      ]
     },
     "metadata": {},
     "output_type": "display_data"
    },
    {
     "name": "stdout",
     "output_type": "stream",
     "text": [
      "['reaxys', 'reaxys'] :  Cc1ccc(C(C)(C)O)o1>>C=C(C)c1ccc(C)o1\n"
     ]
    },
    {
     "data": {
      "text/html": [
       "<img src=\"https://askcos.mit.edu/api/v2/draw/?smiles=Cc1ccc%28C%28C%29%28C%29O%29o1%3E%3EC%3DC%28C%29c1ccc%28C%29o1&draw_map=false&highlight=false\"/>"
      ],
      "text/plain": [
       "<IPython.core.display.Image object>"
      ]
     },
     "metadata": {},
     "output_type": "display_data"
    },
    {
     "name": "stdout",
     "output_type": "stream",
     "text": [
      "['reaxys'] :  C=C(C)c1ccc(C)o1>>Cc1ccc(C(C)C)o1\n"
     ]
    },
    {
     "data": {
      "text/html": [
       "<img src=\"https://askcos.mit.edu/api/v2/draw/?smiles=C%3DC%28C%29c1ccc%28C%29o1%3E%3ECc1ccc%28C%28C%29C%29o1&draw_map=false&highlight=false\"/>"
      ],
      "text/plain": [
       "<IPython.core.display.Image object>"
      ]
     },
     "metadata": {},
     "output_type": "display_data"
    }
   ],
   "source": [
    "smi = 'Cc1ccc(C(C)C)o1'\n",
    "print_rxns_askcos(askcos_spg_dict,'bkms,reaxys',smi)"
   ]
  },
  {
   "cell_type": "code",
   "execution_count": 17,
   "metadata": {},
   "outputs": [
    {
     "name": "stdout",
     "output_type": "stream",
     "text": [
      "['reaxys'] :  CC(=O)c1ccc2c(c1)OCO2.CN(C)C=O>>O=C/C=C(\\Cl)c1ccc2c(c1)OCO2\n"
     ]
    },
    {
     "data": {
      "text/html": [
       "<img src=\"https://askcos.mit.edu/api/v2/draw/?smiles=CC%28%3DO%29c1ccc2c%28c1%29OCO2.CN%28C%29C%3DO%3E%3EO%3DC/C%3DC%28%5CCl%29c1ccc2c%28c1%29OCO2&draw_map=false&highlight=false\"/>"
      ],
      "text/plain": [
       "<IPython.core.display.Image object>"
      ]
     },
     "metadata": {},
     "output_type": "display_data"
    },
    {
     "name": "stdout",
     "output_type": "stream",
     "text": [
      "['reaxys'] :  CCOC(=O)CP(=O)(OCC)OCC.O=C/C=C(\\Cl)c1ccc2c(c1)OCO2>>CCOC(=O)/C=C/C=C(\\Cl)c1ccc2c(c1)OCO2\n"
     ]
    },
    {
     "data": {
      "text/html": [
       "<img src=\"https://askcos.mit.edu/api/v2/draw/?smiles=CCOC%28%3DO%29CP%28%3DO%29%28OCC%29OCC.O%3DC/C%3DC%28%5CCl%29c1ccc2c%28c1%29OCO2%3E%3ECCOC%28%3DO%29/C%3DC/C%3DC%28%5CCl%29c1ccc2c%28c1%29OCO2&draw_map=false&highlight=false\"/>"
      ],
      "text/plain": [
       "<IPython.core.display.Image object>"
      ]
     },
     "metadata": {},
     "output_type": "display_data"
    },
    {
     "name": "stdout",
     "output_type": "stream",
     "text": [
      "['reaxys'] :  CCOC(=O)/C=C/C=C(\\Cl)c1ccc2c(c1)OCO2>>O=C(O)/C=C/C#Cc1ccc2c(c1)OCO2\n"
     ]
    },
    {
     "data": {
      "text/html": [
       "<img src=\"https://askcos.mit.edu/api/v2/draw/?smiles=CCOC%28%3DO%29/C%3DC/C%3DC%28%5CCl%29c1ccc2c%28c1%29OCO2%3E%3EO%3DC%28O%29/C%3DC/C%23Cc1ccc2c%28c1%29OCO2&draw_map=false&highlight=false\"/>"
      ],
      "text/plain": [
       "<IPython.core.display.Image object>"
      ]
     },
     "metadata": {},
     "output_type": "display_data"
    },
    {
     "name": "stdout",
     "output_type": "stream",
     "text": [
      "['reaxys', 'reaxys'] :  CC(C)CN.O=C(O)/C=C/C#Cc1ccc2c(c1)OCO2>>CC(C)CNC(=O)/C=C/C#Cc1ccc2c(c1)OCO2\n"
     ]
    },
    {
     "data": {
      "text/html": [
       "<img src=\"https://askcos.mit.edu/api/v2/draw/?smiles=CC%28C%29CN.O%3DC%28O%29/C%3DC/C%23Cc1ccc2c%28c1%29OCO2%3E%3ECC%28C%29CNC%28%3DO%29/C%3DC/C%23Cc1ccc2c%28c1%29OCO2&draw_map=false&highlight=false\"/>"
      ],
      "text/plain": [
       "<IPython.core.display.Image object>"
      ]
     },
     "metadata": {},
     "output_type": "display_data"
    },
    {
     "name": "stdout",
     "output_type": "stream",
     "text": [
      "['reaxys'] :  CC(C)CNC(=O)/C=C/C#Cc1ccc2c(c1)OCO2>>CC(C)CNC(=O)/C=C/C=C\\c1ccc2c(c1)OCO2\n"
     ]
    },
    {
     "data": {
      "text/html": [
       "<img src=\"https://askcos.mit.edu/api/v2/draw/?smiles=CC%28C%29CNC%28%3DO%29/C%3DC/C%23Cc1ccc2c%28c1%29OCO2%3E%3ECC%28C%29CNC%28%3DO%29/C%3DC/C%3DC%5Cc1ccc2c%28c1%29OCO2&draw_map=false&highlight=false\"/>"
      ],
      "text/plain": [
       "<IPython.core.display.Image object>"
      ]
     },
     "metadata": {},
     "output_type": "display_data"
    }
   ],
   "source": [
    "smi = 'CC(C)CNC(=O)/C=C/C=C\\c1ccc2c(c1)OCO2'\n",
    "print_rxns_askcos(askcos_spg_dict,'bkms,reaxys',smi)"
   ]
  },
  {
   "cell_type": "code",
   "execution_count": 22,
   "metadata": {},
   "outputs": [
    {
     "name": "stdout",
     "output_type": "stream",
     "text": [
      "['reaxys'] :  CCC#CCCCCC>>CC/C=C\\CCCCC\n"
     ]
    },
    {
     "data": {
      "text/html": [
       "<img src=\"https://askcos.mit.edu/api/v2/draw/?smiles=CCC%23CCCCCC%3E%3ECC/C%3DC%5CCCCCC&draw_map=false&highlight=false\"/>"
      ],
      "text/plain": [
       "<IPython.core.display.Image object>"
      ]
     },
     "metadata": {},
     "output_type": "display_data"
    },
    {
     "name": "stdout",
     "output_type": "stream",
     "text": [
      "['bkms'] :  CC/C=C\\CCCCC>>CC/C=C\\CCCCCO\n"
     ]
    },
    {
     "data": {
      "text/html": [
       "<img src=\"https://askcos.mit.edu/api/v2/draw/?smiles=CC/C%3DC%5CCCCCC%3E%3ECC/C%3DC%5CCCCCCO&draw_map=false&highlight=false\"/>"
      ],
      "text/plain": [
       "<IPython.core.display.Image object>"
      ]
     },
     "metadata": {},
     "output_type": "display_data"
    },
    {
     "name": "stdout",
     "output_type": "stream",
     "text": [
      "['reaxys'] :  CC/C=C\\CCCCCO>>CC/C=C\\CCCCC(=O)O\n"
     ]
    },
    {
     "data": {
      "text/html": [
       "<img src=\"https://askcos.mit.edu/api/v2/draw/?smiles=CC/C%3DC%5CCCCCCO%3E%3ECC/C%3DC%5CCCCCC%28%3DO%29O&draw_map=false&highlight=false\"/>"
      ],
      "text/plain": [
       "<IPython.core.display.Image object>"
      ]
     },
     "metadata": {},
     "output_type": "display_data"
    },
    {
     "name": "stdout",
     "output_type": "stream",
     "text": [
      "['bkms'] :  CC/C=C\\CCCCC(=O)O>>CC/C=C\\CC/C=C/C(=O)O\n"
     ]
    },
    {
     "data": {
      "text/html": [
       "<img src=\"https://askcos.mit.edu/api/v2/draw/?smiles=CC/C%3DC%5CCCCCC%28%3DO%29O%3E%3ECC/C%3DC%5CCC/C%3DC/C%28%3DO%29O&draw_map=false&highlight=false\"/>"
      ],
      "text/plain": [
       "<IPython.core.display.Image object>"
      ]
     },
     "metadata": {},
     "output_type": "display_data"
    },
    {
     "name": "stdout",
     "output_type": "stream",
     "text": [
      "['reaxys', 'reaxys', 'reaxys'] :  CC/C=C\\CC/C=C/C(=O)O.NC1CC1>>CC/C=C\\CC/C=C/C(=O)NC1CC1\n"
     ]
    },
    {
     "data": {
      "text/html": [
       "<img src=\"https://askcos.mit.edu/api/v2/draw/?smiles=CC/C%3DC%5CCC/C%3DC/C%28%3DO%29O.NC1CC1%3E%3ECC/C%3DC%5CCC/C%3DC/C%28%3DO%29NC1CC1&draw_map=false&highlight=false\"/>"
      ],
      "text/plain": [
       "<IPython.core.display.Image object>"
      ]
     },
     "metadata": {},
     "output_type": "display_data"
    }
   ],
   "source": [
    "smi = 'CC/C=C\\CC/C=C/C(=O)NC1CC1'\n",
    "print_rxns_askcos(askcos_spg_dict,'bkms,reaxys',smi)"
   ]
  },
  {
   "cell_type": "code",
   "execution_count": 24,
   "metadata": {},
   "outputs": [
    {
     "name": "stdout",
     "output_type": "stream",
     "text": [
      "['reaxys'] :  CC(C)(C)OC(=O)N1CCC[C@@H]1C(=O)O.N[C@H](CCC(=O)O)C(=O)OCc1ccccc1>>CC(C)(C)OC(=O)N1CCC[C@@H]1C(=O)N[C@H](CCC(=O)O)C(=O)OCc1ccccc1\n"
     ]
    },
    {
     "data": {
      "text/html": [
       "<img src=\"https://askcos.mit.edu/api/v2/draw/?smiles=CC%28C%29%28C%29OC%28%3DO%29N1CCC%5BC%40%40H%5D1C%28%3DO%29O.N%5BC%40H%5D%28CCC%28%3DO%29O%29C%28%3DO%29OCc1ccccc1%3E%3ECC%28C%29%28C%29OC%28%3DO%29N1CCC%5BC%40%40H%5D1C%28%3DO%29N%5BC%40H%5D%28CCC%28%3DO%29O%29C%28%3DO%29OCc1ccccc1&draw_map=false&highlight=false\"/>"
      ],
      "text/plain": [
       "<IPython.core.display.Image object>"
      ]
     },
     "metadata": {},
     "output_type": "display_data"
    },
    {
     "name": "stdout",
     "output_type": "stream",
     "text": [
      "['reaxys'] :  CC(C)(C)OC(=O)N1CCC[C@@H]1C(=O)N[C@H](CCC(=O)O)C(=O)OCc1ccccc1>>CC(C)(C)OC(=O)N1CCC[C@@H]1C(=O)N[C@H](CCC(=O)O)C(=O)O\n"
     ]
    },
    {
     "data": {
      "text/html": [
       "<img src=\"https://askcos.mit.edu/api/v2/draw/?smiles=CC%28C%29%28C%29OC%28%3DO%29N1CCC%5BC%40%40H%5D1C%28%3DO%29N%5BC%40H%5D%28CCC%28%3DO%29O%29C%28%3DO%29OCc1ccccc1%3E%3ECC%28C%29%28C%29OC%28%3DO%29N1CCC%5BC%40%40H%5D1C%28%3DO%29N%5BC%40H%5D%28CCC%28%3DO%29O%29C%28%3DO%29O&draw_map=false&highlight=false\"/>"
      ],
      "text/plain": [
       "<IPython.core.display.Image object>"
      ]
     },
     "metadata": {},
     "output_type": "display_data"
    },
    {
     "name": "stdout",
     "output_type": "stream",
     "text": [
      "['reaxys'] :  CC(C)(C)OC(=O)N1CCC[C@@H]1C(=O)N[C@H](CCC(=O)O)C(=O)O>>O=C(O)CC[C@@H](NC(=O)[C@H]1CCCN1)C(=O)O\n"
     ]
    },
    {
     "data": {
      "text/html": [
       "<img src=\"https://askcos.mit.edu/api/v2/draw/?smiles=CC%28C%29%28C%29OC%28%3DO%29N1CCC%5BC%40%40H%5D1C%28%3DO%29N%5BC%40H%5D%28CCC%28%3DO%29O%29C%28%3DO%29O%3E%3EO%3DC%28O%29CC%5BC%40%40H%5D%28NC%28%3DO%29%5BC%40H%5D1CCCN1%29C%28%3DO%29O&draw_map=false&highlight=false\"/>"
      ],
      "text/plain": [
       "<IPython.core.display.Image object>"
      ]
     },
     "metadata": {},
     "output_type": "display_data"
    }
   ],
   "source": [
    "smi = 'O=C(O)CC[C@@H](NC(=O)[C@H]1CCCN1)C(=O)O'\n",
    "print_rxns_askcos(askcos_spg_dict,'bkms,reaxys',smi)"
   ]
  }
 ],
 "metadata": {
  "kernelspec": {
   "display_name": "sfscore_tools",
   "language": "python",
   "name": "python3"
  },
  "language_info": {
   "codemirror_mode": {
    "name": "ipython",
    "version": 3
   },
   "file_extension": ".py",
   "mimetype": "text/x-python",
   "name": "python",
   "nbconvert_exporter": "python",
   "pygments_lexer": "ipython3",
   "version": "3.6.13"
  },
  "orig_nbformat": 4
 },
 "nbformat": 4,
 "nbformat_minor": 2
}
