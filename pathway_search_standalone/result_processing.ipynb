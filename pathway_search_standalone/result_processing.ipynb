{
 "cells": [
  {
   "cell_type": "code",
   "execution_count": 6,
   "metadata": {},
   "outputs": [],
   "source": [
    "import networkx as nx\n",
    "import json\n",
    "import numpy as np\n",
    "import pandas as pd\n",
    "\n",
    "# from scripts.search_utils import build_graph_from_async\n",
    "from scripts.process_utils import (compare_results_with_askcos,\n",
    "                                   print_rxns,print_bypass_rxns,\n",
    "                                   print_rxns_list, build_graph_from_async)\n",
    "from scripts.utils import *\n",
    "\n",
    "from rdkit.Chem import AllChem as Chem\n",
    "from rdkit import DataStructs\n",
    "\n",
    "import urllib.parse\n",
    "from IPython.display import Image,display"
   ]
  },
  {
   "cell_type": "code",
   "execution_count": 7,
   "metadata": {},
   "outputs": [],
   "source": [
    "def enzy_template_id_search(template_id,target_mol):\n",
    "    \"\"\"\n",
    "    Searches for templates matching a given template ID and finds the most similar molecule to a target molecule.\n",
    "\n",
    "    Args:\n",
    "    template_id (str/int): The template ID to search for in the template database.\n",
    "    target_mol (str): The SMILES representation of the target molecule.\n",
    "\n",
    "    Returns:\n",
    "    DataFrame Row: The row from the template DataFrame corresponding to the most similar molecule.\n",
    "    \"\"\"\n",
    "    \n",
    "    templates = pd.read_json('/home/xuan/GitLab/hybmind/data/bkms-retro.templates.bkms.json.gz')\n",
    "    template_df = pd.read_json('/home/xuan/GitLab/hybmind/data/bkms-templates.df.json.gz')\n",
    "    index = int(templates[templates['_id']==template_id]['index'])\n",
    "    \n",
    "    ref_mol = Chem.MolFromSmiles(target_mol)\n",
    "    ref_fp = Chem.GetMorganFingerprintAsBitVect(ref_mol, 2, nBits=1024)\n",
    "\n",
    "    new_template_df = template_df.loc[template_df['index']==index,['products']]\n",
    "    mol_smarts_list = [new_template_df.loc[idx,'products'] for idx in new_template_df.index]\n",
    "    mol_list = [Chem.MolFromSmiles(mol_smarts) for mol_smarts in mol_smarts_list]\n",
    "\n",
    "    fp_list = [Chem.GetMorganFingerprintAsBitVect(mol, 2, nBits=1024) for mol in mol_list]\n",
    "    sim_list = [DataStructs.TanimotoSimilarity(ref_fp,fp) for fp in fp_list]\n",
    "    largest_smi_index = np.argmax(sim_list)\n",
    "    return template_df.loc[new_template_df.index[largest_smi_index]]"
   ]
  },
  {
   "cell_type": "markdown",
   "metadata": {},
   "source": [
    "# Process search results of 1001 molecules from ZINC \"boutique\" subset"
   ]
  },
  {
   "cell_type": "code",
   "execution_count": 8,
   "metadata": {},
   "outputs": [
    {
     "name": "stdout",
     "output_type": "stream",
     "text": [
      "No Graph for COCOC(=O)[C@@H]1N2C(=O)[C@@H](N3C(=O)[C@H](c4ccccc4)NC3(C)C)[C@H]2SC1(C)C 0.15sync\n",
      "No Graph for O=C1NCCc2cc(Br)c(O)c(c2)Oc2ccc(cc2Br)[C@H](O)CNC(=O)/C(=N/O)Cc2cc(Br)c(O)c(c2)Oc2ccc(cc2Br)C/C1=N\\O 0.15sync\n",
      "No Graph for CC(=O)OC[C@]12[C@H](OC(C)=O)[C@H](OC(C)=O)[C@@H]3[C@@H](OC(C)=O)[C@@]14O[C@@]3(C)COC(=O)c1cccnc1CC[C@@](C)(OC(=O)c1ccccc1)C(=O)O[C@@H]([C@H](OC(C)=O)[C@@H]2OC(C)=O)[C@]4(C)O 0.15sync\n",
      "No Graph for CN1[C@H]2C[C@H](OC(=O)[C@H](CO)c3ccccc3)C[C@@H]1[C@@H]1O[C@H]12 0.15sync\n",
      "No Graph for COc1c(OC)c(OC)c2c3c(cc4ccccc42)NC(=O)c13 0.15sync\n",
      "No Graph for COCCO[C@H](C)OCc1ccccc1 0.15sync\n",
      "No Graph for O[C@]12C=C(c3nccc4c3[nH]c3ccccc34)[C@@H]3CCN(CCCC/C=C/CC1)C[C@@]31C[C@@H]3C=CCCCCN3[C@@H]21 0.15sync\n",
      "No Graph for C=CCNS(=O)(=O)c1cc(S(N)(=O)=O)c(Cl)cc1/N=C/C=C(/C)O 0.15sync\n",
      "No Graph for CC(=O)OC[C@]12[C@H](OC(C)=O)[C@H](OC(C)=O)[C@@H]3[C@@H](OC(C)=O)[C@@]14O[C@@]3(C)COC(=O)c1cccnc1[C@H](C)[C@H](C)C(=O)O[C@@H]([C@H](OC(C)=O)[C@@H]2OC(C)=O)[C@]4(C)O 0.15sync\n",
      "No Graph for CCCC(=O)OCC/C(SS/C(CCOC(=O)CCC)=C(\\C)N(C=O)Cc1cnc(C)nc1N)=C(/C)N(C=O)Cc1cnc(C)nc1N 0.15sync\n",
      "No Graph for CCC/C=C1\\OC(=O)C2=C[C@H]3CC[C@]21[C@]1(OC(=O)c2ccccc21)[C@@H]3CCC 0.15sync\n",
      "No Graph for C[C@@H]1CC[C@@H](c2ccoc2)N2C[C@@]3(CC[C@@H]12)CS[C@@]1(CC[C@H]2[C@H](C)CC[C@@H](c4ccoc4)N2C1)C3 0.15sync\n"
     ]
    }
   ],
   "source": [
    "shortest_path_dict = {}\n",
    "spg_dict = {}\n",
    "\n",
    "prioritizer_list = ['async','0.15sync','fh']\n",
    "for i in range(1001):\n",
    "    for prioritizer in prioritizer_list:\n",
    "        path = f'./results/zinc_result/boutique_{prioritizer}_{i}.json'\n",
    "        with open(path, \"r\") as outfile:\n",
    "            result_dict = json.load(outfile)\n",
    "        smiles = result_dict['start_node']['id']\n",
    "        if prioritizer == 'async':\n",
    "            shortest_path_dict[smiles] = {}\n",
    "            spg_dict[smiles] = {}\n",
    "\n",
    "        graph_json = build_graph_from_async(result_dict['explored_rxns'],result_dict['explored_nodes'],result_dict['start_node'])\n",
    "        try:\n",
    "            g = nx.node_link_graph(graph_json)\n",
    "            if g and len(g.nodes)>1:\n",
    "                std_smiles = Chem.MolToSmiles(Chem.MolFromSmiles(smiles))\n",
    "                chem_nodes = [n for n in g.nodes if '>>' not in n]\n",
    "                starting_nodes = [n for n in chem_nodes if g.nodes[n]['terminal']]\n",
    "                s_p_g = metabolic_dijkstra(g, starting_nodes)\n",
    "                spg_dict[smiles][prioritizer] = s_p_g\n",
    "                try:\n",
    "                    shortest_path_dict[smiles][prioritizer] = s_p_g.nodes[std_smiles]['path_length']\n",
    "                except:\n",
    "                    shortest_path_dict[smiles][prioritizer] = s_p_g.nodes[smiles]['path_length']\n",
    "            else:\n",
    "                print ('No Graph for', smiles, prioritizer)\n",
    "        except:\n",
    "            print ('Graph retrieval failed for', smiles, f'boutique_{i}')"
   ]
  },
  {
   "cell_type": "code",
   "execution_count": 4,
   "metadata": {},
   "outputs": [
    {
     "data": {
      "text/html": [
       "<div>\n",
       "<style scoped>\n",
       "    .dataframe tbody tr th:only-of-type {\n",
       "        vertical-align: middle;\n",
       "    }\n",
       "\n",
       "    .dataframe tbody tr th {\n",
       "        vertical-align: top;\n",
       "    }\n",
       "\n",
       "    .dataframe thead th {\n",
       "        text-align: right;\n",
       "    }\n",
       "</style>\n",
       "<table border=\"1\" class=\"dataframe\">\n",
       "  <thead>\n",
       "    <tr style=\"text-align: right;\">\n",
       "      <th></th>\n",
       "      <th>async</th>\n",
       "      <th>0.15sync</th>\n",
       "      <th>fh</th>\n",
       "    </tr>\n",
       "  </thead>\n",
       "  <tbody>\n",
       "    <tr>\n",
       "      <th>CC(=O)[C@@](C)(O)C(=O)O</th>\n",
       "      <td>1.0</td>\n",
       "      <td>1.0</td>\n",
       "      <td>1.0</td>\n",
       "    </tr>\n",
       "    <tr>\n",
       "      <th>CC(=O)NCCC=O</th>\n",
       "      <td>1.0</td>\n",
       "      <td>1.0</td>\n",
       "      <td>1.0</td>\n",
       "    </tr>\n",
       "    <tr>\n",
       "      <th>CCCOC(=O)[C@@H](C)S</th>\n",
       "      <td>2.0</td>\n",
       "      <td>2.0</td>\n",
       "      <td>2.0</td>\n",
       "    </tr>\n",
       "    <tr>\n",
       "      <th>C[C@@H]1C[C@H]2[C@@H]3CCC4=CC(=O)C=C[C@]4(C)[C@@]3(F)[C@@H](O)C[C@]2(C)[C@@]1(O)C(=O)COCc1ccccc1</th>\n",
       "      <td>1.0</td>\n",
       "      <td>1.0</td>\n",
       "      <td>1.0</td>\n",
       "    </tr>\n",
       "    <tr>\n",
       "      <th>Nc1nc2c(ncn2CC[C@@H](O)CO)c(=O)[nH]1</th>\n",
       "      <td>3.0</td>\n",
       "      <td>2.0</td>\n",
       "      <td>2.0</td>\n",
       "    </tr>\n",
       "    <tr>\n",
       "      <th>...</th>\n",
       "      <td>...</td>\n",
       "      <td>...</td>\n",
       "      <td>...</td>\n",
       "    </tr>\n",
       "    <tr>\n",
       "      <th>CCC(=O)O[C@@]1(c2ccccc2)C[C@H](C)N(C)C[C@@H]1C</th>\n",
       "      <td>5.0</td>\n",
       "      <td>5.0</td>\n",
       "      <td>inf</td>\n",
       "    </tr>\n",
       "    <tr>\n",
       "      <th>C/C=C/C(=O)c1c(OC)cc2cc(OC)cc(OC)c2c1OC</th>\n",
       "      <td>inf</td>\n",
       "      <td>inf</td>\n",
       "      <td>inf</td>\n",
       "    </tr>\n",
       "    <tr>\n",
       "      <th>Cc1ccc([C@H](O)[C@@H](C)NCCCc2ccccc2)cc1O</th>\n",
       "      <td>3.0</td>\n",
       "      <td>3.0</td>\n",
       "      <td>inf</td>\n",
       "    </tr>\n",
       "    <tr>\n",
       "      <th>N[C@H](CO)C(=O)N[C@H](CC(=O)O)C(=O)O</th>\n",
       "      <td>1.0</td>\n",
       "      <td>1.0</td>\n",
       "      <td>1.0</td>\n",
       "    </tr>\n",
       "    <tr>\n",
       "      <th>CCN(CCCCCC(C)(C)F)CCC[C@H](O)c1ccc(NS(C)(=O)=O)cc1</th>\n",
       "      <td>inf</td>\n",
       "      <td>6.0</td>\n",
       "      <td>inf</td>\n",
       "    </tr>\n",
       "  </tbody>\n",
       "</table>\n",
       "<p>1001 rows × 3 columns</p>\n",
       "</div>"
      ],
      "text/plain": [
       "                                                    async  0.15sync   fh\n",
       "CC(=O)[C@@](C)(O)C(=O)O                               1.0       1.0  1.0\n",
       "CC(=O)NCCC=O                                          1.0       1.0  1.0\n",
       "CCCOC(=O)[C@@H](C)S                                   2.0       2.0  2.0\n",
       "C[C@@H]1C[C@H]2[C@@H]3CCC4=CC(=O)C=C[C@]4(C)[C@...    1.0       1.0  1.0\n",
       "Nc1nc2c(ncn2CC[C@@H](O)CO)c(=O)[nH]1                  3.0       2.0  2.0\n",
       "...                                                   ...       ...  ...\n",
       "CCC(=O)O[C@@]1(c2ccccc2)C[C@H](C)N(C)C[C@@H]1C        5.0       5.0  inf\n",
       "C/C=C/C(=O)c1c(OC)cc2cc(OC)cc(OC)c2c1OC               inf       inf  inf\n",
       "Cc1ccc([C@H](O)[C@@H](C)NCCCc2ccccc2)cc1O             3.0       3.0  inf\n",
       "N[C@H](CO)C(=O)N[C@H](CC(=O)O)C(=O)O                  1.0       1.0  1.0\n",
       "CCN(CCCCCC(C)(C)F)CCC[C@H](O)c1ccc(NS(C)(=O)=O)cc1    inf       6.0  inf\n",
       "\n",
       "[1001 rows x 3 columns]"
      ]
     },
     "execution_count": 4,
     "metadata": {},
     "output_type": "execute_result"
    }
   ],
   "source": [
    "shortest_paths = pd.DataFrame(shortest_path_dict).T    \n",
    "any_path_found = shortest_paths.copy()\n",
    "for idx in shortest_paths.index:\n",
    "    for col in shortest_paths.columns:\n",
    "        addl_data = shortest_paths.loc[idx, col]\n",
    "        if addl_data < np.inf:\n",
    "            any_path_found.loc[idx, col] = 1\n",
    "        elif addl_data > 12:\n",
    "            any_path_found.loc[idx, col] = 0\n",
    "any_path_found = any_path_found.dropna(axis=0)\n",
    "any_path_found = any_path_found>0\n",
    "for prioritizer in prioritizer_list:\n",
    "    shortest_paths[prioritizer] = shortest_paths[prioritizer].fillna(np.inf)\n",
    "shortest_paths"
   ]
  },
  {
   "cell_type": "code",
   "execution_count": 5,
   "metadata": {},
   "outputs": [
    {
     "data": {
      "text/html": [
       "<div>\n",
       "<style scoped>\n",
       "    .dataframe tbody tr th:only-of-type {\n",
       "        vertical-align: middle;\n",
       "    }\n",
       "\n",
       "    .dataframe tbody tr th {\n",
       "        vertical-align: top;\n",
       "    }\n",
       "\n",
       "    .dataframe thead th {\n",
       "        text-align: right;\n",
       "    }\n",
       "</style>\n",
       "<table border=\"1\" class=\"dataframe\">\n",
       "  <thead>\n",
       "    <tr style=\"text-align: right;\">\n",
       "      <th></th>\n",
       "      <th>async</th>\n",
       "      <th>0.15sync</th>\n",
       "      <th>fh</th>\n",
       "      <th>bkms,reaxys</th>\n",
       "      <th>bkms</th>\n",
       "      <th>reaxys</th>\n",
       "    </tr>\n",
       "  </thead>\n",
       "  <tbody>\n",
       "    <tr>\n",
       "      <th>CC(=O)[C@@](C)(O)C(=O)O</th>\n",
       "      <td>1.0</td>\n",
       "      <td>1.0</td>\n",
       "      <td>1.0</td>\n",
       "      <td>1.0</td>\n",
       "      <td>1.0</td>\n",
       "      <td>5.0</td>\n",
       "    </tr>\n",
       "    <tr>\n",
       "      <th>CC(=O)NCCC=O</th>\n",
       "      <td>1.0</td>\n",
       "      <td>1.0</td>\n",
       "      <td>1.0</td>\n",
       "      <td>1.0</td>\n",
       "      <td>1.0</td>\n",
       "      <td>1.0</td>\n",
       "    </tr>\n",
       "    <tr>\n",
       "      <th>CCCOC(=O)[C@@H](C)S</th>\n",
       "      <td>2.0</td>\n",
       "      <td>2.0</td>\n",
       "      <td>2.0</td>\n",
       "      <td>3.0</td>\n",
       "      <td>2.0</td>\n",
       "      <td>3.0</td>\n",
       "    </tr>\n",
       "    <tr>\n",
       "      <th>C[C@@H]1C[C@H]2[C@@H]3CCC4=CC(=O)C=C[C@]4(C)[C@@]3(F)[C@@H](O)C[C@]2(C)[C@@]1(O)C(=O)COCc1ccccc1</th>\n",
       "      <td>1.0</td>\n",
       "      <td>1.0</td>\n",
       "      <td>1.0</td>\n",
       "      <td>inf</td>\n",
       "      <td>inf</td>\n",
       "      <td>inf</td>\n",
       "    </tr>\n",
       "    <tr>\n",
       "      <th>Nc1nc2c(ncn2CC[C@@H](O)CO)c(=O)[nH]1</th>\n",
       "      <td>3.0</td>\n",
       "      <td>2.0</td>\n",
       "      <td>2.0</td>\n",
       "      <td>3.0</td>\n",
       "      <td>inf</td>\n",
       "      <td>3.0</td>\n",
       "    </tr>\n",
       "    <tr>\n",
       "      <th>...</th>\n",
       "      <td>...</td>\n",
       "      <td>...</td>\n",
       "      <td>...</td>\n",
       "      <td>...</td>\n",
       "      <td>...</td>\n",
       "      <td>...</td>\n",
       "    </tr>\n",
       "    <tr>\n",
       "      <th>CCC(=O)O[C@@]1(c2ccccc2)C[C@H](C)N(C)C[C@@H]1C</th>\n",
       "      <td>5.0</td>\n",
       "      <td>5.0</td>\n",
       "      <td>inf</td>\n",
       "      <td>inf</td>\n",
       "      <td>inf</td>\n",
       "      <td>7.0</td>\n",
       "    </tr>\n",
       "    <tr>\n",
       "      <th>C/C=C/C(=O)c1c(OC)cc2cc(OC)cc(OC)c2c1OC</th>\n",
       "      <td>inf</td>\n",
       "      <td>inf</td>\n",
       "      <td>inf</td>\n",
       "      <td>9.0</td>\n",
       "      <td>inf</td>\n",
       "      <td>inf</td>\n",
       "    </tr>\n",
       "    <tr>\n",
       "      <th>Cc1ccc([C@H](O)[C@@H](C)NCCCc2ccccc2)cc1O</th>\n",
       "      <td>3.0</td>\n",
       "      <td>3.0</td>\n",
       "      <td>inf</td>\n",
       "      <td>inf</td>\n",
       "      <td>inf</td>\n",
       "      <td>4.0</td>\n",
       "    </tr>\n",
       "    <tr>\n",
       "      <th>N[C@H](CO)C(=O)N[C@H](CC(=O)O)C(=O)O</th>\n",
       "      <td>1.0</td>\n",
       "      <td>1.0</td>\n",
       "      <td>1.0</td>\n",
       "      <td>1.0</td>\n",
       "      <td>1.0</td>\n",
       "      <td>2.0</td>\n",
       "    </tr>\n",
       "    <tr>\n",
       "      <th>CCN(CCCCCC(C)(C)F)CCC[C@H](O)c1ccc(NS(C)(=O)=O)cc1</th>\n",
       "      <td>inf</td>\n",
       "      <td>6.0</td>\n",
       "      <td>inf</td>\n",
       "      <td>inf</td>\n",
       "      <td>inf</td>\n",
       "      <td>7.0</td>\n",
       "    </tr>\n",
       "  </tbody>\n",
       "</table>\n",
       "<p>1001 rows × 6 columns</p>\n",
       "</div>"
      ],
      "text/plain": [
       "                                                    async  0.15sync   fh  \\\n",
       "CC(=O)[C@@](C)(O)C(=O)O                               1.0       1.0  1.0   \n",
       "CC(=O)NCCC=O                                          1.0       1.0  1.0   \n",
       "CCCOC(=O)[C@@H](C)S                                   2.0       2.0  2.0   \n",
       "C[C@@H]1C[C@H]2[C@@H]3CCC4=CC(=O)C=C[C@]4(C)[C@...    1.0       1.0  1.0   \n",
       "Nc1nc2c(ncn2CC[C@@H](O)CO)c(=O)[nH]1                  3.0       2.0  2.0   \n",
       "...                                                   ...       ...  ...   \n",
       "CCC(=O)O[C@@]1(c2ccccc2)C[C@H](C)N(C)C[C@@H]1C        5.0       5.0  inf   \n",
       "C/C=C/C(=O)c1c(OC)cc2cc(OC)cc(OC)c2c1OC               inf       inf  inf   \n",
       "Cc1ccc([C@H](O)[C@@H](C)NCCCc2ccccc2)cc1O             3.0       3.0  inf   \n",
       "N[C@H](CO)C(=O)N[C@H](CC(=O)O)C(=O)O                  1.0       1.0  1.0   \n",
       "CCN(CCCCCC(C)(C)F)CCC[C@H](O)c1ccc(NS(C)(=O)=O)cc1    inf       6.0  inf   \n",
       "\n",
       "                                                    bkms,reaxys  bkms  reaxys  \n",
       "CC(=O)[C@@](C)(O)C(=O)O                                     1.0   1.0     5.0  \n",
       "CC(=O)NCCC=O                                                1.0   1.0     1.0  \n",
       "CCCOC(=O)[C@@H](C)S                                         3.0   2.0     3.0  \n",
       "C[C@@H]1C[C@H]2[C@@H]3CCC4=CC(=O)C=C[C@]4(C)[C@...          inf   inf     inf  \n",
       "Nc1nc2c(ncn2CC[C@@H](O)CO)c(=O)[nH]1                        3.0   inf     3.0  \n",
       "...                                                         ...   ...     ...  \n",
       "CCC(=O)O[C@@]1(c2ccccc2)C[C@H](C)N(C)C[C@@H]1C              inf   inf     7.0  \n",
       "C/C=C/C(=O)c1c(OC)cc2cc(OC)cc(OC)c2c1OC                     9.0   inf     inf  \n",
       "Cc1ccc([C@H](O)[C@@H](C)NCCCc2ccccc2)cc1O                   inf   inf     4.0  \n",
       "N[C@H](CO)C(=O)N[C@H](CC(=O)O)C(=O)O                        1.0   1.0     2.0  \n",
       "CCN(CCCCCC(C)(C)F)CCC[C@H](O)c1ccc(NS(C)(=O)=O)cc1          inf   inf     7.0  \n",
       "\n",
       "[1001 rows x 6 columns]"
      ]
     },
     "execution_count": 5,
     "metadata": {},
     "output_type": "execute_result"
    }
   ],
   "source": [
    "askcos_shortest_paths = pd.read_csv('./data/askcos_shortest_paths.csv',index_col=0)\n",
    "merged_pd = shortest_paths.join(askcos_shortest_paths)\n",
    "merged_pd"
   ]
  },
  {
   "cell_type": "code",
   "execution_count": 6,
   "metadata": {},
   "outputs": [
    {
     "name": "stdout",
     "output_type": "stream",
     "text": [
      "async molecule found: 720, rate: 71.93%\n",
      "0.15sync molecule found: 683, rate: 68.23%\n",
      "fh molecule found: 597, rate: 59.64%\n",
      "bkms,reaxys molecule found: 493, rate: 49.25%\n"
     ]
    }
   ],
   "source": [
    "for prioritizer in prioritizer_list+['bkms,reaxys']:\n",
    "    found = 0\n",
    "    for index in merged_pd.index:\n",
    "        tbtf_path_lenth = merged_pd.loc[index, prioritizer]\n",
    "        if tbtf_path_lenth < np.inf:\n",
    "            found += 1\n",
    "    print(f'{prioritizer} molecule found: {found}, rate: {found/len(merged_pd):.2%}')"
   ]
  },
  {
   "cell_type": "code",
   "execution_count": 7,
   "metadata": {},
   "outputs": [
    {
     "name": "stdout",
     "output_type": "stream",
     "text": [
      "Totol number of molecules: 1001 \n",
      "async found: 720 \n",
      "ASKCOS found: 493 \n",
      "async found but ASKCOS not found: 254 \n",
      "async not found but ASKCOS found: 27 \n",
      "Both async and ASKCOS found: 466 \n",
      "async found shorter: 167 \n",
      "async found equiv: 260 \n",
      "async found longer: 39\n",
      "\n",
      "1 step shorter: 100 \n",
      "2 steps shorter: 48 \n",
      "3 steps shorter: 13 \n",
      ">=4 steps shorter: 6\n",
      "\n",
      "\n",
      "Totol number of molecules: 1001 \n",
      "0.15sync found: 683 \n",
      "ASKCOS found: 493 \n",
      "0.15sync found but ASKCOS not found: 226 \n",
      "0.15sync not found but ASKCOS found: 36 \n",
      "Both 0.15sync and ASKCOS found: 457 \n",
      "0.15sync found shorter: 170 \n",
      "0.15sync found equiv: 249 \n",
      "0.15sync found longer: 38\n",
      "\n",
      "1 step shorter: 106 \n",
      "2 steps shorter: 46 \n",
      "3 steps shorter: 13 \n",
      ">=4 steps shorter: 5\n",
      "\n",
      "\n",
      "Totol number of molecules: 1001 \n",
      "fh found: 597 \n",
      "ASKCOS found: 493 \n",
      "fh found but ASKCOS not found: 162 \n",
      "fh not found but ASKCOS found: 58 \n",
      "Both fh and ASKCOS found: 435 \n",
      "fh found shorter: 164 \n",
      "fh found equiv: 248 \n",
      "fh found longer: 23\n",
      "\n",
      "1 step shorter: 97 \n",
      "2 steps shorter: 49 \n",
      "3 steps shorter: 13 \n",
      ">=4 steps shorter: 5\n",
      "\n",
      "\n"
     ]
    }
   ],
   "source": [
    "for prioritizer in prioritizer_list:\n",
    "    compare_results_with_askcos(merged_pd,prioritizer)\n",
    "    print('\\n')"
   ]
  },
  {
   "cell_type": "markdown",
   "metadata": {},
   "source": [
    "# Count how many chemical/reaction nodes in returned graphs"
   ]
  },
  {
   "cell_type": "code",
   "execution_count": 5,
   "metadata": {},
   "outputs": [
    {
     "name": "stdout",
     "output_type": "stream",
     "text": [
      "Saved csv file\n",
      "Saved csv file\n",
      "Saved csv file\n"
     ]
    }
   ],
   "source": [
    "prioritizer_list = ['async','0.15sync','fh']\n",
    "for prioritizer in prioritizer_list:\n",
    "    num_chemical_list = []\n",
    "    num_rxn_list = []\n",
    "    num_enzy_rxn_list = []\n",
    "    num_chem_rxn_list = []\n",
    "    for i in range(1001):\n",
    "    \n",
    "        path = f'./results/zinc_result/boutique_{prioritizer}_{i}.json'\n",
    "        with open(path, \"r\") as outfile:\n",
    "            result_dict = json.load(outfile)\n",
    "            target = list(result_dict['explored_rxns'].keys())[0]\n",
    "        smiles = target\n",
    "        graph_json = build_graph_from_async(result_dict['explored_rxns'],result_dict['explored_nodes'],result_dict['start_node'])\n",
    "        g = nx.node_link_graph(graph_json)\n",
    "        num_rxn = 0\n",
    "        num_chem_rxn = 0\n",
    "        num_enzy_rxn = 0\n",
    "        num_chemical = 0\n",
    "        for node in list(g.nodes):\n",
    "            if '>>' in node:\n",
    "                num_rxn += 1\n",
    "                if 'bkms' in g.nodes[node]['model']:\n",
    "                    num_enzy_rxn += 1\n",
    "                elif 'RXN4Chem' in g.nodes[node]['model']:\n",
    "                    num_chem_rxn += 1\n",
    "            else:\n",
    "                num_chemical += 1\n",
    "        num_chemical_list.append(num_chemical)\n",
    "        num_rxn_list.append(num_rxn)\n",
    "        num_enzy_rxn_list.append(num_enzy_rxn)\n",
    "        num_chem_rxn_list.append(num_chem_rxn)\n",
    "    count_data = {'Chemical nodes':num_chemical_list,\n",
    "                    'Reaction nodes':num_rxn_list,\n",
    "                    'Enzy reaction nodes': num_enzy_rxn_list,\n",
    "                    'Chem reaction nodes': num_chem_rxn_list}\n",
    "    count_data_df = pd.DataFrame.from_dict(count_data)\n",
    "    count_data_df.to_csv(f'./results/count_data/{prioritizer}_search_1000_nodes_count.csv',index=False)\n",
    "    print('Saved csv file')"
   ]
  },
  {
   "cell_type": "markdown",
   "metadata": {},
   "source": [
    "# Show shorter pathways compared with \"bkms,reaxys\" method"
   ]
  },
  {
   "cell_type": "code",
   "execution_count": 9,
   "metadata": {},
   "outputs": [
    {
     "name": "stdout",
     "output_type": "stream",
     "text": [
      "2\n",
      "['bkms']\n",
      "['RXN4Chem']\n",
      "['RXN4Chem']\n"
     ]
    }
   ],
   "source": [
    "def get_model_used(spg_dict, smiles, prioritizer = 'async'):\n",
    "    \"\"\"\n",
    "    Retrieves and prints the model used for each path in the shortest pathway for a given SMILES.\n",
    "\n",
    "    Args:\n",
    "    spg_dict (dict): A dictionary containing pathway graph information.\n",
    "    smiles (str): The molecule SMILES.\n",
    "    prioritizer (str, optional): The method used to select the pathway. Defaults to 'async'.\n",
    "\n",
    "    The function iterates through each path in the shortest pathway of the given SMIles, as determined by the prioritizer,\n",
    "    and prints the model associated with each path.\n",
    "    \"\"\"\n",
    "    for path in spg_dict[smiles][prioritizer].nodes[smiles]['shortest_pathway']:\n",
    "        model = spg_dict[smiles][prioritizer].nodes[path]['model']\n",
    "        print(model)\n",
    "\n",
    "def get_shorter_list(shorter_num):\n",
    "    \"\"\"\n",
    "    Generates a list of indices where the path length difference between two methods meets a specific criterion.\n",
    "\n",
    "    Args:\n",
    "    shorter_num (int): The specific number representing the difference in path length to filter the indices.\n",
    "\n",
    "    Returns:\n",
    "    list: A list of indices where the difference in path lengths between 'async' and 'bkms,reaxys' methods is equal to shorter_num.\n",
    "\n",
    "    The function iterates through the indices of a merged Pandas DataFrame 'merged_pd'. It checks if the path lengths\n",
    "    for 'async' and 'bkms,reaxys' methods are finite and if their difference equals shorter_num. If so, the index is appended to the list.\n",
    "    \"\"\"\n",
    "    shorter_list = []\n",
    "    for index in merged_pd.index:\n",
    "        async_path_length = merged_pd.loc[index, 'async']\n",
    "        askcos_path_length = merged_pd.loc[index, 'bkms,reaxys']\n",
    "        if async_path_length < np.inf and askcos_path_length < np.inf:\n",
    "            if askcos_path_length - async_path_length == shorter_num:\n",
    "                shorter_list.append(index)\n",
    "    return shorter_list\n",
    "\n",
    "async_shorter_list= get_shorter_list(4)\n",
    "print(len(async_shorter_list))\n",
    "get_model_used(spg_dict, 'CC[C@H](C)Cn1c(=O)n(C)c(=O)c2[nH]c(C)nc21')"
   ]
  },
  {
   "cell_type": "code",
   "execution_count": 46,
   "metadata": {},
   "outputs": [
    {
     "name": "stdout",
     "output_type": "stream",
     "text": [
      "C[C@H](O)[C@@](C)(O)CN\n",
      "['RXN4Chem']\n",
      "['bkms']\n",
      "Cc1ccc(C(C)C)o1\n",
      "['RXN4Chem']\n",
      "O=C(O)[C@H](Cc1c[nH]cn1)NC(=O)[C@H]1CCCN1\n",
      "['bkms']\n",
      "N[C@H](Cc1ccccc1)C(=O)N1C[C@@H](O)C[C@@H]1C(=O)O\n",
      "['RXN4Chem']\n",
      "CCn1cc(C(=O)O)c(=O)c2cc(F)c(N)cc21\n",
      "['RXN4Chem']\n",
      "['RXN4Chem']\n",
      "O[C@H](C#Cc1ccc(-c2cccs2)s1)CCl\n",
      "['RXN4Chem']\n",
      "CCCCCCCCCCCCCCCCCCCC[C@H](C)CC\n",
      "['bkms']\n",
      "['bkms']\n",
      "C=CC(=C)CC/C=C(\\C)CC/C=C(/C)C=O\n",
      "['bkms']\n",
      "['bkms']\n",
      "COc1cc(O)cc2c1CC[C@@H](c1ccccc1)O2\n",
      "['RXN4Chem']\n",
      "['RXN4Chem']\n",
      "['bkms']\n",
      "CCC(=O)n1c(=O)n(C2CCN(CCC(C#N)(c3ccccc3)c3ccccc3)CC2)c2ccccc21\n",
      "['RXN4Chem']\n",
      "['RXN4Chem']\n",
      "CC(C)CNC(=O)/C=C/C=C\\c1ccc2c(c1)OCO2\n",
      "['RXN4Chem']\n",
      "['bkms']\n",
      "CN1[C@H]2CCC[C@H]1CC(NC(=O)c1nn(C)c3c(O)cccc13)C2\n",
      "['RXN4Chem']\n",
      "['RXN4Chem']\n",
      "['RXN4Chem']\n",
      "CC(C)C[C@@H](NC(=O)[C@@H]1C[C@@H](O)CN1)C(=O)O\n",
      "['bkms']\n",
      "N[C@@H](Cc1ccccc1)C(=O)N1C[C@H](O)C[C@@H]1C(=O)O\n",
      "['RXN4Chem']\n",
      "O=C(O)CC[C@@H](NC(=O)[C@H]1CCCN1)C(=O)O\n",
      "['bkms']\n",
      "O=C(O)CC(=O)OC[C@H]1O[C@@H](Oc2cc(O)c3c(=O)cc(-c4ccc(O)cc4)oc3c2)[C@H](O)[C@@H](O)[C@@H]1O\n",
      "['RXN4Chem']\n",
      "['bkms']\n",
      "C[C@@H](O)[C@H](NC(=O)Nc1ncnc2c1ncn2[C@@H]1O[C@H](CO)[C@@H](O)[C@H]1O)C(=O)O\n",
      "['bkms']\n",
      "['bkms']\n",
      "['RXN4Chem']\n",
      "CCCCCC/C=C/CCCCCCCc1cc(O)cc(O)c1\n",
      "['bkms']\n",
      "['bkms']\n",
      "COc1cc([C@H](O)[C@@H](O)CO)ccc1O\n",
      "['bkms']\n",
      "['bkms']\n",
      "['bkms']\n",
      "N=C(N)NCCN1CCC2(CC1)CC2\n",
      "['RXN4Chem']\n",
      "['RXN4Chem']\n",
      "['RXN4Chem']\n",
      "C[C@@H]1C[C@@H](O)[C@@H](O)CO1\n",
      "['RXN4Chem']\n",
      "['bkms']\n",
      "CCOC(C(=O)OCCN(C)C)(c1ccccc1)c1ccccc1\n",
      "['RXN4Chem']\n",
      "['RXN4Chem']\n",
      "C[C@@H](O)[C@H]1C=CC(=O)O1\n",
      "['bkms']\n",
      "['RXN4Chem']\n",
      "Cc1ccnc2c1C(=O)c1ccccc1C2=O\n",
      "['RXN4Chem']\n",
      "['RXN4Chem']\n",
      "C[C@H](C(=O)O)C(=O)/C=C(/Cl)C(=O)O\n",
      "['bkms']\n",
      "['bkms']\n",
      "CC(=O)/C=C/C1=C(C)C[C@H](O)CC1(C)C\n",
      "['bkms']\n",
      "['bkms']\n",
      "Fc1ccc(C(CCCN2CCN(CCNc3ccccc3)CC2)c2ccc(F)cc2)cc1\n",
      "['RXN4Chem']\n",
      "['RXN4Chem']\n",
      "C=C[C@@](C)(O)CC(=O)C=C(C)C\n",
      "['bkms']\n",
      "['RXN4Chem']\n",
      "C/C=C(/C)CCC(C)=O\n",
      "['RXN4Chem']\n",
      "['RXN4Chem']\n",
      "CC/C=C\\CC/C=C/C(=O)NC1CC1\n",
      "['bkms']\n",
      "['bkms']\n",
      "['RXN4Chem']\n",
      "COc1ccc2nc3occc3c(OC)c2c1\n",
      "['RXN4Chem']\n",
      "['bkms']\n",
      "C[C@]12C[C@H](O)[C@H]3[C@@H](CCC4=CC(=O)C=C[C@@]43C)[C@@H]1CC[C@]2(O)C(=O)COC(=O)c1cccc(S(=O)(=O)O)c1\n",
      "['RXN4Chem']\n",
      "O=C1CO[C@H](CO)[C@@H](O)[C@H]1O\n",
      "['bkms']\n",
      "['bkms']\n",
      "['bkms']\n",
      "CN1C(=N)N(c2ccc(Cl)cc2)CC1=O\n",
      "['RXN4Chem']\n",
      "['bkms']\n",
      "O=C1[C@@H](O)[C@H](O[C@@H]2[C@@H](CO)O[C@@H](O)[C@H](O)[C@H]2O)O[C@H](CO)[C@@H]1O\n",
      "['bkms']\n",
      "NC(=O)C[C@H](NC(=O)[C@H]1CCCN1)C(=O)O\n",
      "['bkms']\n",
      "O=C(O)CC[C@H](NC(=O)[C@H]1C[C@@H](O)CN1)C(=O)O\n",
      "['bkms']\n",
      "O=C(O)C[C@@H](NC(=O)[C@H]1CCCN1)C(=O)O\n",
      "['RXN4Chem']\n",
      "N[C@H](C(=O)O)[C@@H](O)COP(=O)(O)O\n",
      "['bkms']\n",
      "['bkms']\n",
      "CC(=O)NC[C@H]1CN(c2ccc(C(C)=O)cc2)C(=O)O1\n",
      "['bkms']\n",
      "['RXN4Chem']\n",
      "['RXN4Chem']\n",
      "CC(C)=CCc1c(O)cc2c(c1O)C(=O)C[C@H](c1ccccc1)O2\n",
      "['bkms']\n",
      "['RXN4Chem']\n",
      "NCC1(CC(=O)O)CCCC1\n",
      "['RXN4Chem']\n",
      "CNS(=O)(=O)c1cc(OC)c(OC)c(C(=O)NC[C@@H]2CCCN2C)c1\n",
      "['RXN4Chem']\n",
      "['RXN4Chem']\n",
      "C[C@H]1OC[C@H](CN(C)C)O1\n",
      "['RXN4Chem']\n",
      "['RXN4Chem']\n",
      "N[C@@H](C[C@@H]1CO1)C(=O)O\n",
      "['RXN4Chem']\n",
      "Oc1ccc2c(c1)O[C@H]1c3ccc(O)cc3OC[C@H]21\n",
      "['bkms']\n",
      "['RXN4Chem']\n",
      "['bkms']\n",
      "O=[N+]([O-])c1cccc2c1[C@@H]1O[C@H]1C=C2\n",
      "['bkms']\n",
      "['RXN4Chem']\n",
      "CC(C)NC[C@@H](O)COc1ccc(CC(=O)OCCC23CC4CC(CC(C4)C2)C3)cc1\n",
      "['RXN4Chem']\n",
      "['RXN4Chem']\n",
      "['RXN4Chem']\n"
     ]
    }
   ],
   "source": [
    "for mol_smi in get_shorter_list(2):\n",
    "    print(mol_smi)\n",
    "    get_model_used(spg_dict, mol_smi)"
   ]
  },
  {
   "cell_type": "code",
   "execution_count": 62,
   "metadata": {},
   "outputs": [
    {
     "name": "stdout",
     "output_type": "stream",
     "text": [
      "Product SFSCore: [0.439 0.604] ['bkms'] :  NC(=O)[C@H]1CCCN1.N[C@H](CCC(=O)O)C(=O)O>>O=C(O)CC[C@@H](NC(=O)[C@H]1CCCN1)C(=O)O\n"
     ]
    },
    {
     "data": {
      "text/html": [
       "<img src=\"https://askcos.mit.edu/api/v2/draw/?smiles=NC%28%3DO%29%5BC%40H%5D1CCCN1.N%5BC%40H%5D%28CCC%28%3DO%29O%29C%28%3DO%29O%3E%3EO%3DC%28O%29CC%5BC%40%40H%5D%28NC%28%3DO%29%5BC%40H%5D1CCCN1%29C%28%3DO%29O&draw_map=false&highlight=false\"/>"
      ],
      "text/plain": [
       "<IPython.core.display.Image object>"
      ]
     },
     "metadata": {},
     "output_type": "display_data"
    }
   ],
   "source": [
    "smi = 'O=C(O)CC[C@@H](NC(=O)[C@H]1CCCN1)C(=O)O'\n",
    "print_rxns(spg_dict,'async',smi)"
   ]
  },
  {
   "cell_type": "code",
   "execution_count": 63,
   "metadata": {},
   "outputs": [
    {
     "data": {
      "text/plain": [
       "ID                                                                   6021\n",
       "EC_Number                                                         2.3.2.1\n",
       "Recommended_Name                                    D-glutamyltransferase\n",
       "Reaction                D-glutamine + D-glutamate = NH3 + gamma-D-glut...\n",
       "Reaction_ID_BRENDA                                                BR50365\n",
       "Reaction_ID_KEGG                                                     None\n",
       "Reaction_ID_MetaCyc                             D-GLUTAMYLTRANSFERASE-RXN\n",
       "Reaction_ID_SABIO_RK                                                 None\n",
       "BRENDA_Pathway_Name                                                  None\n",
       "KEGG_Pathway_ID                                                      None\n",
       "KEGG_Pathway_Name                                                    None\n",
       "MetaCyc_Pathway_ID                                                   None\n",
       "MetaCyc_Pathway_Name                                                 None\n",
       "Stoichiometry_Check                                                  None\n",
       "Missing_Substrate                                                    None\n",
       "Missing_Product                                                      None\n",
       "Commentary_KEGG                                                      None\n",
       "Commentary_MetaCyc      D-glutamyltransferase catalyzes two reactions....\n",
       "Remark                                                 natural substrates\n",
       "smiles                  NC(=O)CC[C@@H](N)C(=O)O.N[C@H](CCC(=O)O)C(=O)O...\n",
       "num products                                                            1\n",
       "num_products                                                            1\n",
       "reaction_smiles         N[C:18]([CH2:17][CH2:16][C@H:14]([C:12](=[O:11...\n",
       "_id                                                                 14441\n",
       "reactants               N[C:18]([CH2:17][CH2:16][C@H:14]([C:12](=[O:11...\n",
       "spectators                                                               \n",
       "products                [O:1]=[C:2]([OH:3])[CH2:4][CH2:5][C@@H:6]([NH:...\n",
       "dimer_only                                                          False\n",
       "intra_only                                                          False\n",
       "necessary_reagent                                                        \n",
       "reaction_id                                                         14441\n",
       "reaction_smarts         [C:2]-[C;H0;D3;+0:1](=[O;D1;H0:3])-[NH;D2;+0:4...\n",
       "unmapped_template       [C]-[C;H0;D3;+0](=[O;D1;H0])-[NH;D2;+0]-[C]-[C...\n",
       "index                                                                4247\n",
       "count                                                                   1\n",
       "Name: 16600, dtype: object"
      ]
     },
     "execution_count": 63,
     "metadata": {},
     "output_type": "execute_result"
    }
   ],
   "source": [
    "rxn = 'NC(=O)[C@H]1CCCN1.N[C@H](CCC(=O)O)C(=O)O>>O=C(O)CC[C@@H](NC(=O)[C@H]1CCCN1)C(=O)O'\n",
    "tform = spg_dict[smi]['async'].nodes[rxn]['tforms'][0]\n",
    "enzy_template_id_search(tform,'O=C(O)CC[C@@H](NC(=O)[C@H]1CCCN1)C(=O)O')"
   ]
  },
  {
   "cell_type": "code",
   "execution_count": 56,
   "metadata": {},
   "outputs": [
    {
     "name": "stdout",
     "output_type": "stream",
     "text": [
      "Product SFSCore: [0.453 0.581] ['bkms'] :  CCCCCCCC(=O)O>>C/C=C\\CCCCC(=O)O\n"
     ]
    },
    {
     "data": {
      "text/html": [
       "<img src=\"https://askcos.mit.edu/api/v2/draw/?smiles=CCCCCCCC%28%3DO%29O%3E%3EC/C%3DC%5CCCCCC%28%3DO%29O&draw_map=false&highlight=false\"/>"
      ],
      "text/plain": [
       "<IPython.core.display.Image object>"
      ]
     },
     "metadata": {},
     "output_type": "display_data"
    },
    {
     "name": "stdout",
     "output_type": "stream",
     "text": [
      "Product SFSCore: [0.454 0.582] ['bkms'] :  C/C=C\\CCCCC(=O)O>>C/C=C\\CC/C=C/C(=O)O\n"
     ]
    },
    {
     "data": {
      "text/html": [
       "<img src=\"https://askcos.mit.edu/api/v2/draw/?smiles=C/C%3DC%5CCCCCC%28%3DO%29O%3E%3EC/C%3DC%5CCC/C%3DC/C%28%3DO%29O&draw_map=false&highlight=false\"/>"
      ],
      "text/plain": [
       "<IPython.core.display.Image object>"
      ]
     },
     "metadata": {},
     "output_type": "display_data"
    },
    {
     "name": "stdout",
     "output_type": "stream",
     "text": [
      "Product SFSCore: [0.504 0.515] ['RXN4Chem'] :  C/C=C\\CC/C=C/C(=O)O.NC1CC1>>CC/C=C\\CC/C=C/C(=O)NC1CC1\n"
     ]
    },
    {
     "data": {
      "text/html": [
       "<img src=\"https://askcos.mit.edu/api/v2/draw/?smiles=C/C%3DC%5CCC/C%3DC/C%28%3DO%29O.NC1CC1%3E%3ECC/C%3DC%5CCC/C%3DC/C%28%3DO%29NC1CC1&draw_map=false&highlight=false\"/>"
      ],
      "text/plain": [
       "<IPython.core.display.Image object>"
      ]
     },
     "metadata": {},
     "output_type": "display_data"
    }
   ],
   "source": [
    "smi = 'CC/C=C\\CC/C=C/C(=O)NC1CC1'\n",
    "print_rxns(spg_dict,'async',smi)"
   ]
  },
  {
   "cell_type": "code",
   "execution_count": 49,
   "metadata": {},
   "outputs": [
    {
     "name": "stdout",
     "output_type": "stream",
     "text": [
      "Product SFSCore: [0.478 0.549] ['RXN4Chem'] :  C1CCNCC1.O=C(O)CC(=O)O.O=Cc1ccc2c(c1)OCO2.c1ccncc1>>O=C(O)/C=C\\c1ccc2c(c1)OCO2\n"
     ]
    },
    {
     "data": {
      "text/html": [
       "<img src=\"https://askcos.mit.edu/api/v2/draw/?smiles=C1CCNCC1.O%3DC%28O%29CC%28%3DO%29O.O%3DCc1ccc2c%28c1%29OCO2.c1ccncc1%3E%3EO%3DC%28O%29/C%3DC%5Cc1ccc2c%28c1%29OCO2&draw_map=false&highlight=false\"/>"
      ],
      "text/plain": [
       "<IPython.core.display.Image object>"
      ]
     },
     "metadata": {},
     "output_type": "display_data"
    },
    {
     "name": "stdout",
     "output_type": "stream",
     "text": [
      "Product SFSCore: [0.503 0.518] ['bkms'] :  CC(=O)NCC(C)C.O=C(O)/C=C\\c1ccc2c(c1)OCO2>>CC(C)CNC(=O)/C=C/C=C\\c1ccc2c(c1)OCO2\n"
     ]
    },
    {
     "data": {
      "text/html": [
       "<img src=\"https://askcos.mit.edu/api/v2/draw/?smiles=CC%28%3DO%29NCC%28C%29C.O%3DC%28O%29/C%3DC%5Cc1ccc2c%28c1%29OCO2%3E%3ECC%28C%29CNC%28%3DO%29/C%3DC/C%3DC%5Cc1ccc2c%28c1%29OCO2&draw_map=false&highlight=false\"/>"
      ],
      "text/plain": [
       "<IPython.core.display.Image object>"
      ]
     },
     "metadata": {},
     "output_type": "display_data"
    }
   ],
   "source": [
    "smi = 'CC(C)CNC(=O)/C=C/C=C\\c1ccc2c(c1)OCO2'\n",
    "print_rxns(spg_dict,'async',smi)"
   ]
  },
  {
   "cell_type": "code",
   "execution_count": 50,
   "metadata": {},
   "outputs": [
    {
     "data": {
      "text/plain": [
       "ID                                                                  32092\n",
       "EC_Number                                                            None\n",
       "Recommended_Name                                                     None\n",
       "Reaction                schizokinen + octanoate + H+ = rhizobactin 102...\n",
       "Reaction_ID_BRENDA                                                   None\n",
       "Reaction_ID_KEGG                                                     None\n",
       "Reaction_ID_MetaCyc                                               RXN-685\n",
       "Reaction_ID_SABIO_RK                                                 None\n",
       "BRENDA_Pathway_Name                                                  None\n",
       "KEGG_Pathway_ID                                                      None\n",
       "KEGG_Pathway_Name                                                    None\n",
       "MetaCyc_Pathway_ID                                                PWY-761\n",
       "MetaCyc_Pathway_Name                        rhizobactin 1021 biosynthesis\n",
       "Stoichiometry_Check                                            incomplete\n",
       "Missing_Substrate                                                    None\n",
       "Missing_Product                                                      H1O1\n",
       "Commentary_KEGG                                                      None\n",
       "Commentary_MetaCyc                                                   None\n",
       "Remark                                                 natural substrates\n",
       "smiles                  CC(=O)N(O)CCCNC(=O)CC(O)(CC(=O)NCCCN(O)C(C)=O)...\n",
       "num products                                                            1\n",
       "num_products                                                            1\n",
       "reaction_smiles         O=[C:30](O)[CH2:31][CH2:32][CH2:33][CH2:34][CH...\n",
       "_id                                                                 10560\n",
       "reactants               O=[C:30](O)[CH2:31][CH2:32][CH2:33][CH2:34][CH...\n",
       "spectators                                                               \n",
       "products                [O:1]=[C:2]([OH:3])[C:4]([OH:5])([CH2:6][C:7](...\n",
       "dimer_only                                                          False\n",
       "intra_only                                                          False\n",
       "necessary_reagent                                                        \n",
       "reaction_id                                                         10560\n",
       "reaction_smarts         [#7:3]-[C:4](=[O;D1;H0:6])/[CH;D2;+0:5]=[CH;D2...\n",
       "unmapped_template       [#7]-[C](=[O;D1;H0])/[CH;D2;+0]=[CH;D2;+0]/[C]...\n",
       "index                                                                3245\n",
       "count                                                                   1\n",
       "Name: 14972, dtype: object"
      ]
     },
     "execution_count": 50,
     "metadata": {},
     "output_type": "execute_result"
    }
   ],
   "source": [
    "rxn = 'CC(=O)NCC(C)C.O=C(O)/C=C\\c1ccc2c(c1)OCO2>>CC(C)CNC(=O)/C=C/C=C\\c1ccc2c(c1)OCO2'\n",
    "tform = spg_dict[smi]['async'].nodes[rxn]['tforms'][0]\n",
    "enzy_template_id_search(tform,'CC(C)CNC(=O)/C=C/C=C\\c1ccc2c(c1)OCO2')"
   ]
  },
  {
   "cell_type": "code",
   "execution_count": 48,
   "metadata": {},
   "outputs": [
    {
     "name": "stdout",
     "output_type": "stream",
     "text": [
      "Product SFSCore: [0.534 0.475] ['RXN4Chem'] :  C1CCOC1.CC(C)[Mg]Cl.Cc1ccc(Br)o1>>Cc1ccc(C(C)C)o1\n"
     ]
    },
    {
     "data": {
      "text/html": [
       "<img src=\"https://askcos.mit.edu/api/v2/draw/?smiles=C1CCOC1.CC%28C%29%5BMg%5DCl.Cc1ccc%28Br%29o1%3E%3ECc1ccc%28C%28C%29C%29o1&draw_map=false&highlight=false\"/>"
      ],
      "text/plain": [
       "<IPython.core.display.Image object>"
      ]
     },
     "metadata": {},
     "output_type": "display_data"
    }
   ],
   "source": [
    "smi = 'Cc1ccc(C(C)C)o1'\n",
    "print_rxns(spg_dict,'async',smi)"
   ]
  },
  {
   "cell_type": "code",
   "execution_count": 42,
   "metadata": {},
   "outputs": [
    {
     "name": "stdout",
     "output_type": "stream",
     "text": [
      "Product SFSCore: [0.557 0.446] ['RXN4Chem'] :  BrC(Br)(Br)Br.C#CCCCO.ClCCl.c1ccc(P(c2ccccc2)c2ccccc2)cc1>>OCCCC#CBr\n"
     ]
    },
    {
     "data": {
      "text/html": [
       "<img src=\"https://askcos.mit.edu/api/v2/draw/?smiles=BrC%28Br%29%28Br%29Br.C%23CCCCO.ClCCl.c1ccc%28P%28c2ccccc2%29c2ccccc2%29cc1%3E%3EOCCCC%23CBr&draw_map=false&highlight=false\"/>"
      ],
      "text/plain": [
       "<IPython.core.display.Image object>"
      ]
     },
     "metadata": {},
     "output_type": "display_data"
    },
    {
     "name": "stdout",
     "output_type": "stream",
     "text": [
      "Product SFSCore: [0.467 0.563] ['bkms'] :  OCCCC#CBr>>OC/C=C\\C#CBr\n"
     ]
    },
    {
     "data": {
      "text/html": [
       "<img src=\"https://askcos.mit.edu/api/v2/draw/?smiles=OCCCC%23CBr%3E%3EOC/C%3DC%5CC%23CBr&draw_map=false&highlight=false\"/>"
      ],
      "text/plain": [
       "<IPython.core.display.Image object>"
      ]
     },
     "metadata": {},
     "output_type": "display_data"
    },
    {
     "name": "stdout",
     "output_type": "stream",
     "text": [
      "Product SFSCore: [0.499 0.522] ['RXN4Chem'] :  C#CCCC(=O)O.OC/C=C\\C#CBr>>O=C(O)CCC#CC#C/C=C\\CO\n"
     ]
    },
    {
     "data": {
      "text/html": [
       "<img src=\"https://askcos.mit.edu/api/v2/draw/?smiles=C%23CCCC%28%3DO%29O.OC/C%3DC%5CC%23CBr%3E%3EO%3DC%28O%29CCC%23CC%23C/C%3DC%5CCO&draw_map=false&highlight=false\"/>"
      ],
      "text/plain": [
       "<IPython.core.display.Image object>"
      ]
     },
     "metadata": {},
     "output_type": "display_data"
    }
   ],
   "source": [
    "# Example chrial\n",
    "smi = 'O=C(O)CCC#CC#C/C=C\\CO'\n",
    "print_rxns(spg_dict,'async',smi)"
   ]
  },
  {
   "cell_type": "code",
   "execution_count": 38,
   "metadata": {},
   "outputs": [
    {
     "data": {
      "text/plain": [
       "ID                                                                  21780\n",
       "EC_Number                                                            None\n",
       "Recommended_Name                                                     None\n",
       "Reaction                  (R)-2-Methylmalate + CO2 <=> Parapyruvate + H2O\n",
       "Reaction_ID_BRENDA                                                   None\n",
       "Reaction_ID_KEGG                                                   R03995\n",
       "Reaction_ID_MetaCyc                                                  None\n",
       "Reaction_ID_SABIO_RK                                                 None\n",
       "BRENDA_Pathway_Name                                                  None\n",
       "KEGG_Pathway_ID                                                   rn00660\n",
       "KEGG_Pathway_Name                     C5-Branched dibasic acid metabolism\n",
       "MetaCyc_Pathway_ID                                                   None\n",
       "MetaCyc_Pathway_Name                                                 None\n",
       "Stoichiometry_Check                                                  None\n",
       "Missing_Substrate                                                    None\n",
       "Missing_Product                                                      None\n",
       "Commentary_KEGG                                          unclear reaction\n",
       "Commentary_MetaCyc                                                   None\n",
       "Remark                                                 natural substrates\n",
       "smiles                  C[C@@](O)(CC(=O)O)C(=O)O>>CC(O)(CC(=O)C(=O)O)C...\n",
       "num products                                                            1\n",
       "num_products                                                            1\n",
       "reaction_smiles         [O:1]=[C:2]([OH:3])[CH2:4][C@@:5]([OH:6])([C:7...\n",
       "_id                                                                  4516\n",
       "reactants               [O:1]=[C:2]([OH:3])[CH2:4][C@@:5]([OH:6])([C:7...\n",
       "spectators                                                               \n",
       "products                O=C([C:2](=[O:1])[CH2:4][C:5]([OH:6])([C:7](=[...\n",
       "dimer_only                                                          False\n",
       "intra_only                                                           True\n",
       "necessary_reagent                                                 [C]~[O]\n",
       "reaction_id                                                          4516\n",
       "reaction_smarts         [C:1]-[C;H0;D3;+0:2](=[O;D1;H0:3])-[C;H0;D3;+0...\n",
       "unmapped_template       [C]-[C;H0;D3;+0](=[O;D1;H0])-[C;H0;D3;+0](=[O;...\n",
       "index                                                                 849\n",
       "count                                                                   3\n",
       "Name: 9592, dtype: object"
      ]
     },
     "execution_count": 38,
     "metadata": {},
     "output_type": "execute_result"
    }
   ],
   "source": [
    "rxn = 'C[C@H](CC(=O)O)C(=O)O>>C[C@H](CC(=O)C(=O)O)C(=O)O'\n",
    "tform = spg_dict[smi]['async'].nodes[rxn]['tforms'][0]\n",
    "enzy_template_id_search(tform,'C[C@H](CC(=O)C(=O)O)C(=O)O')"
   ]
  },
  {
   "cell_type": "code",
   "execution_count": 26,
   "metadata": {},
   "outputs": [
    {
     "name": "stdout",
     "output_type": "stream",
     "text": [
      "Product SFSCore: [0.575 0.425] ['RXN4Chem'] :  CON.Nc1nc(C(=O)C(=O)O)cs1.O.[OH-].[Na+]>>CO/N=C(\\C(=O)O)c1csc(N)n1\n"
     ]
    },
    {
     "data": {
      "text/html": [
       "<img src=\"https://askcos.mit.edu/api/v2/draw/?smiles=CON.Nc1nc%28C%28%3DO%29C%28%3DO%29O%29cs1.O.%5BOH-%5D.%5BNa%2B%5D%3E%3ECO/N%3DC%28%5CC%28%3DO%29O%29c1csc%28N%29n1&draw_map=false&highlight=false\"/>"
      ],
      "text/plain": [
       "<IPython.core.display.Image object>"
      ]
     },
     "metadata": {},
     "output_type": "display_data"
    },
    {
     "name": "stdout",
     "output_type": "stream",
     "text": [
      "Product SFSCore: [0.618 0.376] ['RXN4Chem'] :  CC(=O)OCC1=C(C(=O)O)N2C(=O)[C@@H](N)[C@H]2SC1.CO/N=C(\\C(=O)O)c1csc(N)n1>>CO/N=C(\\C(=O)N[C@@H]1C(=O)N2C(C(=O)O)=C(COC(C)=O)CS[C@H]12)c1csc(N)n1\n"
     ]
    },
    {
     "data": {
      "text/html": [
       "<img src=\"https://askcos.mit.edu/api/v2/draw/?smiles=CC%28%3DO%29OCC1%3DC%28C%28%3DO%29O%29N2C%28%3DO%29%5BC%40%40H%5D%28N%29%5BC%40H%5D2SC1.CO/N%3DC%28%5CC%28%3DO%29O%29c1csc%28N%29n1%3E%3ECO/N%3DC%28%5CC%28%3DO%29N%5BC%40%40H%5D1C%28%3DO%29N2C%28C%28%3DO%29O%29%3DC%28COC%28C%29%3DO%29CS%5BC%40H%5D12%29c1csc%28N%29n1&draw_map=false&highlight=false\"/>"
      ],
      "text/plain": [
       "<IPython.core.display.Image object>"
      ]
     },
     "metadata": {},
     "output_type": "display_data"
    },
    {
     "name": "stdout",
     "output_type": "stream",
     "text": [
      "Product SFSCore: [0.631 0.362] ['RXN4Chem'] :  CO/N=C(\\C(=O)N[C@@H]1C(=O)N2C(C(=O)O)=C(COC(C)=O)CS[C@H]12)c1csc(N)n1.ClCCl.O=C(OO)c1cccc(Cl)c1>>CO/N=C(\\C(=O)N[C@@H]1C(=O)N2C(C(=O)O)=C(COC(C)=O)C[S@@](=O)[C@H]12)c1csc(N)n1\n"
     ]
    },
    {
     "data": {
      "text/html": [
       "<img src=\"https://askcos.mit.edu/api/v2/draw/?smiles=CO/N%3DC%28%5CC%28%3DO%29N%5BC%40%40H%5D1C%28%3DO%29N2C%28C%28%3DO%29O%29%3DC%28COC%28C%29%3DO%29CS%5BC%40H%5D12%29c1csc%28N%29n1.ClCCl.O%3DC%28OO%29c1cccc%28Cl%29c1%3E%3ECO/N%3DC%28%5CC%28%3DO%29N%5BC%40%40H%5D1C%28%3DO%29N2C%28C%28%3DO%29O%29%3DC%28COC%28C%29%3DO%29C%5BS%40%40%5D%28%3DO%29%5BC%40H%5D12%29c1csc%28N%29n1&draw_map=false&highlight=false\"/>"
      ],
      "text/plain": [
       "<IPython.core.display.Image object>"
      ]
     },
     "metadata": {},
     "output_type": "display_data"
    }
   ],
   "source": [
    "smi = 'CO/N=C(\\C(=O)N[C@@H]1C(=O)N2C(C(=O)O)=C(COC(C)=O)C[S@@](=O)[C@H]12)c1csc(N)n1'\n",
    "print_rxns(spg_dict,'async',smi)"
   ]
  },
  {
   "cell_type": "code",
   "execution_count": 20,
   "metadata": {},
   "outputs": [
    {
     "name": "stdout",
     "output_type": "stream",
     "text": [
      "Product SFSCore: [0.441 0.599] ['bkms'] :  Oc1cc(O)c2c(c1)O[C@H](c1ccc(O)c(O)c1)[C@@H](O)C2>>CO[C@H]1Cc2c(O)cc(O)cc2O[C@@H]1c1ccc(O)c(O)c1\n"
     ]
    },
    {
     "data": {
      "text/html": [
       "<img src=\"https://askcos.mit.edu/api/v2/draw/?smiles=Oc1cc%28O%29c2c%28c1%29O%5BC%40H%5D%28c1ccc%28O%29c%28O%29c1%29%5BC%40%40H%5D%28O%29C2%3E%3ECO%5BC%40H%5D1Cc2c%28O%29cc%28O%29cc2O%5BC%40%40H%5D1c1ccc%28O%29c%28O%29c1&draw_map=false&highlight=false\"/>"
      ],
      "text/plain": [
       "<IPython.core.display.Image object>"
      ]
     },
     "metadata": {},
     "output_type": "display_data"
    }
   ],
   "source": [
    "smi = 'CO[C@H]1Cc2c(O)cc(O)cc2O[C@@H]1c1ccc(O)c(O)c1'\n",
    "print_rxns(spg_dict,'async',smi)"
   ]
  },
  {
   "cell_type": "code",
   "execution_count": 21,
   "metadata": {},
   "outputs": [
    {
     "data": {
      "text/plain": [
       "ID                                                                  29571\n",
       "EC_Number                                                       2.1.1.M13\n",
       "Recommended_Name                                                     None\n",
       "Reaction                S-adenosyl-L-methionine + 4-O-(alpha-L-rhamnop...\n",
       "Reaction_ID_BRENDA                                                   None\n",
       "Reaction_ID_KEGG                                                     None\n",
       "Reaction_ID_MetaCyc                                             RXN-17288\n",
       "Reaction_ID_SABIO_RK                                                 None\n",
       "BRENDA_Pathway_Name                                                  None\n",
       "KEGG_Pathway_ID                                                      None\n",
       "KEGG_Pathway_Name                                                    None\n",
       "MetaCyc_Pathway_ID                                               PWY-7745\n",
       "MetaCyc_Pathway_Name                                  p-HBAD biosynthesis\n",
       "Stoichiometry_Check                                                  None\n",
       "Missing_Substrate                                                    None\n",
       "Missing_Product                                                      None\n",
       "Commentary_KEGG                                                      None\n",
       "Commentary_MetaCyc                                                   None\n",
       "Remark                                                 natural substrates\n",
       "smiles                  COC(=O)c1ccc(O[C@@H]2O[C@@H](C)[C@H](O)[C@@H](...\n",
       "num products                                                            1\n",
       "num_products                                                            1\n",
       "reaction_smiles         [O:1]=[C:2]([O:3][CH3:4])[c:5]1[cH:6][cH:7][c:...\n",
       "_id                                                                  9429\n",
       "reactants               [O:1]=[C:2]([O:3][CH3:4])[c:5]1[cH:6][cH:7][c:...\n",
       "spectators                                                               \n",
       "products                C[O:19][C@H:18]1[C@H:10]([O:9][c:8]2[cH:7][cH:...\n",
       "dimer_only                                                          False\n",
       "intra_only                                                           True\n",
       "necessary_reagent                                                     [C]\n",
       "reaction_id                                                          9429\n",
       "reaction_smarts         [C:1]-[O;H0;D2;+0:2]-[C;H3;D1;+0]>>[C:1]-[OH;D...\n",
       "unmapped_template           [C]-[O;H0;D2;+0]-[C;H3;D1;+0]>>[C]-[OH;D1;+0]\n",
       "index                                                                 273\n",
       "count                                                                  37\n",
       "Name: 4670, dtype: object"
      ]
     },
     "execution_count": 21,
     "metadata": {},
     "output_type": "execute_result"
    }
   ],
   "source": [
    "rxn = 'Oc1cc(O)c2c(c1)O[C@H](c1ccc(O)c(O)c1)[C@@H](O)C2>>CO[C@H]1Cc2c(O)cc(O)cc2O[C@@H]1c1ccc(O)c(O)c1'\n",
    "tform = spg_dict[smi]['async'].nodes[rxn]['tforms'][0]\n",
    "enzy_template_id_search(tform,'CO[C@H]1Cc2c(O)cc(O)cc2O[C@@H]1c1ccc(O)c(O)c1')"
   ]
  },
  {
   "cell_type": "code",
   "execution_count": null,
   "metadata": {},
   "outputs": [],
   "source": [
    "smi_list = ['CO[C@H]1Cc2c(O)cc(O)cc2O[C@@H]1c1ccc(O)c(O)c1']\n"
   ]
  },
  {
   "cell_type": "markdown",
   "metadata": {},
   "source": [
    "## (S)-verofylline"
   ]
  },
  {
   "cell_type": "code",
   "execution_count": 73,
   "metadata": {},
   "outputs": [
    {
     "name": "stdout",
     "output_type": "stream",
     "text": [
      "Product SFSCore: [0.566 0.435] ['bkms'] :  Cn1c(N)nc(N)c(N)c1=O>>Cn1c(=O)[nH]c(N)c(N)c1=O\n"
     ]
    },
    {
     "data": {
      "text/html": [
       "<img src=\"https://askcos.mit.edu/api/v2/draw/?smiles=Cn1c%28N%29nc%28N%29c%28N%29c1%3DO%3E%3ECn1c%28%3DO%29%5BnH%5Dc%28N%29c%28N%29c1%3DO&draw_map=false&highlight=false\"/>"
      ],
      "text/plain": [
       "<IPython.core.display.Image object>"
      ]
     },
     "metadata": {},
     "output_type": "display_data"
    },
    {
     "name": "stdout",
     "output_type": "stream",
     "text": [
      "Product SFSCore: [0.581 0.419] ['RXN4Chem'] :  CC[C@H](C)CBr.CN(C)C=O.Cn1c(=O)[nH]c(N)c(N)c1=O.O=C([O-])O.[K+].[K+]>>CC[C@H](C)Cn1c(N)c(N)c(=O)n(C)c1=O\n"
     ]
    },
    {
     "data": {
      "text/html": [
       "<img src=\"https://askcos.mit.edu/api/v2/draw/?smiles=CC%5BC%40H%5D%28C%29CBr.CN%28C%29C%3DO.Cn1c%28%3DO%29%5BnH%5Dc%28N%29c%28N%29c1%3DO.O%3DC%28%5BO-%5D%29O.%5BK%2B%5D.%5BK%2B%5D%3E%3ECC%5BC%40H%5D%28C%29Cn1c%28N%29c%28N%29c%28%3DO%29n%28C%29c1%3DO&draw_map=false&highlight=false\"/>"
      ],
      "text/plain": [
       "<IPython.core.display.Image object>"
      ]
     },
     "metadata": {},
     "output_type": "display_data"
    },
    {
     "name": "stdout",
     "output_type": "stream",
     "text": [
      "Product SFSCore: [0.587 0.412] ['RXN4Chem'] :  CC(=O)O.CC[C@H](C)Cn1c(N)c(N)c(=O)n(C)c1=O>>CC[C@H](C)Cn1c(=O)n(C)c(=O)c2[nH]c(C)nc21\n"
     ]
    },
    {
     "data": {
      "text/html": [
       "<img src=\"https://askcos.mit.edu/api/v2/draw/?smiles=CC%28%3DO%29O.CC%5BC%40H%5D%28C%29Cn1c%28N%29c%28N%29c%28%3DO%29n%28C%29c1%3DO%3E%3ECC%5BC%40H%5D%28C%29Cn1c%28%3DO%29n%28C%29c%28%3DO%29c2%5BnH%5Dc%28C%29nc21&draw_map=false&highlight=false\"/>"
      ],
      "text/plain": [
       "<IPython.core.display.Image object>"
      ]
     },
     "metadata": {},
     "output_type": "display_data"
    }
   ],
   "source": [
    "# 1 step shorter example\n",
    "smi = 'CC[C@H](C)Cn1c(=O)n(C)c(=O)c2[nH]c(C)nc21'\n",
    "print_rxns(spg_dict,'async',smi)"
   ]
  },
  {
   "cell_type": "code",
   "execution_count": 79,
   "metadata": {},
   "outputs": [
    {
     "data": {
      "text/plain": [
       "ID                                                                  15512\n",
       "EC_Number                                                            None\n",
       "Recommended_Name                                                     None\n",
       "Reaction                2,5-Diamino-6-(5-phospho-D-ribitylamino)pyrimi...\n",
       "Reaction_ID_BRENDA                                                   None\n",
       "Reaction_ID_KEGG                                                   R09377\n",
       "Reaction_ID_MetaCyc                                             RXN-10058\n",
       "Reaction_ID_SABIO_RK                                                 None\n",
       "BRENDA_Pathway_Name                                                  None\n",
       "KEGG_Pathway_ID                                                   rn00740\n",
       "KEGG_Pathway_Name                                   Riboflavin metabolism\n",
       "MetaCyc_Pathway_ID                                     PWY-6168; PWY-6167\n",
       "MetaCyc_Pathway_Name    flavin biosynthesis III (fungi); flavin biosyn...\n",
       "Stoichiometry_Check                                                  None\n",
       "Missing_Substrate                                                    None\n",
       "Missing_Product                                                      None\n",
       "Commentary_KEGG                                                 deaminase\n",
       "Commentary_MetaCyc                                                   None\n",
       "Remark                                                 natural substrates\n",
       "smiles                  Nc1nc(NC[C@H](O)[C@H](O)[C@H](O)COP(=O)(O)O)c(...\n",
       "num products                                                            2\n",
       "num_products                                                            1\n",
       "reaction_smiles         N[c:4]1[nH:3][c:2](=[O:1])[c:21]([NH2:22])[c:6...\n",
       "_id                                                                 25178\n",
       "reactants               N[c:4]1[nH:3][c:2](=[O:1])[c:21]([NH2:22])[c:6...\n",
       "spectators                                                               \n",
       "products                O=[c:4]1[nH:3][c:2](=[O:1])[c:21]([NH2:22])[c:...\n",
       "dimer_only                                                          False\n",
       "intra_only                                                           True\n",
       "necessary_reagent                                                     [O]\n",
       "reaction_id                                                         25178\n",
       "reaction_smarts         [#7;a:2]:[c;H0;D3;+0:1](=[O;H0;D1;+0]):[nH;D2;...\n",
       "unmapped_template       [#7;a]:[c;H0;D3;+0](=[O;H0;D1;+0]):[nH;D2;+0]:...\n",
       "index                                                                6977\n",
       "count                                                                   1\n",
       "Name: 22211, dtype: object"
      ]
     },
     "execution_count": 79,
     "metadata": {},
     "output_type": "execute_result"
    }
   ],
   "source": [
    "rxn = 'Cn1c(N)nc(N)c(N)c1=O>>Cn1c(=O)[nH]c(N)c(N)c1=O'\n",
    "tform = spg_dict[smi]['async'].nodes[rxn]['tforms'][0]\n",
    "enzy_template_id_search(tform,'Cn1c(=O)[nH]c(N)c(N)c1=O')\n"
   ]
  },
  {
   "cell_type": "markdown",
   "metadata": {},
   "source": [
    "## (3S)-3-Hydroxy-β-ionone"
   ]
  },
  {
   "cell_type": "code",
   "execution_count": 80,
   "metadata": {},
   "outputs": [
    {
     "name": "stdout",
     "output_type": "stream",
     "text": [
      "Product SFSCore: [0.479 0.549] ['bkms'] :  CC(=O)CCC1=C(C)CCCC1(C)C>>CC(=O)/C=C/C1=C(C)CCCC1(C)C\n"
     ]
    },
    {
     "data": {
      "text/html": [
       "<img src=\"https://askcos.mit.edu/api/v2/draw/?smiles=CC%28%3DO%29CCC1%3DC%28C%29CCCC1%28C%29C%3E%3ECC%28%3DO%29/C%3DC/C1%3DC%28C%29CCCC1%28C%29C&draw_map=false&highlight=false\"/>"
      ],
      "text/plain": [
       "<IPython.core.display.Image object>"
      ]
     },
     "metadata": {},
     "output_type": "display_data"
    },
    {
     "name": "stdout",
     "output_type": "stream",
     "text": [
      "Product SFSCore: [0.453 0.582] ['bkms'] :  CC(=O)/C=C/C1=C(C)CCCC1(C)C>>CC(=O)/C=C/C1=C(C)C[C@H](O)CC1(C)C\n"
     ]
    },
    {
     "data": {
      "text/html": [
       "<img src=\"https://askcos.mit.edu/api/v2/draw/?smiles=CC%28%3DO%29/C%3DC/C1%3DC%28C%29CCCC1%28C%29C%3E%3ECC%28%3DO%29/C%3DC/C1%3DC%28C%29C%5BC%40H%5D%28O%29CC1%28C%29C&draw_map=false&highlight=false\"/>"
      ],
      "text/plain": [
       "<IPython.core.display.Image object>"
      ]
     },
     "metadata": {},
     "output_type": "display_data"
    }
   ],
   "source": [
    "# 2 steps shorter example\n",
    "smi = 'CC(=O)/C=C/C1=C(C)C[C@H](O)CC1(C)C'\n",
    "print_rxns(spg_dict,'async',smi)"
   ]
  },
  {
   "cell_type": "code",
   "execution_count": 82,
   "metadata": {},
   "outputs": [
    {
     "data": {
      "text/plain": [
       "ID                                                                  62312\n",
       "EC_Number                                                        1.3.1.48\n",
       "Recommended_Name           13,14-dehydro-15-oxoprostaglandin 13-reductase\n",
       "Reaction                11alpha-hydroxy-9,15-dioxoprostanoate + NADP+ ...\n",
       "Reaction_ID_BRENDA                                                BR36830\n",
       "Reaction_ID_KEGG                                                     None\n",
       "Reaction_ID_MetaCyc                                                  None\n",
       "Reaction_ID_SABIO_RK                                                 None\n",
       "BRENDA_Pathway_Name                                                  None\n",
       "KEGG_Pathway_ID                                                      None\n",
       "KEGG_Pathway_Name                                                    None\n",
       "MetaCyc_Pathway_ID                                                   None\n",
       "MetaCyc_Pathway_Name                                                 None\n",
       "Stoichiometry_Check                                                  None\n",
       "Missing_Substrate                                                    None\n",
       "Missing_Product                                                      None\n",
       "Commentary_KEGG                                                      None\n",
       "Commentary_MetaCyc                                                   None\n",
       "Remark                                                 natural substrates\n",
       "smiles                  CCCCCC(=O)CC[C@H]1[C@H](O)CC(=O)[C@@H]1CCCCCCC...\n",
       "num products                                                            1\n",
       "num_products                                                            1\n",
       "reaction_smiles         [O:1]=[C:2]([OH:3])[CH2:4][CH2:5][CH2:6][CH2:7...\n",
       "_id                                                                 12576\n",
       "reactants               [O:1]=[C:2]([OH:3])[CH2:4][CH2:5][CH2:6][CH2:7...\n",
       "spectators                                                               \n",
       "products                [O:1]=[C:2]([OH:3])[CH2:4][CH2:5][CH2:6][CH2:7...\n",
       "dimer_only                                                          False\n",
       "intra_only                                                           True\n",
       "necessary_reagent                                                        \n",
       "reaction_id                                                         12576\n",
       "reaction_smarts         [C:1]/[CH;D2;+0:2]=[CH;D2;+0:3]/[C:4]=[O;D1;H0...\n",
       "unmapped_template       [C]/[CH;D2;+0]=[CH;D2;+0]/[C]=[O;D1;H0]>>[C]-[...\n",
       "index                                                                 263\n",
       "count                                                                  51\n",
       "Name: 4552, dtype: object"
      ]
     },
     "execution_count": 82,
     "metadata": {},
     "output_type": "execute_result"
    }
   ],
   "source": [
    "rxn = 'CC(=O)CCC1=C(C)CCCC1(C)C>>CC(=O)/C=C/C1=C(C)CCCC1(C)C'\n",
    "tform = spg_dict[smi]['async'].nodes[rxn]['tforms'][0]\n",
    "enzy_template_id_search(tform,'CC(=O)/C=C/C1=C(C)CCCC1(C)C')"
   ]
  },
  {
   "cell_type": "code",
   "execution_count": 83,
   "metadata": {},
   "outputs": [
    {
     "data": {
      "text/plain": [
       "ID                                                                  13906\n",
       "EC_Number                                                      1.14.14.76\n",
       "Recommended_Name                         ent-isokaurene C2/C3-hydroxylase\n",
       "Reaction                ent-isokaurene + O2 + [reduced NADPH-hemoprote...\n",
       "Reaction_ID_BRENDA                                                BR52394\n",
       "Reaction_ID_KEGG                                                     None\n",
       "Reaction_ID_MetaCyc                                                  None\n",
       "Reaction_ID_SABIO_RK                                                 None\n",
       "BRENDA_Pathway_Name                                                  None\n",
       "KEGG_Pathway_ID                                                      None\n",
       "KEGG_Pathway_Name                                                    None\n",
       "MetaCyc_Pathway_ID                                                   None\n",
       "MetaCyc_Pathway_Name                                                 None\n",
       "Stoichiometry_Check                                                  None\n",
       "Missing_Substrate                                                    None\n",
       "Missing_Product                                                      None\n",
       "Commentary_KEGG                                                      None\n",
       "Commentary_MetaCyc                                                   None\n",
       "Remark                               natural substrates, generic, protein\n",
       "smiles                  CC1=C[C@@]23CC[C@@H]4C(C)(C)CCC[C@@]4(C)[C@@H]...\n",
       "num products                                                            1\n",
       "num_products                                                            1\n",
       "reaction_smiles         [CH:1]1=[C:2]([CH3:3])[C@@H:4]2[CH2:5][CH2:6][...\n",
       "_id                                                                  2410\n",
       "reactants               [CH:1]1=[C:2]([CH3:3])[C@@H:4]2[CH2:5][CH2:6][...\n",
       "spectators                                                               \n",
       "products                O[C@H:16]1[CH2:15][C:12]([CH3:13])([CH3:14])[C...\n",
       "dimer_only                                                          False\n",
       "intra_only                                                           True\n",
       "necessary_reagent                                                     [O]\n",
       "reaction_id                                                          2410\n",
       "reaction_smarts         [C:1]-[C@@H;D3;+0:2](-[C:3])-[O;H1;D1;+0]>>[C:...\n",
       "unmapped_template       [C]-[C@@H;D3;+0](-[C])-[O;H1;D1;+0]>>[C]-[CH2;...\n",
       "index                                                                 449\n",
       "count                                                                  53\n",
       "Name: 5887, dtype: object"
      ]
     },
     "execution_count": 83,
     "metadata": {},
     "output_type": "execute_result"
    }
   ],
   "source": [
    "rxn = 'CC(=O)/C=C/C1=C(C)CCCC1(C)C>>CC(=O)/C=C/C1=C(C)C[C@H](O)CC1(C)C'\n",
    "tform = spg_dict[smi]['async'].nodes[rxn]['tforms'][0]\n",
    "enzy_template_id_search(tform,'CC(=O)/C=C/C1=C(C)C[C@H](O)CC1(C)C')"
   ]
  },
  {
   "cell_type": "markdown",
   "metadata": {},
   "source": [
    "## dimenoxadol"
   ]
  },
  {
   "cell_type": "code",
   "execution_count": 49,
   "metadata": {},
   "outputs": [
    {
     "name": "stdout",
     "output_type": "stream",
     "text": [
      "Product SFSCore: [0.583 0.417] ['RXN4Chem'] :  CCO.O=C(O)C(O)(c1ccccc1)c1ccccc1.O=S(=O)(O)O>>CCOC(C(=O)O)(c1ccccc1)c1ccccc1\n"
     ]
    },
    {
     "data": {
      "text/html": [
       "<img src=\"https://askcos.mit.edu/api/v2/draw/?smiles=CCO.O%3DC%28O%29C%28O%29%28c1ccccc1%29c1ccccc1.O%3DS%28%3DO%29%28O%29O%3E%3ECCOC%28C%28%3DO%29O%29%28c1ccccc1%29c1ccccc1&draw_map=false&highlight=false\"/>"
      ],
      "text/plain": [
       "<IPython.core.display.Image object>"
      ]
     },
     "metadata": {},
     "output_type": "display_data"
    },
    {
     "name": "stdout",
     "output_type": "stream",
     "text": [
      "Product SFSCore: [0.606 0.391] ['RXN4Chem'] :  CCOC(C(=O)O)(c1ccccc1)c1ccccc1.CN(C)CCO>>CCOC(C(=O)OCCN(C)C)(c1ccccc1)c1ccccc1\n"
     ]
    },
    {
     "data": {
      "text/html": [
       "<img src=\"https://askcos.mit.edu/api/v2/draw/?smiles=CCOC%28C%28%3DO%29O%29%28c1ccccc1%29c1ccccc1.CN%28C%29CCO%3E%3ECCOC%28C%28%3DO%29OCCN%28C%29C%29%28c1ccccc1%29c1ccccc1&draw_map=false&highlight=false\"/>"
      ],
      "text/plain": [
       "<IPython.core.display.Image object>"
      ]
     },
     "metadata": {},
     "output_type": "display_data"
    }
   ],
   "source": [
    "# 2 steps shorter example\n",
    "smi = 'CCOC(C(=O)OCCN(C)C)(c1ccccc1)c1ccccc1'\n",
    "print_rxns(spg_dict,'async',smi)"
   ]
  },
  {
   "cell_type": "markdown",
   "metadata": {},
   "source": [
    "# Case study: Ethambutol"
   ]
  },
  {
   "cell_type": "code",
   "execution_count": 114,
   "metadata": {},
   "outputs": [],
   "source": [
    "scs_shortest_path_dict = {}\n",
    "scs_spg_dict = {}\n",
    "smi = 'CC[C@@H](CO)NCCN[C@@H](CC)CO'\n",
    "name = 'Ethambutol'\n",
    "\n",
    "path = f'./results/case_study/async_{name}.json'\n",
    "with open(path, \"r\") as outfile:\n",
    "    result_dict = json.load(outfile)\n",
    "\n",
    "\n",
    "smiles = result_dict['start_node']['id']\n",
    "scs_shortest_path_dict[smiles] = {}\n",
    "scs_spg_dict[smiles] = {}\n",
    "prioritizer = 'async'\n",
    "\n",
    "graph_json = build_graph_from_async(result_dict['explored_rxns'],result_dict['explored_nodes'],result_dict['start_node'])\n",
    "try:\n",
    "    g = nx.node_link_graph(graph_json)\n",
    "    if g and len(g.nodes)>1:\n",
    "        std_smiles = Chem.MolToSmiles(Chem.MolFromSmiles(smiles))\n",
    "        chem_nodes = [n for n in g.nodes if '>>' not in n]\n",
    "        starting_nodes = [n for n in chem_nodes if g.nodes[n]['terminal']]\n",
    "        s_p_g = metabolic_dijkstra(g, starting_nodes)\n",
    "        scs_spg_dict[smiles][prioritizer] = s_p_g\n",
    "        try:\n",
    "            scs_shortest_path_dict[smiles][prioritizer] = s_p_g.nodes[std_smiles]['path_length']\n",
    "        except:\n",
    "            scs_shortest_path_dict[smiles][prioritizer] = s_p_g.nodes[smiles]['path_length']\n",
    "    else:\n",
    "        print ('No Graph for', smiles, prioritizer)\n",
    "except:\n",
    "    print ('Graph retrieval failed for', smiles)"
   ]
  },
  {
   "cell_type": "code",
   "execution_count": 115,
   "metadata": {},
   "outputs": [
    {
     "data": {
      "text/plain": [
       "{'type': 'chemical',\n",
       " 'score': 112.76640682967036,\n",
       " 'sfscore': [0.5027291774749756, 0.5171467661857605],\n",
       " 'chem_score': 56.07544387738171,\n",
       " 'enzy_score': 54.44962420331848,\n",
       " 'depth': -1,\n",
       " 'terminal': False,\n",
       " 'path_length': 4,\n",
       " 'visited': False,\n",
       " 'shortest_pathway': ['CC(C)[C@@H](C)N>>CC[C@@H](C)N',\n",
       "  'CC[C@@H](C)N.O=C(Cl)CCl>>CC[C@@H](C)NCC(=O)N[C@H](C)CC',\n",
       "  'C1CCOC1.CC[C@@H](C)NCC(=O)N[C@H](C)CC.[Li+].[AlH4-]>>CC[C@@H](CO)NCCN[C@H](C)CC',\n",
       "  'CC[C@@H](CO)NCCN[C@H](C)CC>>CC[C@@H](CO)NCCN[C@@H](CC)CO']}"
      ]
     },
     "execution_count": 115,
     "metadata": {},
     "output_type": "execute_result"
    }
   ],
   "source": [
    "scs_spg_dict[smi]['async'].nodes[smi]"
   ]
  },
  {
   "cell_type": "code",
   "execution_count": 117,
   "metadata": {},
   "outputs": [
    {
     "name": "stdout",
     "output_type": "stream",
     "text": [
      "Path 0:\n",
      "Product SFSCore: [0.503 0.517] ['bkms'] :  CC[C@@H](CO)NCCN[C@H](C)CC>>CC[C@@H](CO)NCCN[C@@H](CC)CO\n"
     ]
    },
    {
     "data": {
      "text/html": [
       "<img src=\"https://askcos.mit.edu/api/v2/draw/?smiles=CC%5BC%40%40H%5D%28CO%29NCCN%5BC%40H%5D%28C%29CC%3E%3ECC%5BC%40%40H%5D%28CO%29NCCN%5BC%40%40H%5D%28CC%29CO&draw_map=false&highlight=false\"/>"
      ],
      "text/plain": [
       "<IPython.core.display.Image object>"
      ]
     },
     "metadata": {},
     "output_type": "display_data"
    },
    {
     "name": "stdout",
     "output_type": "stream",
     "text": [
      "Product SFSCore: [0.537 0.471] ['RXN4Chem'] :  C1CCOC1.CC[C@@H](C)NCC(=O)N[C@H](C)CC.[Li+].[AlH4-]>>CC[C@@H](CO)NCCN[C@H](C)CC\n"
     ]
    },
    {
     "data": {
      "text/html": [
       "<img src=\"https://askcos.mit.edu/api/v2/draw/?smiles=C1CCOC1.CC%5BC%40%40H%5D%28C%29NCC%28%3DO%29N%5BC%40H%5D%28C%29CC.%5BLi%2B%5D.%5BAlH4-%5D%3E%3ECC%5BC%40%40H%5D%28CO%29NCCN%5BC%40H%5D%28C%29CC&draw_map=false&highlight=false\"/>"
      ],
      "text/plain": [
       "<IPython.core.display.Image object>"
      ]
     },
     "metadata": {},
     "output_type": "display_data"
    },
    {
     "name": "stdout",
     "output_type": "stream",
     "text": [
      "Product SFSCore: [0.52  0.494] ['RXN4Chem'] :  CC[C@@H](C)N.O=C(Cl)CCl>>CC[C@@H](C)NCC(=O)N[C@H](C)CC\n"
     ]
    },
    {
     "data": {
      "text/html": [
       "<img src=\"https://askcos.mit.edu/api/v2/draw/?smiles=CC%5BC%40%40H%5D%28C%29N.O%3DC%28Cl%29CCl%3E%3ECC%5BC%40%40H%5D%28C%29NCC%28%3DO%29N%5BC%40H%5D%28C%29CC&draw_map=false&highlight=false\"/>"
      ],
      "text/plain": [
       "<IPython.core.display.Image object>"
      ]
     },
     "metadata": {},
     "output_type": "display_data"
    },
    {
     "name": "stdout",
     "output_type": "stream",
     "text": [
      "Product SFSCore: [0.496 0.526] ['bkms'] :  CC[C@H](N)CN>>CC[C@@H](C)N\n"
     ]
    },
    {
     "data": {
      "text/html": [
       "<img src=\"https://askcos.mit.edu/api/v2/draw/?smiles=CC%5BC%40H%5D%28N%29CN%3E%3ECC%5BC%40%40H%5D%28C%29N&draw_map=false&highlight=false\"/>"
      ],
      "text/plain": [
       "<IPython.core.display.Image object>"
      ]
     },
     "metadata": {},
     "output_type": "display_data"
    },
    {
     "name": "stdout",
     "output_type": "stream",
     "text": [
      "Product SFSCore: [0.529 0.481] ['RXN4Chem'] :  C1CCOC1.CC[C@@H](N)C(N)=O.[Li+].[AlH4-]>>CC[C@H](N)CN\n"
     ]
    },
    {
     "data": {
      "text/html": [
       "<img src=\"https://askcos.mit.edu/api/v2/draw/?smiles=C1CCOC1.CC%5BC%40%40H%5D%28N%29C%28N%29%3DO.%5BLi%2B%5D.%5BAlH4-%5D%3E%3ECC%5BC%40H%5D%28N%29CN&draw_map=false&highlight=false\"/>"
      ],
      "text/plain": [
       "<IPython.core.display.Image object>"
      ]
     },
     "metadata": {},
     "output_type": "display_data"
    },
    {
     "name": "stdout",
     "output_type": "stream",
     "text": [
      "Path 1:\n",
      "Product SFSCore: [0.503 0.517] ['bkms'] :  CC[C@@H](CO)NCCN[C@H](C)CC>>CC[C@@H](CO)NCCN[C@@H](CC)CO\n"
     ]
    },
    {
     "data": {
      "text/html": [
       "<img src=\"https://askcos.mit.edu/api/v2/draw/?smiles=CC%5BC%40%40H%5D%28CO%29NCCN%5BC%40H%5D%28C%29CC%3E%3ECC%5BC%40%40H%5D%28CO%29NCCN%5BC%40%40H%5D%28CC%29CO&draw_map=false&highlight=false\"/>"
      ],
      "text/plain": [
       "<IPython.core.display.Image object>"
      ]
     },
     "metadata": {},
     "output_type": "display_data"
    },
    {
     "name": "stdout",
     "output_type": "stream",
     "text": [
      "Product SFSCore: [0.537 0.471] ['RXN4Chem'] :  C1CCOC1.CC[C@@H](C)NCC(=O)N[C@H](C)CC.[Li+].[AlH4-]>>CC[C@@H](CO)NCCN[C@H](C)CC\n"
     ]
    },
    {
     "data": {
      "text/html": [
       "<img src=\"https://askcos.mit.edu/api/v2/draw/?smiles=C1CCOC1.CC%5BC%40%40H%5D%28C%29NCC%28%3DO%29N%5BC%40H%5D%28C%29CC.%5BLi%2B%5D.%5BAlH4-%5D%3E%3ECC%5BC%40%40H%5D%28CO%29NCCN%5BC%40H%5D%28C%29CC&draw_map=false&highlight=false\"/>"
      ],
      "text/plain": [
       "<IPython.core.display.Image object>"
      ]
     },
     "metadata": {},
     "output_type": "display_data"
    },
    {
     "name": "stdout",
     "output_type": "stream",
     "text": [
      "Product SFSCore: [0.52  0.494] ['RXN4Chem'] :  CC[C@@H](C)N.O=C(Cl)CCl>>CC[C@@H](C)NCC(=O)N[C@H](C)CC\n"
     ]
    },
    {
     "data": {
      "text/html": [
       "<img src=\"https://askcos.mit.edu/api/v2/draw/?smiles=CC%5BC%40%40H%5D%28C%29N.O%3DC%28Cl%29CCl%3E%3ECC%5BC%40%40H%5D%28C%29NCC%28%3DO%29N%5BC%40H%5D%28C%29CC&draw_map=false&highlight=false\"/>"
      ],
      "text/plain": [
       "<IPython.core.display.Image object>"
      ]
     },
     "metadata": {},
     "output_type": "display_data"
    },
    {
     "name": "stdout",
     "output_type": "stream",
     "text": [
      "Product SFSCore: [0.496 0.526] ['bkms'] :  C[C@@H](N)CCN>>CC[C@@H](C)N\n"
     ]
    },
    {
     "data": {
      "text/html": [
       "<img src=\"https://askcos.mit.edu/api/v2/draw/?smiles=C%5BC%40%40H%5D%28N%29CCN%3E%3ECC%5BC%40%40H%5D%28C%29N&draw_map=false&highlight=false\"/>"
      ],
      "text/plain": [
       "<IPython.core.display.Image object>"
      ]
     },
     "metadata": {},
     "output_type": "display_data"
    },
    {
     "name": "stdout",
     "output_type": "stream",
     "text": [
      "Product SFSCore: [0.533 0.478] ['bkms'] :  NCCCCN>>C[C@@H](N)CCN\n"
     ]
    },
    {
     "data": {
      "text/html": [
       "<img src=\"https://askcos.mit.edu/api/v2/draw/?smiles=NCCCCN%3E%3EC%5BC%40%40H%5D%28N%29CCN&draw_map=false&highlight=false\"/>"
      ],
      "text/plain": [
       "<IPython.core.display.Image object>"
      ]
     },
     "metadata": {},
     "output_type": "display_data"
    },
    {
     "name": "stdout",
     "output_type": "stream",
     "text": [
      "Path 2:\n",
      "Product SFSCore: [0.503 0.517] ['bkms'] :  CC[C@@H](CO)NCCN[C@H](C)CC>>CC[C@@H](CO)NCCN[C@@H](CC)CO\n"
     ]
    },
    {
     "data": {
      "text/html": [
       "<img src=\"https://askcos.mit.edu/api/v2/draw/?smiles=CC%5BC%40%40H%5D%28CO%29NCCN%5BC%40H%5D%28C%29CC%3E%3ECC%5BC%40%40H%5D%28CO%29NCCN%5BC%40%40H%5D%28CC%29CO&draw_map=false&highlight=false\"/>"
      ],
      "text/plain": [
       "<IPython.core.display.Image object>"
      ]
     },
     "metadata": {},
     "output_type": "display_data"
    },
    {
     "name": "stdout",
     "output_type": "stream",
     "text": [
      "Product SFSCore: [0.537 0.471] ['RXN4Chem'] :  C1CCOC1.CC[C@@H](C)NCC(=O)N[C@H](C)CC.[Li+].[AlH4-]>>CC[C@@H](CO)NCCN[C@H](C)CC\n"
     ]
    },
    {
     "data": {
      "text/html": [
       "<img src=\"https://askcos.mit.edu/api/v2/draw/?smiles=C1CCOC1.CC%5BC%40%40H%5D%28C%29NCC%28%3DO%29N%5BC%40H%5D%28C%29CC.%5BLi%2B%5D.%5BAlH4-%5D%3E%3ECC%5BC%40%40H%5D%28CO%29NCCN%5BC%40H%5D%28C%29CC&draw_map=false&highlight=false\"/>"
      ],
      "text/plain": [
       "<IPython.core.display.Image object>"
      ]
     },
     "metadata": {},
     "output_type": "display_data"
    },
    {
     "name": "stdout",
     "output_type": "stream",
     "text": [
      "Product SFSCore: [0.52  0.494] ['RXN4Chem'] :  CC[C@@H](C)N.O=C(Cl)CCl>>CC[C@@H](C)NCC(=O)N[C@H](C)CC\n"
     ]
    },
    {
     "data": {
      "text/html": [
       "<img src=\"https://askcos.mit.edu/api/v2/draw/?smiles=CC%5BC%40%40H%5D%28C%29N.O%3DC%28Cl%29CCl%3E%3ECC%5BC%40%40H%5D%28C%29NCC%28%3DO%29N%5BC%40H%5D%28C%29CC&draw_map=false&highlight=false\"/>"
      ],
      "text/plain": [
       "<IPython.core.display.Image object>"
      ]
     },
     "metadata": {},
     "output_type": "display_data"
    },
    {
     "name": "stdout",
     "output_type": "stream",
     "text": [
      "Product SFSCore: [0.496 0.526] ['bkms'] :  C[C@@H](N)CCBr>>CC[C@@H](C)N\n"
     ]
    },
    {
     "data": {
      "text/html": [
       "<img src=\"https://askcos.mit.edu/api/v2/draw/?smiles=C%5BC%40%40H%5D%28N%29CCBr%3E%3ECC%5BC%40%40H%5D%28C%29N&draw_map=false&highlight=false\"/>"
      ],
      "text/plain": [
       "<IPython.core.display.Image object>"
      ]
     },
     "metadata": {},
     "output_type": "display_data"
    },
    {
     "name": "stdout",
     "output_type": "stream",
     "text": [
      "Product SFSCore: [0.56  0.444] ['bkms'] :  NCCCCBr>>C[C@@H](N)CCBr\n"
     ]
    },
    {
     "data": {
      "text/html": [
       "<img src=\"https://askcos.mit.edu/api/v2/draw/?smiles=NCCCCBr%3E%3EC%5BC%40%40H%5D%28N%29CCBr&draw_map=false&highlight=false\"/>"
      ],
      "text/plain": [
       "<IPython.core.display.Image object>"
      ]
     },
     "metadata": {},
     "output_type": "display_data"
    },
    {
     "name": "stdout",
     "output_type": "stream",
     "text": [
      "Path 3:\n",
      "Product SFSCore: [0.503 0.517] ['bkms'] :  CC[C@@H](CO)NCCN[C@H](C)CC>>CC[C@@H](CO)NCCN[C@@H](CC)CO\n"
     ]
    },
    {
     "data": {
      "text/html": [
       "<img src=\"https://askcos.mit.edu/api/v2/draw/?smiles=CC%5BC%40%40H%5D%28CO%29NCCN%5BC%40H%5D%28C%29CC%3E%3ECC%5BC%40%40H%5D%28CO%29NCCN%5BC%40%40H%5D%28CC%29CO&draw_map=false&highlight=false\"/>"
      ],
      "text/plain": [
       "<IPython.core.display.Image object>"
      ]
     },
     "metadata": {},
     "output_type": "display_data"
    },
    {
     "name": "stdout",
     "output_type": "stream",
     "text": [
      "Product SFSCore: [0.537 0.471] ['RXN4Chem'] :  C1CCOC1.CC[C@@H](C)NCC(=O)N[C@H](C)CC.[Li+].[AlH4-]>>CC[C@@H](CO)NCCN[C@H](C)CC\n"
     ]
    },
    {
     "data": {
      "text/html": [
       "<img src=\"https://askcos.mit.edu/api/v2/draw/?smiles=C1CCOC1.CC%5BC%40%40H%5D%28C%29NCC%28%3DO%29N%5BC%40H%5D%28C%29CC.%5BLi%2B%5D.%5BAlH4-%5D%3E%3ECC%5BC%40%40H%5D%28CO%29NCCN%5BC%40H%5D%28C%29CC&draw_map=false&highlight=false\"/>"
      ],
      "text/plain": [
       "<IPython.core.display.Image object>"
      ]
     },
     "metadata": {},
     "output_type": "display_data"
    },
    {
     "name": "stdout",
     "output_type": "stream",
     "text": [
      "Product SFSCore: [0.52  0.494] ['RXN4Chem'] :  CC[C@@H](C)N.O=C(Cl)CCl>>CC[C@@H](C)NCC(=O)N[C@H](C)CC\n"
     ]
    },
    {
     "data": {
      "text/html": [
       "<img src=\"https://askcos.mit.edu/api/v2/draw/?smiles=CC%5BC%40%40H%5D%28C%29N.O%3DC%28Cl%29CCl%3E%3ECC%5BC%40%40H%5D%28C%29NCC%28%3DO%29N%5BC%40H%5D%28C%29CC&draw_map=false&highlight=false\"/>"
      ],
      "text/plain": [
       "<IPython.core.display.Image object>"
      ]
     },
     "metadata": {},
     "output_type": "display_data"
    },
    {
     "name": "stdout",
     "output_type": "stream",
     "text": [
      "Product SFSCore: [0.496 0.526] ['bkms'] :  CC[C@H](N)CBr>>CC[C@@H](C)N\n"
     ]
    },
    {
     "data": {
      "text/html": [
       "<img src=\"https://askcos.mit.edu/api/v2/draw/?smiles=CC%5BC%40H%5D%28N%29CBr%3E%3ECC%5BC%40%40H%5D%28C%29N&draw_map=false&highlight=false\"/>"
      ],
      "text/plain": [
       "<IPython.core.display.Image object>"
      ]
     },
     "metadata": {},
     "output_type": "display_data"
    },
    {
     "name": "stdout",
     "output_type": "stream",
     "text": [
      "Product SFSCore: [0.547 0.458] ['bkms'] :  CCC(=O)CBr>>CC[C@H](N)CBr\n"
     ]
    },
    {
     "data": {
      "text/html": [
       "<img src=\"https://askcos.mit.edu/api/v2/draw/?smiles=CCC%28%3DO%29CBr%3E%3ECC%5BC%40H%5D%28N%29CBr&draw_map=false&highlight=false\"/>"
      ],
      "text/plain": [
       "<IPython.core.display.Image object>"
      ]
     },
     "metadata": {},
     "output_type": "display_data"
    },
    {
     "name": "stdout",
     "output_type": "stream",
     "text": [
      "Path 4:\n",
      "Product SFSCore: [0.503 0.517] ['bkms'] :  CC[C@@H](CO)NCCN[C@H](C)CC>>CC[C@@H](CO)NCCN[C@@H](CC)CO\n"
     ]
    },
    {
     "data": {
      "text/html": [
       "<img src=\"https://askcos.mit.edu/api/v2/draw/?smiles=CC%5BC%40%40H%5D%28CO%29NCCN%5BC%40H%5D%28C%29CC%3E%3ECC%5BC%40%40H%5D%28CO%29NCCN%5BC%40%40H%5D%28CC%29CO&draw_map=false&highlight=false\"/>"
      ],
      "text/plain": [
       "<IPython.core.display.Image object>"
      ]
     },
     "metadata": {},
     "output_type": "display_data"
    },
    {
     "name": "stdout",
     "output_type": "stream",
     "text": [
      "Product SFSCore: [0.537 0.471] ['RXN4Chem'] :  C1CCOC1.CC[C@@H](C)NCC(=O)N[C@H](C)CC.[Li+].[AlH4-]>>CC[C@@H](CO)NCCN[C@H](C)CC\n"
     ]
    },
    {
     "data": {
      "text/html": [
       "<img src=\"https://askcos.mit.edu/api/v2/draw/?smiles=C1CCOC1.CC%5BC%40%40H%5D%28C%29NCC%28%3DO%29N%5BC%40H%5D%28C%29CC.%5BLi%2B%5D.%5BAlH4-%5D%3E%3ECC%5BC%40%40H%5D%28CO%29NCCN%5BC%40H%5D%28C%29CC&draw_map=false&highlight=false\"/>"
      ],
      "text/plain": [
       "<IPython.core.display.Image object>"
      ]
     },
     "metadata": {},
     "output_type": "display_data"
    },
    {
     "name": "stdout",
     "output_type": "stream",
     "text": [
      "Product SFSCore: [0.52  0.494] ['RXN4Chem'] :  CC[C@@H](C)N.O=C(Cl)CCl>>CC[C@@H](C)NCC(=O)N[C@H](C)CC\n"
     ]
    },
    {
     "data": {
      "text/html": [
       "<img src=\"https://askcos.mit.edu/api/v2/draw/?smiles=CC%5BC%40%40H%5D%28C%29N.O%3DC%28Cl%29CCl%3E%3ECC%5BC%40%40H%5D%28C%29NCC%28%3DO%29N%5BC%40H%5D%28C%29CC&draw_map=false&highlight=false\"/>"
      ],
      "text/plain": [
       "<IPython.core.display.Image object>"
      ]
     },
     "metadata": {},
     "output_type": "display_data"
    },
    {
     "name": "stdout",
     "output_type": "stream",
     "text": [
      "Product SFSCore: [0.496 0.526] ['bkms'] :  CC[C@H](N)CCl>>CC[C@@H](C)N\n"
     ]
    },
    {
     "data": {
      "text/html": [
       "<img src=\"https://askcos.mit.edu/api/v2/draw/?smiles=CC%5BC%40H%5D%28N%29CCl%3E%3ECC%5BC%40%40H%5D%28C%29N&draw_map=false&highlight=false\"/>"
      ],
      "text/plain": [
       "<IPython.core.display.Image object>"
      ]
     },
     "metadata": {},
     "output_type": "display_data"
    },
    {
     "name": "stdout",
     "output_type": "stream",
     "text": [
      "Product SFSCore: [0.553 0.451] ['RXN4Chem'] :  CC[C@H](N)CO.O=S(Cl)Cl>>CC[C@H](N)CCl\n"
     ]
    },
    {
     "data": {
      "text/html": [
       "<img src=\"https://askcos.mit.edu/api/v2/draw/?smiles=CC%5BC%40H%5D%28N%29CO.O%3DS%28Cl%29Cl%3E%3ECC%5BC%40H%5D%28N%29CCl&draw_map=false&highlight=false\"/>"
      ],
      "text/plain": [
       "<IPython.core.display.Image object>"
      ]
     },
     "metadata": {},
     "output_type": "display_data"
    },
    {
     "name": "stdout",
     "output_type": "stream",
     "text": [
      "Path 5:\n",
      "Product SFSCore: [0.503 0.517] ['bkms'] :  CC[C@@H](CO)NCCN[C@H](C)CC>>CC[C@@H](CO)NCCN[C@@H](CC)CO\n"
     ]
    },
    {
     "data": {
      "text/html": [
       "<img src=\"https://askcos.mit.edu/api/v2/draw/?smiles=CC%5BC%40%40H%5D%28CO%29NCCN%5BC%40H%5D%28C%29CC%3E%3ECC%5BC%40%40H%5D%28CO%29NCCN%5BC%40%40H%5D%28CC%29CO&draw_map=false&highlight=false\"/>"
      ],
      "text/plain": [
       "<IPython.core.display.Image object>"
      ]
     },
     "metadata": {},
     "output_type": "display_data"
    },
    {
     "name": "stdout",
     "output_type": "stream",
     "text": [
      "Product SFSCore: [0.537 0.471] ['RXN4Chem'] :  C1CCOC1.CC[C@@H](C)NCC(=O)N[C@H](C)CC.[Li+].[AlH4-]>>CC[C@@H](CO)NCCN[C@H](C)CC\n"
     ]
    },
    {
     "data": {
      "text/html": [
       "<img src=\"https://askcos.mit.edu/api/v2/draw/?smiles=C1CCOC1.CC%5BC%40%40H%5D%28C%29NCC%28%3DO%29N%5BC%40H%5D%28C%29CC.%5BLi%2B%5D.%5BAlH4-%5D%3E%3ECC%5BC%40%40H%5D%28CO%29NCCN%5BC%40H%5D%28C%29CC&draw_map=false&highlight=false\"/>"
      ],
      "text/plain": [
       "<IPython.core.display.Image object>"
      ]
     },
     "metadata": {},
     "output_type": "display_data"
    },
    {
     "name": "stdout",
     "output_type": "stream",
     "text": [
      "Product SFSCore: [0.52  0.494] ['RXN4Chem'] :  CC[C@@H](C)N.O=C(Cl)CCl>>CC[C@@H](C)NCC(=O)N[C@H](C)CC\n"
     ]
    },
    {
     "data": {
      "text/html": [
       "<img src=\"https://askcos.mit.edu/api/v2/draw/?smiles=CC%5BC%40%40H%5D%28C%29N.O%3DC%28Cl%29CCl%3E%3ECC%5BC%40%40H%5D%28C%29NCC%28%3DO%29N%5BC%40H%5D%28C%29CC&draw_map=false&highlight=false\"/>"
      ],
      "text/plain": [
       "<IPython.core.display.Image object>"
      ]
     },
     "metadata": {},
     "output_type": "display_data"
    },
    {
     "name": "stdout",
     "output_type": "stream",
     "text": [
      "Product SFSCore: [0.496 0.526] ['bkms'] :  CC[C@H](N)CCl>>CC[C@@H](C)N\n"
     ]
    },
    {
     "data": {
      "text/html": [
       "<img src=\"https://askcos.mit.edu/api/v2/draw/?smiles=CC%5BC%40H%5D%28N%29CCl%3E%3ECC%5BC%40%40H%5D%28C%29N&draw_map=false&highlight=false\"/>"
      ],
      "text/plain": [
       "<IPython.core.display.Image object>"
      ]
     },
     "metadata": {},
     "output_type": "display_data"
    },
    {
     "name": "stdout",
     "output_type": "stream",
     "text": [
      "Product SFSCore: [0.553 0.451] ['bkms'] :  CC[C@H](N)CO>>CC[C@H](N)CCl\n"
     ]
    },
    {
     "data": {
      "text/html": [
       "<img src=\"https://askcos.mit.edu/api/v2/draw/?smiles=CC%5BC%40H%5D%28N%29CO%3E%3ECC%5BC%40H%5D%28N%29CCl&draw_map=false&highlight=false\"/>"
      ],
      "text/plain": [
       "<IPython.core.display.Image object>"
      ]
     },
     "metadata": {},
     "output_type": "display_data"
    },
    {
     "name": "stdout",
     "output_type": "stream",
     "text": [
      "Path 6:\n",
      "Product SFSCore: [0.503 0.517] ['bkms'] :  CC[C@@H](CO)NCCN[C@H](C)CC>>CC[C@@H](CO)NCCN[C@@H](CC)CO\n"
     ]
    },
    {
     "data": {
      "text/html": [
       "<img src=\"https://askcos.mit.edu/api/v2/draw/?smiles=CC%5BC%40%40H%5D%28CO%29NCCN%5BC%40H%5D%28C%29CC%3E%3ECC%5BC%40%40H%5D%28CO%29NCCN%5BC%40%40H%5D%28CC%29CO&draw_map=false&highlight=false\"/>"
      ],
      "text/plain": [
       "<IPython.core.display.Image object>"
      ]
     },
     "metadata": {},
     "output_type": "display_data"
    },
    {
     "name": "stdout",
     "output_type": "stream",
     "text": [
      "Product SFSCore: [0.537 0.471] ['RXN4Chem'] :  C1CCOC1.CC[C@@H](C)NCC(=O)N[C@H](C)CC.[Li+].[AlH4-]>>CC[C@@H](CO)NCCN[C@H](C)CC\n"
     ]
    },
    {
     "data": {
      "text/html": [
       "<img src=\"https://askcos.mit.edu/api/v2/draw/?smiles=C1CCOC1.CC%5BC%40%40H%5D%28C%29NCC%28%3DO%29N%5BC%40H%5D%28C%29CC.%5BLi%2B%5D.%5BAlH4-%5D%3E%3ECC%5BC%40%40H%5D%28CO%29NCCN%5BC%40H%5D%28C%29CC&draw_map=false&highlight=false\"/>"
      ],
      "text/plain": [
       "<IPython.core.display.Image object>"
      ]
     },
     "metadata": {},
     "output_type": "display_data"
    },
    {
     "name": "stdout",
     "output_type": "stream",
     "text": [
      "Product SFSCore: [0.52  0.494] ['RXN4Chem'] :  CC[C@@H](C)N.O=C(Cl)CCl>>CC[C@@H](C)NCC(=O)N[C@H](C)CC\n"
     ]
    },
    {
     "data": {
      "text/html": [
       "<img src=\"https://askcos.mit.edu/api/v2/draw/?smiles=CC%5BC%40%40H%5D%28C%29N.O%3DC%28Cl%29CCl%3E%3ECC%5BC%40%40H%5D%28C%29NCC%28%3DO%29N%5BC%40H%5D%28C%29CC&draw_map=false&highlight=false\"/>"
      ],
      "text/plain": [
       "<IPython.core.display.Image object>"
      ]
     },
     "metadata": {},
     "output_type": "display_data"
    },
    {
     "name": "stdout",
     "output_type": "stream",
     "text": [
      "Product SFSCore: [0.496 0.526] ['bkms'] :  C[C@@H](N)CCCl>>CC[C@@H](C)N\n"
     ]
    },
    {
     "data": {
      "text/html": [
       "<img src=\"https://askcos.mit.edu/api/v2/draw/?smiles=C%5BC%40%40H%5D%28N%29CCCl%3E%3ECC%5BC%40%40H%5D%28C%29N&draw_map=false&highlight=false\"/>"
      ],
      "text/plain": [
       "<IPython.core.display.Image object>"
      ]
     },
     "metadata": {},
     "output_type": "display_data"
    },
    {
     "name": "stdout",
     "output_type": "stream",
     "text": [
      "Product SFSCore: [0.531 0.48 ] ['bkms'] :  CC(=O)CCCl>>C[C@@H](N)CCCl\n"
     ]
    },
    {
     "data": {
      "text/html": [
       "<img src=\"https://askcos.mit.edu/api/v2/draw/?smiles=CC%28%3DO%29CCCl%3E%3EC%5BC%40%40H%5D%28N%29CCCl&draw_map=false&highlight=false\"/>"
      ],
      "text/plain": [
       "<IPython.core.display.Image object>"
      ]
     },
     "metadata": {},
     "output_type": "display_data"
    },
    {
     "name": "stdout",
     "output_type": "stream",
     "text": [
      "Path 7:\n",
      "Product SFSCore: [0.503 0.517] ['bkms'] :  CC[C@@H](CO)NCCN[C@H](C)CC>>CC[C@@H](CO)NCCN[C@@H](CC)CO\n"
     ]
    },
    {
     "data": {
      "text/html": [
       "<img src=\"https://askcos.mit.edu/api/v2/draw/?smiles=CC%5BC%40%40H%5D%28CO%29NCCN%5BC%40H%5D%28C%29CC%3E%3ECC%5BC%40%40H%5D%28CO%29NCCN%5BC%40%40H%5D%28CC%29CO&draw_map=false&highlight=false\"/>"
      ],
      "text/plain": [
       "<IPython.core.display.Image object>"
      ]
     },
     "metadata": {},
     "output_type": "display_data"
    },
    {
     "name": "stdout",
     "output_type": "stream",
     "text": [
      "Product SFSCore: [0.537 0.471] ['RXN4Chem'] :  C1CCOC1.CC[C@@H](C)NCC(=O)N[C@H](C)CC.[Li+].[AlH4-]>>CC[C@@H](CO)NCCN[C@H](C)CC\n"
     ]
    },
    {
     "data": {
      "text/html": [
       "<img src=\"https://askcos.mit.edu/api/v2/draw/?smiles=C1CCOC1.CC%5BC%40%40H%5D%28C%29NCC%28%3DO%29N%5BC%40H%5D%28C%29CC.%5BLi%2B%5D.%5BAlH4-%5D%3E%3ECC%5BC%40%40H%5D%28CO%29NCCN%5BC%40H%5D%28C%29CC&draw_map=false&highlight=false\"/>"
      ],
      "text/plain": [
       "<IPython.core.display.Image object>"
      ]
     },
     "metadata": {},
     "output_type": "display_data"
    },
    {
     "name": "stdout",
     "output_type": "stream",
     "text": [
      "Product SFSCore: [0.52  0.494] ['RXN4Chem'] :  CC[C@@H](C)N.O=C(Cl)CCl>>CC[C@@H](C)NCC(=O)N[C@H](C)CC\n"
     ]
    },
    {
     "data": {
      "text/html": [
       "<img src=\"https://askcos.mit.edu/api/v2/draw/?smiles=CC%5BC%40%40H%5D%28C%29N.O%3DC%28Cl%29CCl%3E%3ECC%5BC%40%40H%5D%28C%29NCC%28%3DO%29N%5BC%40H%5D%28C%29CC&draw_map=false&highlight=false\"/>"
      ],
      "text/plain": [
       "<IPython.core.display.Image object>"
      ]
     },
     "metadata": {},
     "output_type": "display_data"
    },
    {
     "name": "stdout",
     "output_type": "stream",
     "text": [
      "Product SFSCore: [0.496 0.526] ['bkms'] :  C[C@@H](N)CCCl>>CC[C@@H](C)N\n"
     ]
    },
    {
     "data": {
      "text/html": [
       "<img src=\"https://askcos.mit.edu/api/v2/draw/?smiles=C%5BC%40%40H%5D%28N%29CCCl%3E%3ECC%5BC%40%40H%5D%28C%29N&draw_map=false&highlight=false\"/>"
      ],
      "text/plain": [
       "<IPython.core.display.Image object>"
      ]
     },
     "metadata": {},
     "output_type": "display_data"
    },
    {
     "name": "stdout",
     "output_type": "stream",
     "text": [
      "Product SFSCore: [0.531 0.48 ] ['bkms'] :  C[C@@H](N)CCO>>C[C@@H](N)CCCl\n"
     ]
    },
    {
     "data": {
      "text/html": [
       "<img src=\"https://askcos.mit.edu/api/v2/draw/?smiles=C%5BC%40%40H%5D%28N%29CCO%3E%3EC%5BC%40%40H%5D%28N%29CCCl&draw_map=false&highlight=false\"/>"
      ],
      "text/plain": [
       "<IPython.core.display.Image object>"
      ]
     },
     "metadata": {},
     "output_type": "display_data"
    },
    {
     "name": "stdout",
     "output_type": "stream",
     "text": [
      "Path 8:\n",
      "Product SFSCore: [0.503 0.517] ['bkms'] :  CC[C@@H](CO)NCCN[C@H](C)CC>>CC[C@@H](CO)NCCN[C@@H](CC)CO\n"
     ]
    },
    {
     "data": {
      "text/html": [
       "<img src=\"https://askcos.mit.edu/api/v2/draw/?smiles=CC%5BC%40%40H%5D%28CO%29NCCN%5BC%40H%5D%28C%29CC%3E%3ECC%5BC%40%40H%5D%28CO%29NCCN%5BC%40%40H%5D%28CC%29CO&draw_map=false&highlight=false\"/>"
      ],
      "text/plain": [
       "<IPython.core.display.Image object>"
      ]
     },
     "metadata": {},
     "output_type": "display_data"
    },
    {
     "name": "stdout",
     "output_type": "stream",
     "text": [
      "Product SFSCore: [0.537 0.471] ['RXN4Chem'] :  CC[C@@H](C)NCCN[C@H](C)CC.[OH-].[Na+]>>CC[C@@H](CO)NCCN[C@H](C)CC\n"
     ]
    },
    {
     "data": {
      "text/html": [
       "<img src=\"https://askcos.mit.edu/api/v2/draw/?smiles=CC%5BC%40%40H%5D%28C%29NCCN%5BC%40H%5D%28C%29CC.%5BOH-%5D.%5BNa%2B%5D%3E%3ECC%5BC%40%40H%5D%28CO%29NCCN%5BC%40H%5D%28C%29CC&draw_map=false&highlight=false\"/>"
      ],
      "text/plain": [
       "<IPython.core.display.Image object>"
      ]
     },
     "metadata": {},
     "output_type": "display_data"
    },
    {
     "name": "stdout",
     "output_type": "stream",
     "text": [
      "Product SFSCore: [0.546 0.46 ] ['RXN4Chem'] :  C1CCOC1.CC[C@@H](C)NCC(=O)N[C@H](C)CC.[Li+].[AlH4-]>>CC[C@@H](C)NCCN[C@H](C)CC\n"
     ]
    },
    {
     "data": {
      "text/html": [
       "<img src=\"https://askcos.mit.edu/api/v2/draw/?smiles=C1CCOC1.CC%5BC%40%40H%5D%28C%29NCC%28%3DO%29N%5BC%40H%5D%28C%29CC.%5BLi%2B%5D.%5BAlH4-%5D%3E%3ECC%5BC%40%40H%5D%28C%29NCCN%5BC%40H%5D%28C%29CC&draw_map=false&highlight=false\"/>"
      ],
      "text/plain": [
       "<IPython.core.display.Image object>"
      ]
     },
     "metadata": {},
     "output_type": "display_data"
    },
    {
     "name": "stdout",
     "output_type": "stream",
     "text": [
      "Product SFSCore: [0.52  0.494] ['RXN4Chem'] :  CC[C@@H](C)N.O=C(Cl)CCl>>CC[C@@H](C)NCC(=O)N[C@H](C)CC\n"
     ]
    },
    {
     "data": {
      "text/html": [
       "<img src=\"https://askcos.mit.edu/api/v2/draw/?smiles=CC%5BC%40%40H%5D%28C%29N.O%3DC%28Cl%29CCl%3E%3ECC%5BC%40%40H%5D%28C%29NCC%28%3DO%29N%5BC%40H%5D%28C%29CC&draw_map=false&highlight=false\"/>"
      ],
      "text/plain": [
       "<IPython.core.display.Image object>"
      ]
     },
     "metadata": {},
     "output_type": "display_data"
    },
    {
     "name": "stdout",
     "output_type": "stream",
     "text": [
      "Product SFSCore: [0.496 0.526] ['bkms'] :  CCCCN>>CC[C@@H](C)N\n"
     ]
    },
    {
     "data": {
      "text/html": [
       "<img src=\"https://askcos.mit.edu/api/v2/draw/?smiles=CCCCN%3E%3ECC%5BC%40%40H%5D%28C%29N&draw_map=false&highlight=false\"/>"
      ],
      "text/plain": [
       "<IPython.core.display.Image object>"
      ]
     },
     "metadata": {},
     "output_type": "display_data"
    },
    {
     "name": "stdout",
     "output_type": "stream",
     "text": [
      "Path 9:\n",
      "Product SFSCore: [0.503 0.517] ['bkms'] :  CC[C@@H](CO)NCCN[C@H](C)CC>>CC[C@@H](CO)NCCN[C@@H](CC)CO\n"
     ]
    },
    {
     "data": {
      "text/html": [
       "<img src=\"https://askcos.mit.edu/api/v2/draw/?smiles=CC%5BC%40%40H%5D%28CO%29NCCN%5BC%40H%5D%28C%29CC%3E%3ECC%5BC%40%40H%5D%28CO%29NCCN%5BC%40%40H%5D%28CC%29CO&draw_map=false&highlight=false\"/>"
      ],
      "text/plain": [
       "<IPython.core.display.Image object>"
      ]
     },
     "metadata": {},
     "output_type": "display_data"
    },
    {
     "name": "stdout",
     "output_type": "stream",
     "text": [
      "Product SFSCore: [0.537 0.471] ['RXN4Chem'] :  CC[C@@H](C)NCCN[C@H](C)CC.[OH-].[Na+]>>CC[C@@H](CO)NCCN[C@H](C)CC\n"
     ]
    },
    {
     "data": {
      "text/html": [
       "<img src=\"https://askcos.mit.edu/api/v2/draw/?smiles=CC%5BC%40%40H%5D%28C%29NCCN%5BC%40H%5D%28C%29CC.%5BOH-%5D.%5BNa%2B%5D%3E%3ECC%5BC%40%40H%5D%28CO%29NCCN%5BC%40H%5D%28C%29CC&draw_map=false&highlight=false\"/>"
      ],
      "text/plain": [
       "<IPython.core.display.Image object>"
      ]
     },
     "metadata": {},
     "output_type": "display_data"
    },
    {
     "name": "stdout",
     "output_type": "stream",
     "text": [
      "Product SFSCore: [0.546 0.46 ] ['RXN4Chem'] :  C1CCOC1.CC[C@@H](C)NCC(=O)N[C@H](C)CC.[Li+].[AlH4-]>>CC[C@@H](C)NCCN[C@H](C)CC\n"
     ]
    },
    {
     "data": {
      "text/html": [
       "<img src=\"https://askcos.mit.edu/api/v2/draw/?smiles=C1CCOC1.CC%5BC%40%40H%5D%28C%29NCC%28%3DO%29N%5BC%40H%5D%28C%29CC.%5BLi%2B%5D.%5BAlH4-%5D%3E%3ECC%5BC%40%40H%5D%28C%29NCCN%5BC%40H%5D%28C%29CC&draw_map=false&highlight=false\"/>"
      ],
      "text/plain": [
       "<IPython.core.display.Image object>"
      ]
     },
     "metadata": {},
     "output_type": "display_data"
    },
    {
     "name": "stdout",
     "output_type": "stream",
     "text": [
      "Product SFSCore: [0.52  0.494] ['RXN4Chem'] :  CC[C@@H](C)N.O=C(Cl)CCl>>CC[C@@H](C)NCC(=O)N[C@H](C)CC\n"
     ]
    },
    {
     "data": {
      "text/html": [
       "<img src=\"https://askcos.mit.edu/api/v2/draw/?smiles=CC%5BC%40%40H%5D%28C%29N.O%3DC%28Cl%29CCl%3E%3ECC%5BC%40%40H%5D%28C%29NCC%28%3DO%29N%5BC%40H%5D%28C%29CC&draw_map=false&highlight=false\"/>"
      ],
      "text/plain": [
       "<IPython.core.display.Image object>"
      ]
     },
     "metadata": {},
     "output_type": "display_data"
    },
    {
     "name": "stdout",
     "output_type": "stream",
     "text": [
      "Product SFSCore: [0.496 0.526] ['bkms'] :  C[C@@H](N)CCO>>CC[C@@H](C)N\n"
     ]
    },
    {
     "data": {
      "text/html": [
       "<img src=\"https://askcos.mit.edu/api/v2/draw/?smiles=C%5BC%40%40H%5D%28N%29CCO%3E%3ECC%5BC%40%40H%5D%28C%29N&draw_map=false&highlight=false\"/>"
      ],
      "text/plain": [
       "<IPython.core.display.Image object>"
      ]
     },
     "metadata": {},
     "output_type": "display_data"
    },
    {
     "name": "stdout",
     "output_type": "stream",
     "text": [
      "Path 10:\n",
      "Product SFSCore: [0.503 0.517] ['bkms'] :  CC[C@@H](CO)NCCN[C@H](C)CC>>CC[C@@H](CO)NCCN[C@@H](CC)CO\n"
     ]
    },
    {
     "data": {
      "text/html": [
       "<img src=\"https://askcos.mit.edu/api/v2/draw/?smiles=CC%5BC%40%40H%5D%28CO%29NCCN%5BC%40H%5D%28C%29CC%3E%3ECC%5BC%40%40H%5D%28CO%29NCCN%5BC%40%40H%5D%28CC%29CO&draw_map=false&highlight=false\"/>"
      ],
      "text/plain": [
       "<IPython.core.display.Image object>"
      ]
     },
     "metadata": {},
     "output_type": "display_data"
    },
    {
     "name": "stdout",
     "output_type": "stream",
     "text": [
      "Product SFSCore: [0.537 0.471] ['RXN4Chem'] :  CC[C@@H](C)NCCN[C@H](C)CC.[OH-].[Na+]>>CC[C@@H](CO)NCCN[C@H](C)CC\n"
     ]
    },
    {
     "data": {
      "text/html": [
       "<img src=\"https://askcos.mit.edu/api/v2/draw/?smiles=CC%5BC%40%40H%5D%28C%29NCCN%5BC%40H%5D%28C%29CC.%5BOH-%5D.%5BNa%2B%5D%3E%3ECC%5BC%40%40H%5D%28CO%29NCCN%5BC%40H%5D%28C%29CC&draw_map=false&highlight=false\"/>"
      ],
      "text/plain": [
       "<IPython.core.display.Image object>"
      ]
     },
     "metadata": {},
     "output_type": "display_data"
    },
    {
     "name": "stdout",
     "output_type": "stream",
     "text": [
      "Product SFSCore: [0.546 0.46 ] ['RXN4Chem'] :  C1CCOC1.CC[C@@H](C)NCC(=O)N[C@H](C)CC.[Li+].[AlH4-]>>CC[C@@H](C)NCCN[C@H](C)CC\n"
     ]
    },
    {
     "data": {
      "text/html": [
       "<img src=\"https://askcos.mit.edu/api/v2/draw/?smiles=C1CCOC1.CC%5BC%40%40H%5D%28C%29NCC%28%3DO%29N%5BC%40H%5D%28C%29CC.%5BLi%2B%5D.%5BAlH4-%5D%3E%3ECC%5BC%40%40H%5D%28C%29NCCN%5BC%40H%5D%28C%29CC&draw_map=false&highlight=false\"/>"
      ],
      "text/plain": [
       "<IPython.core.display.Image object>"
      ]
     },
     "metadata": {},
     "output_type": "display_data"
    },
    {
     "name": "stdout",
     "output_type": "stream",
     "text": [
      "Product SFSCore: [0.52  0.494] ['RXN4Chem'] :  CC[C@@H](C)N.O=C(Cl)CCl>>CC[C@@H](C)NCC(=O)N[C@H](C)CC\n"
     ]
    },
    {
     "data": {
      "text/html": [
       "<img src=\"https://askcos.mit.edu/api/v2/draw/?smiles=CC%5BC%40%40H%5D%28C%29N.O%3DC%28Cl%29CCl%3E%3ECC%5BC%40%40H%5D%28C%29NCC%28%3DO%29N%5BC%40H%5D%28C%29CC&draw_map=false&highlight=false\"/>"
      ],
      "text/plain": [
       "<IPython.core.display.Image object>"
      ]
     },
     "metadata": {},
     "output_type": "display_data"
    },
    {
     "name": "stdout",
     "output_type": "stream",
     "text": [
      "Product SFSCore: [0.496 0.526] ['bkms'] :  CC[C@H](N)CO>>CC[C@@H](C)N\n"
     ]
    },
    {
     "data": {
      "text/html": [
       "<img src=\"https://askcos.mit.edu/api/v2/draw/?smiles=CC%5BC%40H%5D%28N%29CO%3E%3ECC%5BC%40%40H%5D%28C%29N&draw_map=false&highlight=false\"/>"
      ],
      "text/plain": [
       "<IPython.core.display.Image object>"
      ]
     },
     "metadata": {},
     "output_type": "display_data"
    },
    {
     "name": "stdout",
     "output_type": "stream",
     "text": [
      "Path 11:\n",
      "Product SFSCore: [0.503 0.517] ['bkms'] :  CC[C@@H](CO)NCCN[C@H](C)CC>>CC[C@@H](CO)NCCN[C@@H](CC)CO\n"
     ]
    },
    {
     "data": {
      "text/html": [
       "<img src=\"https://askcos.mit.edu/api/v2/draw/?smiles=CC%5BC%40%40H%5D%28CO%29NCCN%5BC%40H%5D%28C%29CC%3E%3ECC%5BC%40%40H%5D%28CO%29NCCN%5BC%40%40H%5D%28CC%29CO&draw_map=false&highlight=false\"/>"
      ],
      "text/plain": [
       "<IPython.core.display.Image object>"
      ]
     },
     "metadata": {},
     "output_type": "display_data"
    },
    {
     "name": "stdout",
     "output_type": "stream",
     "text": [
      "Product SFSCore: [0.537 0.471] ['RXN4Chem'] :  CC[C@@H](C)NCCN[C@H](C)CC.[OH-].[Na+]>>CC[C@@H](CO)NCCN[C@H](C)CC\n"
     ]
    },
    {
     "data": {
      "text/html": [
       "<img src=\"https://askcos.mit.edu/api/v2/draw/?smiles=CC%5BC%40%40H%5D%28C%29NCCN%5BC%40H%5D%28C%29CC.%5BOH-%5D.%5BNa%2B%5D%3E%3ECC%5BC%40%40H%5D%28CO%29NCCN%5BC%40H%5D%28C%29CC&draw_map=false&highlight=false\"/>"
      ],
      "text/plain": [
       "<IPython.core.display.Image object>"
      ]
     },
     "metadata": {},
     "output_type": "display_data"
    },
    {
     "name": "stdout",
     "output_type": "stream",
     "text": [
      "Product SFSCore: [0.546 0.46 ] ['RXN4Chem'] :  C1CCOC1.CC[C@@H](C)NCC(=O)N[C@H](C)CC.[Li+].[AlH4-]>>CC[C@@H](C)NCCN[C@H](C)CC\n"
     ]
    },
    {
     "data": {
      "text/html": [
       "<img src=\"https://askcos.mit.edu/api/v2/draw/?smiles=C1CCOC1.CC%5BC%40%40H%5D%28C%29NCC%28%3DO%29N%5BC%40H%5D%28C%29CC.%5BLi%2B%5D.%5BAlH4-%5D%3E%3ECC%5BC%40%40H%5D%28C%29NCCN%5BC%40H%5D%28C%29CC&draw_map=false&highlight=false\"/>"
      ],
      "text/plain": [
       "<IPython.core.display.Image object>"
      ]
     },
     "metadata": {},
     "output_type": "display_data"
    },
    {
     "name": "stdout",
     "output_type": "stream",
     "text": [
      "Product SFSCore: [0.52  0.494] ['RXN4Chem'] :  CC[C@@H](C)N.O=C(Cl)CCl>>CC[C@@H](C)NCC(=O)N[C@H](C)CC\n"
     ]
    },
    {
     "data": {
      "text/html": [
       "<img src=\"https://askcos.mit.edu/api/v2/draw/?smiles=CC%5BC%40%40H%5D%28C%29N.O%3DC%28Cl%29CCl%3E%3ECC%5BC%40%40H%5D%28C%29NCC%28%3DO%29N%5BC%40H%5D%28C%29CC&draw_map=false&highlight=false\"/>"
      ],
      "text/plain": [
       "<IPython.core.display.Image object>"
      ]
     },
     "metadata": {},
     "output_type": "display_data"
    },
    {
     "name": "stdout",
     "output_type": "stream",
     "text": [
      "Product SFSCore: [0.496 0.526] ['bkms'] :  CCCC[C@@H](C)N>>CC[C@@H](C)N\n"
     ]
    },
    {
     "data": {
      "text/html": [
       "<img src=\"https://askcos.mit.edu/api/v2/draw/?smiles=CCCC%5BC%40%40H%5D%28C%29N%3E%3ECC%5BC%40%40H%5D%28C%29N&draw_map=false&highlight=false\"/>"
      ],
      "text/plain": [
       "<IPython.core.display.Image object>"
      ]
     },
     "metadata": {},
     "output_type": "display_data"
    },
    {
     "name": "stdout",
     "output_type": "stream",
     "text": [
      "Path 12:\n",
      "Product SFSCore: [0.503 0.517] ['bkms'] :  CC[C@@H](CO)NCCN[C@H](C)CC>>CC[C@@H](CO)NCCN[C@@H](CC)CO\n"
     ]
    },
    {
     "data": {
      "text/html": [
       "<img src=\"https://askcos.mit.edu/api/v2/draw/?smiles=CC%5BC%40%40H%5D%28CO%29NCCN%5BC%40H%5D%28C%29CC%3E%3ECC%5BC%40%40H%5D%28CO%29NCCN%5BC%40%40H%5D%28CC%29CO&draw_map=false&highlight=false\"/>"
      ],
      "text/plain": [
       "<IPython.core.display.Image object>"
      ]
     },
     "metadata": {},
     "output_type": "display_data"
    },
    {
     "name": "stdout",
     "output_type": "stream",
     "text": [
      "Product SFSCore: [0.537 0.471] ['RXN4Chem'] :  CC[C@@H](C)NCCN[C@H](C)CC.[OH-].[Na+]>>CC[C@@H](CO)NCCN[C@H](C)CC\n"
     ]
    },
    {
     "data": {
      "text/html": [
       "<img src=\"https://askcos.mit.edu/api/v2/draw/?smiles=CC%5BC%40%40H%5D%28C%29NCCN%5BC%40H%5D%28C%29CC.%5BOH-%5D.%5BNa%2B%5D%3E%3ECC%5BC%40%40H%5D%28CO%29NCCN%5BC%40H%5D%28C%29CC&draw_map=false&highlight=false\"/>"
      ],
      "text/plain": [
       "<IPython.core.display.Image object>"
      ]
     },
     "metadata": {},
     "output_type": "display_data"
    },
    {
     "name": "stdout",
     "output_type": "stream",
     "text": [
      "Product SFSCore: [0.546 0.46 ] ['RXN4Chem'] :  C1CCOC1.CC[C@@H](C)NCC(=O)N[C@H](C)CC.[Li+].[AlH4-]>>CC[C@@H](C)NCCN[C@H](C)CC\n"
     ]
    },
    {
     "data": {
      "text/html": [
       "<img src=\"https://askcos.mit.edu/api/v2/draw/?smiles=C1CCOC1.CC%5BC%40%40H%5D%28C%29NCC%28%3DO%29N%5BC%40H%5D%28C%29CC.%5BLi%2B%5D.%5BAlH4-%5D%3E%3ECC%5BC%40%40H%5D%28C%29NCCN%5BC%40H%5D%28C%29CC&draw_map=false&highlight=false\"/>"
      ],
      "text/plain": [
       "<IPython.core.display.Image object>"
      ]
     },
     "metadata": {},
     "output_type": "display_data"
    },
    {
     "name": "stdout",
     "output_type": "stream",
     "text": [
      "Product SFSCore: [0.52  0.494] ['RXN4Chem'] :  CC[C@@H](C)N.O=C(Cl)CCl>>CC[C@@H](C)NCC(=O)N[C@H](C)CC\n"
     ]
    },
    {
     "data": {
      "text/html": [
       "<img src=\"https://askcos.mit.edu/api/v2/draw/?smiles=CC%5BC%40%40H%5D%28C%29N.O%3DC%28Cl%29CCl%3E%3ECC%5BC%40%40H%5D%28C%29NCC%28%3DO%29N%5BC%40H%5D%28C%29CC&draw_map=false&highlight=false\"/>"
      ],
      "text/plain": [
       "<IPython.core.display.Image object>"
      ]
     },
     "metadata": {},
     "output_type": "display_data"
    },
    {
     "name": "stdout",
     "output_type": "stream",
     "text": [
      "Product SFSCore: [0.496 0.526] ['bkms'] :  CCC(C)=O>>CC[C@@H](C)N\n"
     ]
    },
    {
     "data": {
      "text/html": [
       "<img src=\"https://askcos.mit.edu/api/v2/draw/?smiles=CCC%28C%29%3DO%3E%3ECC%5BC%40%40H%5D%28C%29N&draw_map=false&highlight=false\"/>"
      ],
      "text/plain": [
       "<IPython.core.display.Image object>"
      ]
     },
     "metadata": {},
     "output_type": "display_data"
    },
    {
     "name": "stdout",
     "output_type": "stream",
     "text": [
      "Path 13:\n",
      "Product SFSCore: [0.503 0.517] ['bkms'] :  CC[C@@H](CO)NCCN[C@H](C)CC>>CC[C@@H](CO)NCCN[C@@H](CC)CO\n"
     ]
    },
    {
     "data": {
      "text/html": [
       "<img src=\"https://askcos.mit.edu/api/v2/draw/?smiles=CC%5BC%40%40H%5D%28CO%29NCCN%5BC%40H%5D%28C%29CC%3E%3ECC%5BC%40%40H%5D%28CO%29NCCN%5BC%40%40H%5D%28CC%29CO&draw_map=false&highlight=false\"/>"
      ],
      "text/plain": [
       "<IPython.core.display.Image object>"
      ]
     },
     "metadata": {},
     "output_type": "display_data"
    },
    {
     "name": "stdout",
     "output_type": "stream",
     "text": [
      "Product SFSCore: [0.537 0.471] ['RXN4Chem'] :  CC[C@@H](C)NCCN[C@H](C)CC.[OH-].[Na+]>>CC[C@@H](CO)NCCN[C@H](C)CC\n"
     ]
    },
    {
     "data": {
      "text/html": [
       "<img src=\"https://askcos.mit.edu/api/v2/draw/?smiles=CC%5BC%40%40H%5D%28C%29NCCN%5BC%40H%5D%28C%29CC.%5BOH-%5D.%5BNa%2B%5D%3E%3ECC%5BC%40%40H%5D%28CO%29NCCN%5BC%40H%5D%28C%29CC&draw_map=false&highlight=false\"/>"
      ],
      "text/plain": [
       "<IPython.core.display.Image object>"
      ]
     },
     "metadata": {},
     "output_type": "display_data"
    },
    {
     "name": "stdout",
     "output_type": "stream",
     "text": [
      "Product SFSCore: [0.546 0.46 ] ['RXN4Chem'] :  C1CCOC1.CC[C@@H](C)NCC(=O)N[C@H](C)CC.[Li+].[AlH4-]>>CC[C@@H](C)NCCN[C@H](C)CC\n"
     ]
    },
    {
     "data": {
      "text/html": [
       "<img src=\"https://askcos.mit.edu/api/v2/draw/?smiles=C1CCOC1.CC%5BC%40%40H%5D%28C%29NCC%28%3DO%29N%5BC%40H%5D%28C%29CC.%5BLi%2B%5D.%5BAlH4-%5D%3E%3ECC%5BC%40%40H%5D%28C%29NCCN%5BC%40H%5D%28C%29CC&draw_map=false&highlight=false\"/>"
      ],
      "text/plain": [
       "<IPython.core.display.Image object>"
      ]
     },
     "metadata": {},
     "output_type": "display_data"
    },
    {
     "name": "stdout",
     "output_type": "stream",
     "text": [
      "Product SFSCore: [0.52  0.494] ['RXN4Chem'] :  CC[C@@H](C)N.O=C(Cl)CCl>>CC[C@@H](C)NCC(=O)N[C@H](C)CC\n"
     ]
    },
    {
     "data": {
      "text/html": [
       "<img src=\"https://askcos.mit.edu/api/v2/draw/?smiles=CC%5BC%40%40H%5D%28C%29N.O%3DC%28Cl%29CCl%3E%3ECC%5BC%40%40H%5D%28C%29NCC%28%3DO%29N%5BC%40H%5D%28C%29CC&draw_map=false&highlight=false\"/>"
      ],
      "text/plain": [
       "<IPython.core.display.Image object>"
      ]
     },
     "metadata": {},
     "output_type": "display_data"
    },
    {
     "name": "stdout",
     "output_type": "stream",
     "text": [
      "Product SFSCore: [0.496 0.526] ['bkms'] :  CC(C)[C@@H](C)N>>CC[C@@H](C)N\n"
     ]
    },
    {
     "data": {
      "text/html": [
       "<img src=\"https://askcos.mit.edu/api/v2/draw/?smiles=CC%28C%29%5BC%40%40H%5D%28C%29N%3E%3ECC%5BC%40%40H%5D%28C%29N&draw_map=false&highlight=false\"/>"
      ],
      "text/plain": [
       "<IPython.core.display.Image object>"
      ]
     },
     "metadata": {},
     "output_type": "display_data"
    },
    {
     "name": "stdout",
     "output_type": "stream",
     "text": [
      "Path 14:\n",
      "Product SFSCore: [0.503 0.517] ['bkms'] :  CC[C@@H](CO)NCCN[C@H](C)CC>>CC[C@@H](CO)NCCN[C@@H](CC)CO\n"
     ]
    },
    {
     "data": {
      "text/html": [
       "<img src=\"https://askcos.mit.edu/api/v2/draw/?smiles=CC%5BC%40%40H%5D%28CO%29NCCN%5BC%40H%5D%28C%29CC%3E%3ECC%5BC%40%40H%5D%28CO%29NCCN%5BC%40%40H%5D%28CC%29CO&draw_map=false&highlight=false\"/>"
      ],
      "text/plain": [
       "<IPython.core.display.Image object>"
      ]
     },
     "metadata": {},
     "output_type": "display_data"
    },
    {
     "name": "stdout",
     "output_type": "stream",
     "text": [
      "Product SFSCore: [0.537 0.471] ['RXN4Chem'] :  CC[C@@H](C)NCCN[C@H](C)CC.[OH-].[Na+]>>CC[C@@H](CO)NCCN[C@H](C)CC\n"
     ]
    },
    {
     "data": {
      "text/html": [
       "<img src=\"https://askcos.mit.edu/api/v2/draw/?smiles=CC%5BC%40%40H%5D%28C%29NCCN%5BC%40H%5D%28C%29CC.%5BOH-%5D.%5BNa%2B%5D%3E%3ECC%5BC%40%40H%5D%28CO%29NCCN%5BC%40H%5D%28C%29CC&draw_map=false&highlight=false\"/>"
      ],
      "text/plain": [
       "<IPython.core.display.Image object>"
      ]
     },
     "metadata": {},
     "output_type": "display_data"
    },
    {
     "name": "stdout",
     "output_type": "stream",
     "text": [
      "Product SFSCore: [0.546 0.46 ] ['RXN4Chem'] :  C1CCOC1.CC[C@@H](C)NCC(=O)N[C@H](C)CC.[Li+].[AlH4-]>>CC[C@@H](C)NCCN[C@H](C)CC\n"
     ]
    },
    {
     "data": {
      "text/html": [
       "<img src=\"https://askcos.mit.edu/api/v2/draw/?smiles=C1CCOC1.CC%5BC%40%40H%5D%28C%29NCC%28%3DO%29N%5BC%40H%5D%28C%29CC.%5BLi%2B%5D.%5BAlH4-%5D%3E%3ECC%5BC%40%40H%5D%28C%29NCCN%5BC%40H%5D%28C%29CC&draw_map=false&highlight=false\"/>"
      ],
      "text/plain": [
       "<IPython.core.display.Image object>"
      ]
     },
     "metadata": {},
     "output_type": "display_data"
    },
    {
     "name": "stdout",
     "output_type": "stream",
     "text": [
      "Product SFSCore: [0.52  0.494] ['RXN4Chem'] :  CC[C@@H](C)N.O=C(Cl)CCl>>CC[C@@H](C)NCC(=O)N[C@H](C)CC\n"
     ]
    },
    {
     "data": {
      "text/html": [
       "<img src=\"https://askcos.mit.edu/api/v2/draw/?smiles=CC%5BC%40%40H%5D%28C%29N.O%3DC%28Cl%29CCl%3E%3ECC%5BC%40%40H%5D%28C%29NCC%28%3DO%29N%5BC%40H%5D%28C%29CC&draw_map=false&highlight=false\"/>"
      ],
      "text/plain": [
       "<IPython.core.display.Image object>"
      ]
     },
     "metadata": {},
     "output_type": "display_data"
    },
    {
     "name": "stdout",
     "output_type": "stream",
     "text": [
      "Product SFSCore: [0.496 0.526] ['RXN4Chem'] :  CCC(C)=O.N.[H][H]>>CC[C@@H](C)N\n"
     ]
    },
    {
     "data": {
      "text/html": [
       "<img src=\"https://askcos.mit.edu/api/v2/draw/?smiles=CCC%28C%29%3DO.N.%5BH%5D%5BH%5D%3E%3ECC%5BC%40%40H%5D%28C%29N&draw_map=false&highlight=false\"/>"
      ],
      "text/plain": [
       "<IPython.core.display.Image object>"
      ]
     },
     "metadata": {},
     "output_type": "display_data"
    },
    {
     "name": "stdout",
     "output_type": "stream",
     "text": [
      "Path 15:\n",
      "Product SFSCore: [0.503 0.517] ['bkms'] :  CC[C@@H](CO)NCCN[C@H](C)CC>>CC[C@@H](CO)NCCN[C@@H](CC)CO\n"
     ]
    },
    {
     "data": {
      "text/html": [
       "<img src=\"https://askcos.mit.edu/api/v2/draw/?smiles=CC%5BC%40%40H%5D%28CO%29NCCN%5BC%40H%5D%28C%29CC%3E%3ECC%5BC%40%40H%5D%28CO%29NCCN%5BC%40%40H%5D%28CC%29CO&draw_map=false&highlight=false\"/>"
      ],
      "text/plain": [
       "<IPython.core.display.Image object>"
      ]
     },
     "metadata": {},
     "output_type": "display_data"
    },
    {
     "name": "stdout",
     "output_type": "stream",
     "text": [
      "Product SFSCore: [0.537 0.471] ['RXN4Chem'] :  CC[C@@H](C)NCCN[C@H](C)CC.[OH-].[Na+]>>CC[C@@H](CO)NCCN[C@H](C)CC\n"
     ]
    },
    {
     "data": {
      "text/html": [
       "<img src=\"https://askcos.mit.edu/api/v2/draw/?smiles=CC%5BC%40%40H%5D%28C%29NCCN%5BC%40H%5D%28C%29CC.%5BOH-%5D.%5BNa%2B%5D%3E%3ECC%5BC%40%40H%5D%28CO%29NCCN%5BC%40H%5D%28C%29CC&draw_map=false&highlight=false\"/>"
      ],
      "text/plain": [
       "<IPython.core.display.Image object>"
      ]
     },
     "metadata": {},
     "output_type": "display_data"
    },
    {
     "name": "stdout",
     "output_type": "stream",
     "text": [
      "Product SFSCore: [0.546 0.46 ] ['RXN4Chem'] :  C1CCOC1.CC[C@@H](C)NCC(=O)N[C@H](C)CC.[Li+].[AlH4-]>>CC[C@@H](C)NCCN[C@H](C)CC\n"
     ]
    },
    {
     "data": {
      "text/html": [
       "<img src=\"https://askcos.mit.edu/api/v2/draw/?smiles=C1CCOC1.CC%5BC%40%40H%5D%28C%29NCC%28%3DO%29N%5BC%40H%5D%28C%29CC.%5BLi%2B%5D.%5BAlH4-%5D%3E%3ECC%5BC%40%40H%5D%28C%29NCCN%5BC%40H%5D%28C%29CC&draw_map=false&highlight=false\"/>"
      ],
      "text/plain": [
       "<IPython.core.display.Image object>"
      ]
     },
     "metadata": {},
     "output_type": "display_data"
    },
    {
     "name": "stdout",
     "output_type": "stream",
     "text": [
      "Product SFSCore: [0.52  0.494] ['RXN4Chem'] :  CC[C@@H](C)N.O=C(Cl)CCl>>CC[C@@H](C)NCC(=O)N[C@H](C)CC\n"
     ]
    },
    {
     "data": {
      "text/html": [
       "<img src=\"https://askcos.mit.edu/api/v2/draw/?smiles=CC%5BC%40%40H%5D%28C%29N.O%3DC%28Cl%29CCl%3E%3ECC%5BC%40%40H%5D%28C%29NCC%28%3DO%29N%5BC%40H%5D%28C%29CC&draw_map=false&highlight=false\"/>"
      ],
      "text/plain": [
       "<IPython.core.display.Image object>"
      ]
     },
     "metadata": {},
     "output_type": "display_data"
    },
    {
     "name": "stdout",
     "output_type": "stream",
     "text": [
      "Product SFSCore: [0.496 0.526] ['RXN4Chem'] :  CC/C(C)=N/O.[H][H]>>CC[C@@H](C)N\n"
     ]
    },
    {
     "data": {
      "text/html": [
       "<img src=\"https://askcos.mit.edu/api/v2/draw/?smiles=CC/C%28C%29%3DN/O.%5BH%5D%5BH%5D%3E%3ECC%5BC%40%40H%5D%28C%29N&draw_map=false&highlight=false\"/>"
      ],
      "text/plain": [
       "<IPython.core.display.Image object>"
      ]
     },
     "metadata": {},
     "output_type": "display_data"
    },
    {
     "name": "stdout",
     "output_type": "stream",
     "text": [
      "Path 16:\n",
      "Product SFSCore: [0.503 0.517] ['bkms'] :  CC[C@@H](CO)NCCN[C@H](C)CC>>CC[C@@H](CO)NCCN[C@@H](CC)CO\n"
     ]
    },
    {
     "data": {
      "text/html": [
       "<img src=\"https://askcos.mit.edu/api/v2/draw/?smiles=CC%5BC%40%40H%5D%28CO%29NCCN%5BC%40H%5D%28C%29CC%3E%3ECC%5BC%40%40H%5D%28CO%29NCCN%5BC%40%40H%5D%28CC%29CO&draw_map=false&highlight=false\"/>"
      ],
      "text/plain": [
       "<IPython.core.display.Image object>"
      ]
     },
     "metadata": {},
     "output_type": "display_data"
    },
    {
     "name": "stdout",
     "output_type": "stream",
     "text": [
      "Product SFSCore: [0.537 0.471] ['bkms'] :  CC[C@@H](C)NCCN[C@H](C)CC>>CC[C@@H](CO)NCCN[C@H](C)CC\n"
     ]
    },
    {
     "data": {
      "text/html": [
       "<img src=\"https://askcos.mit.edu/api/v2/draw/?smiles=CC%5BC%40%40H%5D%28C%29NCCN%5BC%40H%5D%28C%29CC%3E%3ECC%5BC%40%40H%5D%28CO%29NCCN%5BC%40H%5D%28C%29CC&draw_map=false&highlight=false\"/>"
      ],
      "text/plain": [
       "<IPython.core.display.Image object>"
      ]
     },
     "metadata": {},
     "output_type": "display_data"
    },
    {
     "name": "stdout",
     "output_type": "stream",
     "text": [
      "Product SFSCore: [0.546 0.46 ] ['RXN4Chem'] :  C1CCOC1.CC[C@@H](C)NCC(=O)N[C@H](C)CC.[Li+].[AlH4-]>>CC[C@@H](C)NCCN[C@H](C)CC\n"
     ]
    },
    {
     "data": {
      "text/html": [
       "<img src=\"https://askcos.mit.edu/api/v2/draw/?smiles=C1CCOC1.CC%5BC%40%40H%5D%28C%29NCC%28%3DO%29N%5BC%40H%5D%28C%29CC.%5BLi%2B%5D.%5BAlH4-%5D%3E%3ECC%5BC%40%40H%5D%28C%29NCCN%5BC%40H%5D%28C%29CC&draw_map=false&highlight=false\"/>"
      ],
      "text/plain": [
       "<IPython.core.display.Image object>"
      ]
     },
     "metadata": {},
     "output_type": "display_data"
    },
    {
     "name": "stdout",
     "output_type": "stream",
     "text": [
      "Product SFSCore: [0.52  0.494] ['RXN4Chem'] :  CC[C@@H](C)N.O=C(Cl)CCl>>CC[C@@H](C)NCC(=O)N[C@H](C)CC\n"
     ]
    },
    {
     "data": {
      "text/html": [
       "<img src=\"https://askcos.mit.edu/api/v2/draw/?smiles=CC%5BC%40%40H%5D%28C%29N.O%3DC%28Cl%29CCl%3E%3ECC%5BC%40%40H%5D%28C%29NCC%28%3DO%29N%5BC%40H%5D%28C%29CC&draw_map=false&highlight=false\"/>"
      ],
      "text/plain": [
       "<IPython.core.display.Image object>"
      ]
     },
     "metadata": {},
     "output_type": "display_data"
    },
    {
     "name": "stdout",
     "output_type": "stream",
     "text": [
      "Product SFSCore: [0.496 0.526] ['bkms'] :  CCCCN>>CC[C@@H](C)N\n"
     ]
    },
    {
     "data": {
      "text/html": [
       "<img src=\"https://askcos.mit.edu/api/v2/draw/?smiles=CCCCN%3E%3ECC%5BC%40%40H%5D%28C%29N&draw_map=false&highlight=false\"/>"
      ],
      "text/plain": [
       "<IPython.core.display.Image object>"
      ]
     },
     "metadata": {},
     "output_type": "display_data"
    },
    {
     "name": "stdout",
     "output_type": "stream",
     "text": [
      "Path 17:\n",
      "Product SFSCore: [0.503 0.517] ['bkms'] :  CC[C@@H](CO)NCCN[C@H](C)CC>>CC[C@@H](CO)NCCN[C@@H](CC)CO\n"
     ]
    },
    {
     "data": {
      "text/html": [
       "<img src=\"https://askcos.mit.edu/api/v2/draw/?smiles=CC%5BC%40%40H%5D%28CO%29NCCN%5BC%40H%5D%28C%29CC%3E%3ECC%5BC%40%40H%5D%28CO%29NCCN%5BC%40%40H%5D%28CC%29CO&draw_map=false&highlight=false\"/>"
      ],
      "text/plain": [
       "<IPython.core.display.Image object>"
      ]
     },
     "metadata": {},
     "output_type": "display_data"
    },
    {
     "name": "stdout",
     "output_type": "stream",
     "text": [
      "Product SFSCore: [0.537 0.471] ['bkms'] :  CC[C@@H](C)NCCN[C@H](C)CC>>CC[C@@H](CO)NCCN[C@H](C)CC\n"
     ]
    },
    {
     "data": {
      "text/html": [
       "<img src=\"https://askcos.mit.edu/api/v2/draw/?smiles=CC%5BC%40%40H%5D%28C%29NCCN%5BC%40H%5D%28C%29CC%3E%3ECC%5BC%40%40H%5D%28CO%29NCCN%5BC%40H%5D%28C%29CC&draw_map=false&highlight=false\"/>"
      ],
      "text/plain": [
       "<IPython.core.display.Image object>"
      ]
     },
     "metadata": {},
     "output_type": "display_data"
    },
    {
     "name": "stdout",
     "output_type": "stream",
     "text": [
      "Product SFSCore: [0.546 0.46 ] ['RXN4Chem'] :  C1CCOC1.CC[C@@H](C)NCC(=O)N[C@H](C)CC.[Li+].[AlH4-]>>CC[C@@H](C)NCCN[C@H](C)CC\n"
     ]
    },
    {
     "data": {
      "text/html": [
       "<img src=\"https://askcos.mit.edu/api/v2/draw/?smiles=C1CCOC1.CC%5BC%40%40H%5D%28C%29NCC%28%3DO%29N%5BC%40H%5D%28C%29CC.%5BLi%2B%5D.%5BAlH4-%5D%3E%3ECC%5BC%40%40H%5D%28C%29NCCN%5BC%40H%5D%28C%29CC&draw_map=false&highlight=false\"/>"
      ],
      "text/plain": [
       "<IPython.core.display.Image object>"
      ]
     },
     "metadata": {},
     "output_type": "display_data"
    },
    {
     "name": "stdout",
     "output_type": "stream",
     "text": [
      "Product SFSCore: [0.52  0.494] ['RXN4Chem'] :  CC[C@@H](C)N.O=C(Cl)CCl>>CC[C@@H](C)NCC(=O)N[C@H](C)CC\n"
     ]
    },
    {
     "data": {
      "text/html": [
       "<img src=\"https://askcos.mit.edu/api/v2/draw/?smiles=CC%5BC%40%40H%5D%28C%29N.O%3DC%28Cl%29CCl%3E%3ECC%5BC%40%40H%5D%28C%29NCC%28%3DO%29N%5BC%40H%5D%28C%29CC&draw_map=false&highlight=false\"/>"
      ],
      "text/plain": [
       "<IPython.core.display.Image object>"
      ]
     },
     "metadata": {},
     "output_type": "display_data"
    },
    {
     "name": "stdout",
     "output_type": "stream",
     "text": [
      "Product SFSCore: [0.496 0.526] ['bkms'] :  C[C@@H](N)CCO>>CC[C@@H](C)N\n"
     ]
    },
    {
     "data": {
      "text/html": [
       "<img src=\"https://askcos.mit.edu/api/v2/draw/?smiles=C%5BC%40%40H%5D%28N%29CCO%3E%3ECC%5BC%40%40H%5D%28C%29N&draw_map=false&highlight=false\"/>"
      ],
      "text/plain": [
       "<IPython.core.display.Image object>"
      ]
     },
     "metadata": {},
     "output_type": "display_data"
    },
    {
     "name": "stdout",
     "output_type": "stream",
     "text": [
      "Path 18:\n",
      "Product SFSCore: [0.503 0.517] ['bkms'] :  CC[C@@H](CO)NCCN[C@H](C)CC>>CC[C@@H](CO)NCCN[C@@H](CC)CO\n"
     ]
    },
    {
     "data": {
      "text/html": [
       "<img src=\"https://askcos.mit.edu/api/v2/draw/?smiles=CC%5BC%40%40H%5D%28CO%29NCCN%5BC%40H%5D%28C%29CC%3E%3ECC%5BC%40%40H%5D%28CO%29NCCN%5BC%40%40H%5D%28CC%29CO&draw_map=false&highlight=false\"/>"
      ],
      "text/plain": [
       "<IPython.core.display.Image object>"
      ]
     },
     "metadata": {},
     "output_type": "display_data"
    },
    {
     "name": "stdout",
     "output_type": "stream",
     "text": [
      "Product SFSCore: [0.537 0.471] ['bkms'] :  CC[C@@H](C)NCCN[C@H](C)CC>>CC[C@@H](CO)NCCN[C@H](C)CC\n"
     ]
    },
    {
     "data": {
      "text/html": [
       "<img src=\"https://askcos.mit.edu/api/v2/draw/?smiles=CC%5BC%40%40H%5D%28C%29NCCN%5BC%40H%5D%28C%29CC%3E%3ECC%5BC%40%40H%5D%28CO%29NCCN%5BC%40H%5D%28C%29CC&draw_map=false&highlight=false\"/>"
      ],
      "text/plain": [
       "<IPython.core.display.Image object>"
      ]
     },
     "metadata": {},
     "output_type": "display_data"
    },
    {
     "name": "stdout",
     "output_type": "stream",
     "text": [
      "Product SFSCore: [0.546 0.46 ] ['RXN4Chem'] :  C1CCOC1.CC[C@@H](C)NCC(=O)N[C@H](C)CC.[Li+].[AlH4-]>>CC[C@@H](C)NCCN[C@H](C)CC\n"
     ]
    },
    {
     "data": {
      "text/html": [
       "<img src=\"https://askcos.mit.edu/api/v2/draw/?smiles=C1CCOC1.CC%5BC%40%40H%5D%28C%29NCC%28%3DO%29N%5BC%40H%5D%28C%29CC.%5BLi%2B%5D.%5BAlH4-%5D%3E%3ECC%5BC%40%40H%5D%28C%29NCCN%5BC%40H%5D%28C%29CC&draw_map=false&highlight=false\"/>"
      ],
      "text/plain": [
       "<IPython.core.display.Image object>"
      ]
     },
     "metadata": {},
     "output_type": "display_data"
    },
    {
     "name": "stdout",
     "output_type": "stream",
     "text": [
      "Product SFSCore: [0.52  0.494] ['RXN4Chem'] :  CC[C@@H](C)N.O=C(Cl)CCl>>CC[C@@H](C)NCC(=O)N[C@H](C)CC\n"
     ]
    },
    {
     "data": {
      "text/html": [
       "<img src=\"https://askcos.mit.edu/api/v2/draw/?smiles=CC%5BC%40%40H%5D%28C%29N.O%3DC%28Cl%29CCl%3E%3ECC%5BC%40%40H%5D%28C%29NCC%28%3DO%29N%5BC%40H%5D%28C%29CC&draw_map=false&highlight=false\"/>"
      ],
      "text/plain": [
       "<IPython.core.display.Image object>"
      ]
     },
     "metadata": {},
     "output_type": "display_data"
    },
    {
     "name": "stdout",
     "output_type": "stream",
     "text": [
      "Product SFSCore: [0.496 0.526] ['bkms'] :  CC[C@H](N)CO>>CC[C@@H](C)N\n"
     ]
    },
    {
     "data": {
      "text/html": [
       "<img src=\"https://askcos.mit.edu/api/v2/draw/?smiles=CC%5BC%40H%5D%28N%29CO%3E%3ECC%5BC%40%40H%5D%28C%29N&draw_map=false&highlight=false\"/>"
      ],
      "text/plain": [
       "<IPython.core.display.Image object>"
      ]
     },
     "metadata": {},
     "output_type": "display_data"
    },
    {
     "name": "stdout",
     "output_type": "stream",
     "text": [
      "Path 19:\n",
      "Product SFSCore: [0.503 0.517] ['bkms'] :  CC[C@@H](CO)NCCN[C@H](C)CC>>CC[C@@H](CO)NCCN[C@@H](CC)CO\n"
     ]
    },
    {
     "data": {
      "text/html": [
       "<img src=\"https://askcos.mit.edu/api/v2/draw/?smiles=CC%5BC%40%40H%5D%28CO%29NCCN%5BC%40H%5D%28C%29CC%3E%3ECC%5BC%40%40H%5D%28CO%29NCCN%5BC%40%40H%5D%28CC%29CO&draw_map=false&highlight=false\"/>"
      ],
      "text/plain": [
       "<IPython.core.display.Image object>"
      ]
     },
     "metadata": {},
     "output_type": "display_data"
    },
    {
     "name": "stdout",
     "output_type": "stream",
     "text": [
      "Product SFSCore: [0.537 0.471] ['bkms'] :  CC[C@@H](C)NCCN[C@H](C)CC>>CC[C@@H](CO)NCCN[C@H](C)CC\n"
     ]
    },
    {
     "data": {
      "text/html": [
       "<img src=\"https://askcos.mit.edu/api/v2/draw/?smiles=CC%5BC%40%40H%5D%28C%29NCCN%5BC%40H%5D%28C%29CC%3E%3ECC%5BC%40%40H%5D%28CO%29NCCN%5BC%40H%5D%28C%29CC&draw_map=false&highlight=false\"/>"
      ],
      "text/plain": [
       "<IPython.core.display.Image object>"
      ]
     },
     "metadata": {},
     "output_type": "display_data"
    },
    {
     "name": "stdout",
     "output_type": "stream",
     "text": [
      "Product SFSCore: [0.546 0.46 ] ['RXN4Chem'] :  C1CCOC1.CC[C@@H](C)NCC(=O)N[C@H](C)CC.[Li+].[AlH4-]>>CC[C@@H](C)NCCN[C@H](C)CC\n"
     ]
    },
    {
     "data": {
      "text/html": [
       "<img src=\"https://askcos.mit.edu/api/v2/draw/?smiles=C1CCOC1.CC%5BC%40%40H%5D%28C%29NCC%28%3DO%29N%5BC%40H%5D%28C%29CC.%5BLi%2B%5D.%5BAlH4-%5D%3E%3ECC%5BC%40%40H%5D%28C%29NCCN%5BC%40H%5D%28C%29CC&draw_map=false&highlight=false\"/>"
      ],
      "text/plain": [
       "<IPython.core.display.Image object>"
      ]
     },
     "metadata": {},
     "output_type": "display_data"
    },
    {
     "name": "stdout",
     "output_type": "stream",
     "text": [
      "Product SFSCore: [0.52  0.494] ['RXN4Chem'] :  CC[C@@H](C)N.O=C(Cl)CCl>>CC[C@@H](C)NCC(=O)N[C@H](C)CC\n"
     ]
    },
    {
     "data": {
      "text/html": [
       "<img src=\"https://askcos.mit.edu/api/v2/draw/?smiles=CC%5BC%40%40H%5D%28C%29N.O%3DC%28Cl%29CCl%3E%3ECC%5BC%40%40H%5D%28C%29NCC%28%3DO%29N%5BC%40H%5D%28C%29CC&draw_map=false&highlight=false\"/>"
      ],
      "text/plain": [
       "<IPython.core.display.Image object>"
      ]
     },
     "metadata": {},
     "output_type": "display_data"
    },
    {
     "name": "stdout",
     "output_type": "stream",
     "text": [
      "Product SFSCore: [0.496 0.526] ['bkms'] :  CCCC[C@@H](C)N>>CC[C@@H](C)N\n"
     ]
    },
    {
     "data": {
      "text/html": [
       "<img src=\"https://askcos.mit.edu/api/v2/draw/?smiles=CCCC%5BC%40%40H%5D%28C%29N%3E%3ECC%5BC%40%40H%5D%28C%29N&draw_map=false&highlight=false\"/>"
      ],
      "text/plain": [
       "<IPython.core.display.Image object>"
      ]
     },
     "metadata": {},
     "output_type": "display_data"
    },
    {
     "name": "stdout",
     "output_type": "stream",
     "text": [
      "Path 20:\n",
      "Product SFSCore: [0.503 0.517] ['bkms'] :  CC[C@@H](CO)NCCN[C@H](C)CC>>CC[C@@H](CO)NCCN[C@@H](CC)CO\n"
     ]
    },
    {
     "data": {
      "text/html": [
       "<img src=\"https://askcos.mit.edu/api/v2/draw/?smiles=CC%5BC%40%40H%5D%28CO%29NCCN%5BC%40H%5D%28C%29CC%3E%3ECC%5BC%40%40H%5D%28CO%29NCCN%5BC%40%40H%5D%28CC%29CO&draw_map=false&highlight=false\"/>"
      ],
      "text/plain": [
       "<IPython.core.display.Image object>"
      ]
     },
     "metadata": {},
     "output_type": "display_data"
    },
    {
     "name": "stdout",
     "output_type": "stream",
     "text": [
      "Product SFSCore: [0.537 0.471] ['bkms'] :  CC[C@@H](C)NCCN[C@H](C)CC>>CC[C@@H](CO)NCCN[C@H](C)CC\n"
     ]
    },
    {
     "data": {
      "text/html": [
       "<img src=\"https://askcos.mit.edu/api/v2/draw/?smiles=CC%5BC%40%40H%5D%28C%29NCCN%5BC%40H%5D%28C%29CC%3E%3ECC%5BC%40%40H%5D%28CO%29NCCN%5BC%40H%5D%28C%29CC&draw_map=false&highlight=false\"/>"
      ],
      "text/plain": [
       "<IPython.core.display.Image object>"
      ]
     },
     "metadata": {},
     "output_type": "display_data"
    },
    {
     "name": "stdout",
     "output_type": "stream",
     "text": [
      "Product SFSCore: [0.546 0.46 ] ['RXN4Chem'] :  C1CCOC1.CC[C@@H](C)NCC(=O)N[C@H](C)CC.[Li+].[AlH4-]>>CC[C@@H](C)NCCN[C@H](C)CC\n"
     ]
    },
    {
     "data": {
      "text/html": [
       "<img src=\"https://askcos.mit.edu/api/v2/draw/?smiles=C1CCOC1.CC%5BC%40%40H%5D%28C%29NCC%28%3DO%29N%5BC%40H%5D%28C%29CC.%5BLi%2B%5D.%5BAlH4-%5D%3E%3ECC%5BC%40%40H%5D%28C%29NCCN%5BC%40H%5D%28C%29CC&draw_map=false&highlight=false\"/>"
      ],
      "text/plain": [
       "<IPython.core.display.Image object>"
      ]
     },
     "metadata": {},
     "output_type": "display_data"
    },
    {
     "name": "stdout",
     "output_type": "stream",
     "text": [
      "Product SFSCore: [0.52  0.494] ['RXN4Chem'] :  CC[C@@H](C)N.O=C(Cl)CCl>>CC[C@@H](C)NCC(=O)N[C@H](C)CC\n"
     ]
    },
    {
     "data": {
      "text/html": [
       "<img src=\"https://askcos.mit.edu/api/v2/draw/?smiles=CC%5BC%40%40H%5D%28C%29N.O%3DC%28Cl%29CCl%3E%3ECC%5BC%40%40H%5D%28C%29NCC%28%3DO%29N%5BC%40H%5D%28C%29CC&draw_map=false&highlight=false\"/>"
      ],
      "text/plain": [
       "<IPython.core.display.Image object>"
      ]
     },
     "metadata": {},
     "output_type": "display_data"
    },
    {
     "name": "stdout",
     "output_type": "stream",
     "text": [
      "Product SFSCore: [0.496 0.526] ['bkms'] :  CCC(C)=O>>CC[C@@H](C)N\n"
     ]
    },
    {
     "data": {
      "text/html": [
       "<img src=\"https://askcos.mit.edu/api/v2/draw/?smiles=CCC%28C%29%3DO%3E%3ECC%5BC%40%40H%5D%28C%29N&draw_map=false&highlight=false\"/>"
      ],
      "text/plain": [
       "<IPython.core.display.Image object>"
      ]
     },
     "metadata": {},
     "output_type": "display_data"
    },
    {
     "name": "stdout",
     "output_type": "stream",
     "text": [
      "Path 21:\n",
      "Product SFSCore: [0.503 0.517] ['bkms'] :  CC[C@@H](CO)NCCN[C@H](C)CC>>CC[C@@H](CO)NCCN[C@@H](CC)CO\n"
     ]
    },
    {
     "data": {
      "text/html": [
       "<img src=\"https://askcos.mit.edu/api/v2/draw/?smiles=CC%5BC%40%40H%5D%28CO%29NCCN%5BC%40H%5D%28C%29CC%3E%3ECC%5BC%40%40H%5D%28CO%29NCCN%5BC%40%40H%5D%28CC%29CO&draw_map=false&highlight=false\"/>"
      ],
      "text/plain": [
       "<IPython.core.display.Image object>"
      ]
     },
     "metadata": {},
     "output_type": "display_data"
    },
    {
     "name": "stdout",
     "output_type": "stream",
     "text": [
      "Product SFSCore: [0.537 0.471] ['bkms'] :  CC[C@@H](C)NCCN[C@H](C)CC>>CC[C@@H](CO)NCCN[C@H](C)CC\n"
     ]
    },
    {
     "data": {
      "text/html": [
       "<img src=\"https://askcos.mit.edu/api/v2/draw/?smiles=CC%5BC%40%40H%5D%28C%29NCCN%5BC%40H%5D%28C%29CC%3E%3ECC%5BC%40%40H%5D%28CO%29NCCN%5BC%40H%5D%28C%29CC&draw_map=false&highlight=false\"/>"
      ],
      "text/plain": [
       "<IPython.core.display.Image object>"
      ]
     },
     "metadata": {},
     "output_type": "display_data"
    },
    {
     "name": "stdout",
     "output_type": "stream",
     "text": [
      "Product SFSCore: [0.546 0.46 ] ['RXN4Chem'] :  C1CCOC1.CC[C@@H](C)NCC(=O)N[C@H](C)CC.[Li+].[AlH4-]>>CC[C@@H](C)NCCN[C@H](C)CC\n"
     ]
    },
    {
     "data": {
      "text/html": [
       "<img src=\"https://askcos.mit.edu/api/v2/draw/?smiles=C1CCOC1.CC%5BC%40%40H%5D%28C%29NCC%28%3DO%29N%5BC%40H%5D%28C%29CC.%5BLi%2B%5D.%5BAlH4-%5D%3E%3ECC%5BC%40%40H%5D%28C%29NCCN%5BC%40H%5D%28C%29CC&draw_map=false&highlight=false\"/>"
      ],
      "text/plain": [
       "<IPython.core.display.Image object>"
      ]
     },
     "metadata": {},
     "output_type": "display_data"
    },
    {
     "name": "stdout",
     "output_type": "stream",
     "text": [
      "Product SFSCore: [0.52  0.494] ['RXN4Chem'] :  CC[C@@H](C)N.O=C(Cl)CCl>>CC[C@@H](C)NCC(=O)N[C@H](C)CC\n"
     ]
    },
    {
     "data": {
      "text/html": [
       "<img src=\"https://askcos.mit.edu/api/v2/draw/?smiles=CC%5BC%40%40H%5D%28C%29N.O%3DC%28Cl%29CCl%3E%3ECC%5BC%40%40H%5D%28C%29NCC%28%3DO%29N%5BC%40H%5D%28C%29CC&draw_map=false&highlight=false\"/>"
      ],
      "text/plain": [
       "<IPython.core.display.Image object>"
      ]
     },
     "metadata": {},
     "output_type": "display_data"
    },
    {
     "name": "stdout",
     "output_type": "stream",
     "text": [
      "Product SFSCore: [0.496 0.526] ['bkms'] :  CC(C)[C@@H](C)N>>CC[C@@H](C)N\n"
     ]
    },
    {
     "data": {
      "text/html": [
       "<img src=\"https://askcos.mit.edu/api/v2/draw/?smiles=CC%28C%29%5BC%40%40H%5D%28C%29N%3E%3ECC%5BC%40%40H%5D%28C%29N&draw_map=false&highlight=false\"/>"
      ],
      "text/plain": [
       "<IPython.core.display.Image object>"
      ]
     },
     "metadata": {},
     "output_type": "display_data"
    },
    {
     "name": "stdout",
     "output_type": "stream",
     "text": [
      "Path 22:\n",
      "Product SFSCore: [0.503 0.517] ['bkms'] :  CC[C@@H](CO)NCCN[C@H](C)CC>>CC[C@@H](CO)NCCN[C@@H](CC)CO\n"
     ]
    },
    {
     "data": {
      "text/html": [
       "<img src=\"https://askcos.mit.edu/api/v2/draw/?smiles=CC%5BC%40%40H%5D%28CO%29NCCN%5BC%40H%5D%28C%29CC%3E%3ECC%5BC%40%40H%5D%28CO%29NCCN%5BC%40%40H%5D%28CC%29CO&draw_map=false&highlight=false\"/>"
      ],
      "text/plain": [
       "<IPython.core.display.Image object>"
      ]
     },
     "metadata": {},
     "output_type": "display_data"
    },
    {
     "name": "stdout",
     "output_type": "stream",
     "text": [
      "Product SFSCore: [0.537 0.471] ['bkms'] :  CC[C@@H](C)NCCN[C@H](C)CC>>CC[C@@H](CO)NCCN[C@H](C)CC\n"
     ]
    },
    {
     "data": {
      "text/html": [
       "<img src=\"https://askcos.mit.edu/api/v2/draw/?smiles=CC%5BC%40%40H%5D%28C%29NCCN%5BC%40H%5D%28C%29CC%3E%3ECC%5BC%40%40H%5D%28CO%29NCCN%5BC%40H%5D%28C%29CC&draw_map=false&highlight=false\"/>"
      ],
      "text/plain": [
       "<IPython.core.display.Image object>"
      ]
     },
     "metadata": {},
     "output_type": "display_data"
    },
    {
     "name": "stdout",
     "output_type": "stream",
     "text": [
      "Product SFSCore: [0.546 0.46 ] ['RXN4Chem'] :  C1CCOC1.CC[C@@H](C)NCC(=O)N[C@H](C)CC.[Li+].[AlH4-]>>CC[C@@H](C)NCCN[C@H](C)CC\n"
     ]
    },
    {
     "data": {
      "text/html": [
       "<img src=\"https://askcos.mit.edu/api/v2/draw/?smiles=C1CCOC1.CC%5BC%40%40H%5D%28C%29NCC%28%3DO%29N%5BC%40H%5D%28C%29CC.%5BLi%2B%5D.%5BAlH4-%5D%3E%3ECC%5BC%40%40H%5D%28C%29NCCN%5BC%40H%5D%28C%29CC&draw_map=false&highlight=false\"/>"
      ],
      "text/plain": [
       "<IPython.core.display.Image object>"
      ]
     },
     "metadata": {},
     "output_type": "display_data"
    },
    {
     "name": "stdout",
     "output_type": "stream",
     "text": [
      "Product SFSCore: [0.52  0.494] ['RXN4Chem'] :  CC[C@@H](C)N.O=C(Cl)CCl>>CC[C@@H](C)NCC(=O)N[C@H](C)CC\n"
     ]
    },
    {
     "data": {
      "text/html": [
       "<img src=\"https://askcos.mit.edu/api/v2/draw/?smiles=CC%5BC%40%40H%5D%28C%29N.O%3DC%28Cl%29CCl%3E%3ECC%5BC%40%40H%5D%28C%29NCC%28%3DO%29N%5BC%40H%5D%28C%29CC&draw_map=false&highlight=false\"/>"
      ],
      "text/plain": [
       "<IPython.core.display.Image object>"
      ]
     },
     "metadata": {},
     "output_type": "display_data"
    },
    {
     "name": "stdout",
     "output_type": "stream",
     "text": [
      "Product SFSCore: [0.496 0.526] ['RXN4Chem'] :  CCC(C)=O.N.[H][H]>>CC[C@@H](C)N\n"
     ]
    },
    {
     "data": {
      "text/html": [
       "<img src=\"https://askcos.mit.edu/api/v2/draw/?smiles=CCC%28C%29%3DO.N.%5BH%5D%5BH%5D%3E%3ECC%5BC%40%40H%5D%28C%29N&draw_map=false&highlight=false\"/>"
      ],
      "text/plain": [
       "<IPython.core.display.Image object>"
      ]
     },
     "metadata": {},
     "output_type": "display_data"
    },
    {
     "name": "stdout",
     "output_type": "stream",
     "text": [
      "Path 23:\n",
      "Product SFSCore: [0.503 0.517] ['bkms'] :  CC[C@@H](CO)NCCN[C@H](C)CC>>CC[C@@H](CO)NCCN[C@@H](CC)CO\n"
     ]
    },
    {
     "data": {
      "text/html": [
       "<img src=\"https://askcos.mit.edu/api/v2/draw/?smiles=CC%5BC%40%40H%5D%28CO%29NCCN%5BC%40H%5D%28C%29CC%3E%3ECC%5BC%40%40H%5D%28CO%29NCCN%5BC%40%40H%5D%28CC%29CO&draw_map=false&highlight=false\"/>"
      ],
      "text/plain": [
       "<IPython.core.display.Image object>"
      ]
     },
     "metadata": {},
     "output_type": "display_data"
    },
    {
     "name": "stdout",
     "output_type": "stream",
     "text": [
      "Product SFSCore: [0.537 0.471] ['bkms'] :  CC[C@@H](C)NCCN[C@H](C)CC>>CC[C@@H](CO)NCCN[C@H](C)CC\n"
     ]
    },
    {
     "data": {
      "text/html": [
       "<img src=\"https://askcos.mit.edu/api/v2/draw/?smiles=CC%5BC%40%40H%5D%28C%29NCCN%5BC%40H%5D%28C%29CC%3E%3ECC%5BC%40%40H%5D%28CO%29NCCN%5BC%40H%5D%28C%29CC&draw_map=false&highlight=false\"/>"
      ],
      "text/plain": [
       "<IPython.core.display.Image object>"
      ]
     },
     "metadata": {},
     "output_type": "display_data"
    },
    {
     "name": "stdout",
     "output_type": "stream",
     "text": [
      "Product SFSCore: [0.546 0.46 ] ['RXN4Chem'] :  C1CCOC1.CC[C@@H](C)NCC(=O)N[C@H](C)CC.[Li+].[AlH4-]>>CC[C@@H](C)NCCN[C@H](C)CC\n"
     ]
    },
    {
     "data": {
      "text/html": [
       "<img src=\"https://askcos.mit.edu/api/v2/draw/?smiles=C1CCOC1.CC%5BC%40%40H%5D%28C%29NCC%28%3DO%29N%5BC%40H%5D%28C%29CC.%5BLi%2B%5D.%5BAlH4-%5D%3E%3ECC%5BC%40%40H%5D%28C%29NCCN%5BC%40H%5D%28C%29CC&draw_map=false&highlight=false\"/>"
      ],
      "text/plain": [
       "<IPython.core.display.Image object>"
      ]
     },
     "metadata": {},
     "output_type": "display_data"
    },
    {
     "name": "stdout",
     "output_type": "stream",
     "text": [
      "Product SFSCore: [0.52  0.494] ['RXN4Chem'] :  CC[C@@H](C)N.O=C(Cl)CCl>>CC[C@@H](C)NCC(=O)N[C@H](C)CC\n"
     ]
    },
    {
     "data": {
      "text/html": [
       "<img src=\"https://askcos.mit.edu/api/v2/draw/?smiles=CC%5BC%40%40H%5D%28C%29N.O%3DC%28Cl%29CCl%3E%3ECC%5BC%40%40H%5D%28C%29NCC%28%3DO%29N%5BC%40H%5D%28C%29CC&draw_map=false&highlight=false\"/>"
      ],
      "text/plain": [
       "<IPython.core.display.Image object>"
      ]
     },
     "metadata": {},
     "output_type": "display_data"
    },
    {
     "name": "stdout",
     "output_type": "stream",
     "text": [
      "Product SFSCore: [0.496 0.526] ['RXN4Chem'] :  CC/C(C)=N/O.[H][H]>>CC[C@@H](C)N\n"
     ]
    },
    {
     "data": {
      "text/html": [
       "<img src=\"https://askcos.mit.edu/api/v2/draw/?smiles=CC/C%28C%29%3DN/O.%5BH%5D%5BH%5D%3E%3ECC%5BC%40%40H%5D%28C%29N&draw_map=false&highlight=false\"/>"
      ],
      "text/plain": [
       "<IPython.core.display.Image object>"
      ]
     },
     "metadata": {},
     "output_type": "display_data"
    },
    {
     "name": "stdout",
     "output_type": "stream",
     "text": [
      "Path 24:\n",
      "Product SFSCore: [0.503 0.517] ['bkms'] :  CC[C@@H](CO)NCCN[C@@H](CC)CCl>>CC[C@@H](CO)NCCN[C@@H](CC)CO\n"
     ]
    },
    {
     "data": {
      "text/html": [
       "<img src=\"https://askcos.mit.edu/api/v2/draw/?smiles=CC%5BC%40%40H%5D%28CO%29NCCN%5BC%40%40H%5D%28CC%29CCl%3E%3ECC%5BC%40%40H%5D%28CO%29NCCN%5BC%40%40H%5D%28CC%29CO&draw_map=false&highlight=false\"/>"
      ],
      "text/plain": [
       "<IPython.core.display.Image object>"
      ]
     },
     "metadata": {},
     "output_type": "display_data"
    },
    {
     "name": "stdout",
     "output_type": "stream",
     "text": [
      "Product SFSCore: [0.553 0.451] ['bkms'] :  CC[C@@H](CCl)NCCN[C@H](C)CC>>CC[C@@H](CO)NCCN[C@@H](CC)CCl\n"
     ]
    },
    {
     "data": {
      "text/html": [
       "<img src=\"https://askcos.mit.edu/api/v2/draw/?smiles=CC%5BC%40%40H%5D%28CCl%29NCCN%5BC%40H%5D%28C%29CC%3E%3ECC%5BC%40%40H%5D%28CO%29NCCN%5BC%40%40H%5D%28CC%29CCl&draw_map=false&highlight=false\"/>"
      ],
      "text/plain": [
       "<IPython.core.display.Image object>"
      ]
     },
     "metadata": {},
     "output_type": "display_data"
    },
    {
     "name": "stdout",
     "output_type": "stream",
     "text": [
      "Product SFSCore: [0.575 0.426] ['RXN4Chem'] :  C1CCOC1.CC[C@@H](C)NCC(=O)N[C@H](C)CC.[Li+].[AlH4-]>>CC[C@@H](CCl)NCCN[C@H](C)CC\n"
     ]
    },
    {
     "data": {
      "text/html": [
       "<img src=\"https://askcos.mit.edu/api/v2/draw/?smiles=C1CCOC1.CC%5BC%40%40H%5D%28C%29NCC%28%3DO%29N%5BC%40H%5D%28C%29CC.%5BLi%2B%5D.%5BAlH4-%5D%3E%3ECC%5BC%40%40H%5D%28CCl%29NCCN%5BC%40H%5D%28C%29CC&draw_map=false&highlight=false\"/>"
      ],
      "text/plain": [
       "<IPython.core.display.Image object>"
      ]
     },
     "metadata": {},
     "output_type": "display_data"
    },
    {
     "name": "stdout",
     "output_type": "stream",
     "text": [
      "Product SFSCore: [0.52  0.494] ['RXN4Chem'] :  CC[C@@H](C)N.O=C(Cl)CCl>>CC[C@@H](C)NCC(=O)N[C@H](C)CC\n"
     ]
    },
    {
     "data": {
      "text/html": [
       "<img src=\"https://askcos.mit.edu/api/v2/draw/?smiles=CC%5BC%40%40H%5D%28C%29N.O%3DC%28Cl%29CCl%3E%3ECC%5BC%40%40H%5D%28C%29NCC%28%3DO%29N%5BC%40H%5D%28C%29CC&draw_map=false&highlight=false\"/>"
      ],
      "text/plain": [
       "<IPython.core.display.Image object>"
      ]
     },
     "metadata": {},
     "output_type": "display_data"
    },
    {
     "name": "stdout",
     "output_type": "stream",
     "text": [
      "Product SFSCore: [0.496 0.526] ['bkms'] :  CCCCN>>CC[C@@H](C)N\n"
     ]
    },
    {
     "data": {
      "text/html": [
       "<img src=\"https://askcos.mit.edu/api/v2/draw/?smiles=CCCCN%3E%3ECC%5BC%40%40H%5D%28C%29N&draw_map=false&highlight=false\"/>"
      ],
      "text/plain": [
       "<IPython.core.display.Image object>"
      ]
     },
     "metadata": {},
     "output_type": "display_data"
    },
    {
     "name": "stdout",
     "output_type": "stream",
     "text": [
      "Path 25:\n",
      "Product SFSCore: [0.503 0.517] ['bkms'] :  CC[C@@H](CO)NCCN[C@@H](CC)CCl>>CC[C@@H](CO)NCCN[C@@H](CC)CO\n"
     ]
    },
    {
     "data": {
      "text/html": [
       "<img src=\"https://askcos.mit.edu/api/v2/draw/?smiles=CC%5BC%40%40H%5D%28CO%29NCCN%5BC%40%40H%5D%28CC%29CCl%3E%3ECC%5BC%40%40H%5D%28CO%29NCCN%5BC%40%40H%5D%28CC%29CO&draw_map=false&highlight=false\"/>"
      ],
      "text/plain": [
       "<IPython.core.display.Image object>"
      ]
     },
     "metadata": {},
     "output_type": "display_data"
    },
    {
     "name": "stdout",
     "output_type": "stream",
     "text": [
      "Product SFSCore: [0.553 0.451] ['bkms'] :  CC[C@@H](CCl)NCCN[C@H](C)CC>>CC[C@@H](CO)NCCN[C@@H](CC)CCl\n"
     ]
    },
    {
     "data": {
      "text/html": [
       "<img src=\"https://askcos.mit.edu/api/v2/draw/?smiles=CC%5BC%40%40H%5D%28CCl%29NCCN%5BC%40H%5D%28C%29CC%3E%3ECC%5BC%40%40H%5D%28CO%29NCCN%5BC%40%40H%5D%28CC%29CCl&draw_map=false&highlight=false\"/>"
      ],
      "text/plain": [
       "<IPython.core.display.Image object>"
      ]
     },
     "metadata": {},
     "output_type": "display_data"
    },
    {
     "name": "stdout",
     "output_type": "stream",
     "text": [
      "Product SFSCore: [0.575 0.426] ['RXN4Chem'] :  C1CCOC1.CC[C@@H](C)NCC(=O)N[C@H](C)CC.[Li+].[AlH4-]>>CC[C@@H](CCl)NCCN[C@H](C)CC\n"
     ]
    },
    {
     "data": {
      "text/html": [
       "<img src=\"https://askcos.mit.edu/api/v2/draw/?smiles=C1CCOC1.CC%5BC%40%40H%5D%28C%29NCC%28%3DO%29N%5BC%40H%5D%28C%29CC.%5BLi%2B%5D.%5BAlH4-%5D%3E%3ECC%5BC%40%40H%5D%28CCl%29NCCN%5BC%40H%5D%28C%29CC&draw_map=false&highlight=false\"/>"
      ],
      "text/plain": [
       "<IPython.core.display.Image object>"
      ]
     },
     "metadata": {},
     "output_type": "display_data"
    },
    {
     "name": "stdout",
     "output_type": "stream",
     "text": [
      "Product SFSCore: [0.52  0.494] ['RXN4Chem'] :  CC[C@@H](C)N.O=C(Cl)CCl>>CC[C@@H](C)NCC(=O)N[C@H](C)CC\n"
     ]
    },
    {
     "data": {
      "text/html": [
       "<img src=\"https://askcos.mit.edu/api/v2/draw/?smiles=CC%5BC%40%40H%5D%28C%29N.O%3DC%28Cl%29CCl%3E%3ECC%5BC%40%40H%5D%28C%29NCC%28%3DO%29N%5BC%40H%5D%28C%29CC&draw_map=false&highlight=false\"/>"
      ],
      "text/plain": [
       "<IPython.core.display.Image object>"
      ]
     },
     "metadata": {},
     "output_type": "display_data"
    },
    {
     "name": "stdout",
     "output_type": "stream",
     "text": [
      "Product SFSCore: [0.496 0.526] ['bkms'] :  C[C@@H](N)CCO>>CC[C@@H](C)N\n"
     ]
    },
    {
     "data": {
      "text/html": [
       "<img src=\"https://askcos.mit.edu/api/v2/draw/?smiles=C%5BC%40%40H%5D%28N%29CCO%3E%3ECC%5BC%40%40H%5D%28C%29N&draw_map=false&highlight=false\"/>"
      ],
      "text/plain": [
       "<IPython.core.display.Image object>"
      ]
     },
     "metadata": {},
     "output_type": "display_data"
    },
    {
     "name": "stdout",
     "output_type": "stream",
     "text": [
      "Path 26:\n",
      "Product SFSCore: [0.503 0.517] ['bkms'] :  CC[C@@H](CO)NCCN[C@@H](CC)CCl>>CC[C@@H](CO)NCCN[C@@H](CC)CO\n"
     ]
    },
    {
     "data": {
      "text/html": [
       "<img src=\"https://askcos.mit.edu/api/v2/draw/?smiles=CC%5BC%40%40H%5D%28CO%29NCCN%5BC%40%40H%5D%28CC%29CCl%3E%3ECC%5BC%40%40H%5D%28CO%29NCCN%5BC%40%40H%5D%28CC%29CO&draw_map=false&highlight=false\"/>"
      ],
      "text/plain": [
       "<IPython.core.display.Image object>"
      ]
     },
     "metadata": {},
     "output_type": "display_data"
    },
    {
     "name": "stdout",
     "output_type": "stream",
     "text": [
      "Product SFSCore: [0.553 0.451] ['bkms'] :  CC[C@@H](CCl)NCCN[C@H](C)CC>>CC[C@@H](CO)NCCN[C@@H](CC)CCl\n"
     ]
    },
    {
     "data": {
      "text/html": [
       "<img src=\"https://askcos.mit.edu/api/v2/draw/?smiles=CC%5BC%40%40H%5D%28CCl%29NCCN%5BC%40H%5D%28C%29CC%3E%3ECC%5BC%40%40H%5D%28CO%29NCCN%5BC%40%40H%5D%28CC%29CCl&draw_map=false&highlight=false\"/>"
      ],
      "text/plain": [
       "<IPython.core.display.Image object>"
      ]
     },
     "metadata": {},
     "output_type": "display_data"
    },
    {
     "name": "stdout",
     "output_type": "stream",
     "text": [
      "Product SFSCore: [0.575 0.426] ['RXN4Chem'] :  C1CCOC1.CC[C@@H](C)NCC(=O)N[C@H](C)CC.[Li+].[AlH4-]>>CC[C@@H](CCl)NCCN[C@H](C)CC\n"
     ]
    },
    {
     "data": {
      "text/html": [
       "<img src=\"https://askcos.mit.edu/api/v2/draw/?smiles=C1CCOC1.CC%5BC%40%40H%5D%28C%29NCC%28%3DO%29N%5BC%40H%5D%28C%29CC.%5BLi%2B%5D.%5BAlH4-%5D%3E%3ECC%5BC%40%40H%5D%28CCl%29NCCN%5BC%40H%5D%28C%29CC&draw_map=false&highlight=false\"/>"
      ],
      "text/plain": [
       "<IPython.core.display.Image object>"
      ]
     },
     "metadata": {},
     "output_type": "display_data"
    },
    {
     "name": "stdout",
     "output_type": "stream",
     "text": [
      "Product SFSCore: [0.52  0.494] ['RXN4Chem'] :  CC[C@@H](C)N.O=C(Cl)CCl>>CC[C@@H](C)NCC(=O)N[C@H](C)CC\n"
     ]
    },
    {
     "data": {
      "text/html": [
       "<img src=\"https://askcos.mit.edu/api/v2/draw/?smiles=CC%5BC%40%40H%5D%28C%29N.O%3DC%28Cl%29CCl%3E%3ECC%5BC%40%40H%5D%28C%29NCC%28%3DO%29N%5BC%40H%5D%28C%29CC&draw_map=false&highlight=false\"/>"
      ],
      "text/plain": [
       "<IPython.core.display.Image object>"
      ]
     },
     "metadata": {},
     "output_type": "display_data"
    },
    {
     "name": "stdout",
     "output_type": "stream",
     "text": [
      "Product SFSCore: [0.496 0.526] ['bkms'] :  CC[C@H](N)CO>>CC[C@@H](C)N\n"
     ]
    },
    {
     "data": {
      "text/html": [
       "<img src=\"https://askcos.mit.edu/api/v2/draw/?smiles=CC%5BC%40H%5D%28N%29CO%3E%3ECC%5BC%40%40H%5D%28C%29N&draw_map=false&highlight=false\"/>"
      ],
      "text/plain": [
       "<IPython.core.display.Image object>"
      ]
     },
     "metadata": {},
     "output_type": "display_data"
    },
    {
     "name": "stdout",
     "output_type": "stream",
     "text": [
      "Path 27:\n",
      "Product SFSCore: [0.503 0.517] ['bkms'] :  CC[C@@H](CO)NCCN[C@@H](CC)CCl>>CC[C@@H](CO)NCCN[C@@H](CC)CO\n"
     ]
    },
    {
     "data": {
      "text/html": [
       "<img src=\"https://askcos.mit.edu/api/v2/draw/?smiles=CC%5BC%40%40H%5D%28CO%29NCCN%5BC%40%40H%5D%28CC%29CCl%3E%3ECC%5BC%40%40H%5D%28CO%29NCCN%5BC%40%40H%5D%28CC%29CO&draw_map=false&highlight=false\"/>"
      ],
      "text/plain": [
       "<IPython.core.display.Image object>"
      ]
     },
     "metadata": {},
     "output_type": "display_data"
    },
    {
     "name": "stdout",
     "output_type": "stream",
     "text": [
      "Product SFSCore: [0.553 0.451] ['bkms'] :  CC[C@@H](CCl)NCCN[C@H](C)CC>>CC[C@@H](CO)NCCN[C@@H](CC)CCl\n"
     ]
    },
    {
     "data": {
      "text/html": [
       "<img src=\"https://askcos.mit.edu/api/v2/draw/?smiles=CC%5BC%40%40H%5D%28CCl%29NCCN%5BC%40H%5D%28C%29CC%3E%3ECC%5BC%40%40H%5D%28CO%29NCCN%5BC%40%40H%5D%28CC%29CCl&draw_map=false&highlight=false\"/>"
      ],
      "text/plain": [
       "<IPython.core.display.Image object>"
      ]
     },
     "metadata": {},
     "output_type": "display_data"
    },
    {
     "name": "stdout",
     "output_type": "stream",
     "text": [
      "Product SFSCore: [0.575 0.426] ['RXN4Chem'] :  C1CCOC1.CC[C@@H](C)NCC(=O)N[C@H](C)CC.[Li+].[AlH4-]>>CC[C@@H](CCl)NCCN[C@H](C)CC\n"
     ]
    },
    {
     "data": {
      "text/html": [
       "<img src=\"https://askcos.mit.edu/api/v2/draw/?smiles=C1CCOC1.CC%5BC%40%40H%5D%28C%29NCC%28%3DO%29N%5BC%40H%5D%28C%29CC.%5BLi%2B%5D.%5BAlH4-%5D%3E%3ECC%5BC%40%40H%5D%28CCl%29NCCN%5BC%40H%5D%28C%29CC&draw_map=false&highlight=false\"/>"
      ],
      "text/plain": [
       "<IPython.core.display.Image object>"
      ]
     },
     "metadata": {},
     "output_type": "display_data"
    },
    {
     "name": "stdout",
     "output_type": "stream",
     "text": [
      "Product SFSCore: [0.52  0.494] ['RXN4Chem'] :  CC[C@@H](C)N.O=C(Cl)CCl>>CC[C@@H](C)NCC(=O)N[C@H](C)CC\n"
     ]
    },
    {
     "data": {
      "text/html": [
       "<img src=\"https://askcos.mit.edu/api/v2/draw/?smiles=CC%5BC%40%40H%5D%28C%29N.O%3DC%28Cl%29CCl%3E%3ECC%5BC%40%40H%5D%28C%29NCC%28%3DO%29N%5BC%40H%5D%28C%29CC&draw_map=false&highlight=false\"/>"
      ],
      "text/plain": [
       "<IPython.core.display.Image object>"
      ]
     },
     "metadata": {},
     "output_type": "display_data"
    },
    {
     "name": "stdout",
     "output_type": "stream",
     "text": [
      "Product SFSCore: [0.496 0.526] ['bkms'] :  CCCC[C@@H](C)N>>CC[C@@H](C)N\n"
     ]
    },
    {
     "data": {
      "text/html": [
       "<img src=\"https://askcos.mit.edu/api/v2/draw/?smiles=CCCC%5BC%40%40H%5D%28C%29N%3E%3ECC%5BC%40%40H%5D%28C%29N&draw_map=false&highlight=false\"/>"
      ],
      "text/plain": [
       "<IPython.core.display.Image object>"
      ]
     },
     "metadata": {},
     "output_type": "display_data"
    },
    {
     "name": "stdout",
     "output_type": "stream",
     "text": [
      "Path 28:\n",
      "Product SFSCore: [0.503 0.517] ['bkms'] :  CC[C@@H](CO)NCCN[C@@H](CC)CCl>>CC[C@@H](CO)NCCN[C@@H](CC)CO\n"
     ]
    },
    {
     "data": {
      "text/html": [
       "<img src=\"https://askcos.mit.edu/api/v2/draw/?smiles=CC%5BC%40%40H%5D%28CO%29NCCN%5BC%40%40H%5D%28CC%29CCl%3E%3ECC%5BC%40%40H%5D%28CO%29NCCN%5BC%40%40H%5D%28CC%29CO&draw_map=false&highlight=false\"/>"
      ],
      "text/plain": [
       "<IPython.core.display.Image object>"
      ]
     },
     "metadata": {},
     "output_type": "display_data"
    },
    {
     "name": "stdout",
     "output_type": "stream",
     "text": [
      "Product SFSCore: [0.553 0.451] ['bkms'] :  CC[C@@H](CCl)NCCN[C@H](C)CC>>CC[C@@H](CO)NCCN[C@@H](CC)CCl\n"
     ]
    },
    {
     "data": {
      "text/html": [
       "<img src=\"https://askcos.mit.edu/api/v2/draw/?smiles=CC%5BC%40%40H%5D%28CCl%29NCCN%5BC%40H%5D%28C%29CC%3E%3ECC%5BC%40%40H%5D%28CO%29NCCN%5BC%40%40H%5D%28CC%29CCl&draw_map=false&highlight=false\"/>"
      ],
      "text/plain": [
       "<IPython.core.display.Image object>"
      ]
     },
     "metadata": {},
     "output_type": "display_data"
    },
    {
     "name": "stdout",
     "output_type": "stream",
     "text": [
      "Product SFSCore: [0.575 0.426] ['RXN4Chem'] :  C1CCOC1.CC[C@@H](C)NCC(=O)N[C@H](C)CC.[Li+].[AlH4-]>>CC[C@@H](CCl)NCCN[C@H](C)CC\n"
     ]
    },
    {
     "data": {
      "text/html": [
       "<img src=\"https://askcos.mit.edu/api/v2/draw/?smiles=C1CCOC1.CC%5BC%40%40H%5D%28C%29NCC%28%3DO%29N%5BC%40H%5D%28C%29CC.%5BLi%2B%5D.%5BAlH4-%5D%3E%3ECC%5BC%40%40H%5D%28CCl%29NCCN%5BC%40H%5D%28C%29CC&draw_map=false&highlight=false\"/>"
      ],
      "text/plain": [
       "<IPython.core.display.Image object>"
      ]
     },
     "metadata": {},
     "output_type": "display_data"
    },
    {
     "name": "stdout",
     "output_type": "stream",
     "text": [
      "Product SFSCore: [0.52  0.494] ['RXN4Chem'] :  CC[C@@H](C)N.O=C(Cl)CCl>>CC[C@@H](C)NCC(=O)N[C@H](C)CC\n"
     ]
    },
    {
     "data": {
      "text/html": [
       "<img src=\"https://askcos.mit.edu/api/v2/draw/?smiles=CC%5BC%40%40H%5D%28C%29N.O%3DC%28Cl%29CCl%3E%3ECC%5BC%40%40H%5D%28C%29NCC%28%3DO%29N%5BC%40H%5D%28C%29CC&draw_map=false&highlight=false\"/>"
      ],
      "text/plain": [
       "<IPython.core.display.Image object>"
      ]
     },
     "metadata": {},
     "output_type": "display_data"
    },
    {
     "name": "stdout",
     "output_type": "stream",
     "text": [
      "Product SFSCore: [0.496 0.526] ['bkms'] :  CCC(C)=O>>CC[C@@H](C)N\n"
     ]
    },
    {
     "data": {
      "text/html": [
       "<img src=\"https://askcos.mit.edu/api/v2/draw/?smiles=CCC%28C%29%3DO%3E%3ECC%5BC%40%40H%5D%28C%29N&draw_map=false&highlight=false\"/>"
      ],
      "text/plain": [
       "<IPython.core.display.Image object>"
      ]
     },
     "metadata": {},
     "output_type": "display_data"
    },
    {
     "name": "stdout",
     "output_type": "stream",
     "text": [
      "Path 29:\n",
      "Product SFSCore: [0.503 0.517] ['bkms'] :  CC[C@@H](CO)NCCN[C@@H](CC)CCl>>CC[C@@H](CO)NCCN[C@@H](CC)CO\n"
     ]
    },
    {
     "data": {
      "text/html": [
       "<img src=\"https://askcos.mit.edu/api/v2/draw/?smiles=CC%5BC%40%40H%5D%28CO%29NCCN%5BC%40%40H%5D%28CC%29CCl%3E%3ECC%5BC%40%40H%5D%28CO%29NCCN%5BC%40%40H%5D%28CC%29CO&draw_map=false&highlight=false\"/>"
      ],
      "text/plain": [
       "<IPython.core.display.Image object>"
      ]
     },
     "metadata": {},
     "output_type": "display_data"
    },
    {
     "name": "stdout",
     "output_type": "stream",
     "text": [
      "Product SFSCore: [0.553 0.451] ['bkms'] :  CC[C@@H](CCl)NCCN[C@H](C)CC>>CC[C@@H](CO)NCCN[C@@H](CC)CCl\n"
     ]
    },
    {
     "data": {
      "text/html": [
       "<img src=\"https://askcos.mit.edu/api/v2/draw/?smiles=CC%5BC%40%40H%5D%28CCl%29NCCN%5BC%40H%5D%28C%29CC%3E%3ECC%5BC%40%40H%5D%28CO%29NCCN%5BC%40%40H%5D%28CC%29CCl&draw_map=false&highlight=false\"/>"
      ],
      "text/plain": [
       "<IPython.core.display.Image object>"
      ]
     },
     "metadata": {},
     "output_type": "display_data"
    },
    {
     "name": "stdout",
     "output_type": "stream",
     "text": [
      "Product SFSCore: [0.575 0.426] ['RXN4Chem'] :  C1CCOC1.CC[C@@H](C)NCC(=O)N[C@H](C)CC.[Li+].[AlH4-]>>CC[C@@H](CCl)NCCN[C@H](C)CC\n"
     ]
    },
    {
     "data": {
      "text/html": [
       "<img src=\"https://askcos.mit.edu/api/v2/draw/?smiles=C1CCOC1.CC%5BC%40%40H%5D%28C%29NCC%28%3DO%29N%5BC%40H%5D%28C%29CC.%5BLi%2B%5D.%5BAlH4-%5D%3E%3ECC%5BC%40%40H%5D%28CCl%29NCCN%5BC%40H%5D%28C%29CC&draw_map=false&highlight=false\"/>"
      ],
      "text/plain": [
       "<IPython.core.display.Image object>"
      ]
     },
     "metadata": {},
     "output_type": "display_data"
    },
    {
     "name": "stdout",
     "output_type": "stream",
     "text": [
      "Product SFSCore: [0.52  0.494] ['RXN4Chem'] :  CC[C@@H](C)N.O=C(Cl)CCl>>CC[C@@H](C)NCC(=O)N[C@H](C)CC\n"
     ]
    },
    {
     "data": {
      "text/html": [
       "<img src=\"https://askcos.mit.edu/api/v2/draw/?smiles=CC%5BC%40%40H%5D%28C%29N.O%3DC%28Cl%29CCl%3E%3ECC%5BC%40%40H%5D%28C%29NCC%28%3DO%29N%5BC%40H%5D%28C%29CC&draw_map=false&highlight=false\"/>"
      ],
      "text/plain": [
       "<IPython.core.display.Image object>"
      ]
     },
     "metadata": {},
     "output_type": "display_data"
    },
    {
     "name": "stdout",
     "output_type": "stream",
     "text": [
      "Product SFSCore: [0.496 0.526] ['bkms'] :  CC(C)[C@@H](C)N>>CC[C@@H](C)N\n"
     ]
    },
    {
     "data": {
      "text/html": [
       "<img src=\"https://askcos.mit.edu/api/v2/draw/?smiles=CC%28C%29%5BC%40%40H%5D%28C%29N%3E%3ECC%5BC%40%40H%5D%28C%29N&draw_map=false&highlight=false\"/>"
      ],
      "text/plain": [
       "<IPython.core.display.Image object>"
      ]
     },
     "metadata": {},
     "output_type": "display_data"
    },
    {
     "name": "stdout",
     "output_type": "stream",
     "text": [
      "Path 30:\n",
      "Product SFSCore: [0.503 0.517] ['bkms'] :  CC[C@@H](CO)NCCN[C@@H](CC)CCl>>CC[C@@H](CO)NCCN[C@@H](CC)CO\n"
     ]
    },
    {
     "data": {
      "text/html": [
       "<img src=\"https://askcos.mit.edu/api/v2/draw/?smiles=CC%5BC%40%40H%5D%28CO%29NCCN%5BC%40%40H%5D%28CC%29CCl%3E%3ECC%5BC%40%40H%5D%28CO%29NCCN%5BC%40%40H%5D%28CC%29CO&draw_map=false&highlight=false\"/>"
      ],
      "text/plain": [
       "<IPython.core.display.Image object>"
      ]
     },
     "metadata": {},
     "output_type": "display_data"
    },
    {
     "name": "stdout",
     "output_type": "stream",
     "text": [
      "Product SFSCore: [0.553 0.451] ['bkms'] :  CC[C@@H](CCl)NCCN[C@H](C)CC>>CC[C@@H](CO)NCCN[C@@H](CC)CCl\n"
     ]
    },
    {
     "data": {
      "text/html": [
       "<img src=\"https://askcos.mit.edu/api/v2/draw/?smiles=CC%5BC%40%40H%5D%28CCl%29NCCN%5BC%40H%5D%28C%29CC%3E%3ECC%5BC%40%40H%5D%28CO%29NCCN%5BC%40%40H%5D%28CC%29CCl&draw_map=false&highlight=false\"/>"
      ],
      "text/plain": [
       "<IPython.core.display.Image object>"
      ]
     },
     "metadata": {},
     "output_type": "display_data"
    },
    {
     "name": "stdout",
     "output_type": "stream",
     "text": [
      "Product SFSCore: [0.575 0.426] ['RXN4Chem'] :  C1CCOC1.CC[C@@H](C)NCC(=O)N[C@H](C)CC.[Li+].[AlH4-]>>CC[C@@H](CCl)NCCN[C@H](C)CC\n"
     ]
    },
    {
     "data": {
      "text/html": [
       "<img src=\"https://askcos.mit.edu/api/v2/draw/?smiles=C1CCOC1.CC%5BC%40%40H%5D%28C%29NCC%28%3DO%29N%5BC%40H%5D%28C%29CC.%5BLi%2B%5D.%5BAlH4-%5D%3E%3ECC%5BC%40%40H%5D%28CCl%29NCCN%5BC%40H%5D%28C%29CC&draw_map=false&highlight=false\"/>"
      ],
      "text/plain": [
       "<IPython.core.display.Image object>"
      ]
     },
     "metadata": {},
     "output_type": "display_data"
    },
    {
     "name": "stdout",
     "output_type": "stream",
     "text": [
      "Product SFSCore: [0.52  0.494] ['RXN4Chem'] :  CC[C@@H](C)N.O=C(Cl)CCl>>CC[C@@H](C)NCC(=O)N[C@H](C)CC\n"
     ]
    },
    {
     "data": {
      "text/html": [
       "<img src=\"https://askcos.mit.edu/api/v2/draw/?smiles=CC%5BC%40%40H%5D%28C%29N.O%3DC%28Cl%29CCl%3E%3ECC%5BC%40%40H%5D%28C%29NCC%28%3DO%29N%5BC%40H%5D%28C%29CC&draw_map=false&highlight=false\"/>"
      ],
      "text/plain": [
       "<IPython.core.display.Image object>"
      ]
     },
     "metadata": {},
     "output_type": "display_data"
    },
    {
     "name": "stdout",
     "output_type": "stream",
     "text": [
      "Product SFSCore: [0.496 0.526] ['RXN4Chem'] :  CCC(C)=O.N.[H][H]>>CC[C@@H](C)N\n"
     ]
    },
    {
     "data": {
      "text/html": [
       "<img src=\"https://askcos.mit.edu/api/v2/draw/?smiles=CCC%28C%29%3DO.N.%5BH%5D%5BH%5D%3E%3ECC%5BC%40%40H%5D%28C%29N&draw_map=false&highlight=false\"/>"
      ],
      "text/plain": [
       "<IPython.core.display.Image object>"
      ]
     },
     "metadata": {},
     "output_type": "display_data"
    },
    {
     "name": "stdout",
     "output_type": "stream",
     "text": [
      "Path 31:\n",
      "Product SFSCore: [0.503 0.517] ['bkms'] :  CC[C@@H](CO)NCCN[C@@H](CC)CCl>>CC[C@@H](CO)NCCN[C@@H](CC)CO\n"
     ]
    },
    {
     "data": {
      "text/html": [
       "<img src=\"https://askcos.mit.edu/api/v2/draw/?smiles=CC%5BC%40%40H%5D%28CO%29NCCN%5BC%40%40H%5D%28CC%29CCl%3E%3ECC%5BC%40%40H%5D%28CO%29NCCN%5BC%40%40H%5D%28CC%29CO&draw_map=false&highlight=false\"/>"
      ],
      "text/plain": [
       "<IPython.core.display.Image object>"
      ]
     },
     "metadata": {},
     "output_type": "display_data"
    },
    {
     "name": "stdout",
     "output_type": "stream",
     "text": [
      "Product SFSCore: [0.553 0.451] ['bkms'] :  CC[C@@H](CCl)NCCN[C@H](C)CC>>CC[C@@H](CO)NCCN[C@@H](CC)CCl\n"
     ]
    },
    {
     "data": {
      "text/html": [
       "<img src=\"https://askcos.mit.edu/api/v2/draw/?smiles=CC%5BC%40%40H%5D%28CCl%29NCCN%5BC%40H%5D%28C%29CC%3E%3ECC%5BC%40%40H%5D%28CO%29NCCN%5BC%40%40H%5D%28CC%29CCl&draw_map=false&highlight=false\"/>"
      ],
      "text/plain": [
       "<IPython.core.display.Image object>"
      ]
     },
     "metadata": {},
     "output_type": "display_data"
    },
    {
     "name": "stdout",
     "output_type": "stream",
     "text": [
      "Product SFSCore: [0.575 0.426] ['RXN4Chem'] :  C1CCOC1.CC[C@@H](C)NCC(=O)N[C@H](C)CC.[Li+].[AlH4-]>>CC[C@@H](CCl)NCCN[C@H](C)CC\n"
     ]
    },
    {
     "data": {
      "text/html": [
       "<img src=\"https://askcos.mit.edu/api/v2/draw/?smiles=C1CCOC1.CC%5BC%40%40H%5D%28C%29NCC%28%3DO%29N%5BC%40H%5D%28C%29CC.%5BLi%2B%5D.%5BAlH4-%5D%3E%3ECC%5BC%40%40H%5D%28CCl%29NCCN%5BC%40H%5D%28C%29CC&draw_map=false&highlight=false\"/>"
      ],
      "text/plain": [
       "<IPython.core.display.Image object>"
      ]
     },
     "metadata": {},
     "output_type": "display_data"
    },
    {
     "name": "stdout",
     "output_type": "stream",
     "text": [
      "Product SFSCore: [0.52  0.494] ['RXN4Chem'] :  CC[C@@H](C)N.O=C(Cl)CCl>>CC[C@@H](C)NCC(=O)N[C@H](C)CC\n"
     ]
    },
    {
     "data": {
      "text/html": [
       "<img src=\"https://askcos.mit.edu/api/v2/draw/?smiles=CC%5BC%40%40H%5D%28C%29N.O%3DC%28Cl%29CCl%3E%3ECC%5BC%40%40H%5D%28C%29NCC%28%3DO%29N%5BC%40H%5D%28C%29CC&draw_map=false&highlight=false\"/>"
      ],
      "text/plain": [
       "<IPython.core.display.Image object>"
      ]
     },
     "metadata": {},
     "output_type": "display_data"
    },
    {
     "name": "stdout",
     "output_type": "stream",
     "text": [
      "Product SFSCore: [0.496 0.526] ['RXN4Chem'] :  CC/C(C)=N/O.[H][H]>>CC[C@@H](C)N\n"
     ]
    },
    {
     "data": {
      "text/html": [
       "<img src=\"https://askcos.mit.edu/api/v2/draw/?smiles=CC/C%28C%29%3DN/O.%5BH%5D%5BH%5D%3E%3ECC%5BC%40%40H%5D%28C%29N&draw_map=false&highlight=false\"/>"
      ],
      "text/plain": [
       "<IPython.core.display.Image object>"
      ]
     },
     "metadata": {},
     "output_type": "display_data"
    }
   ],
   "source": [
    "# Path 20 shown below is manually checked and selected\n",
    "max_depth = 5\n",
    "max_trees = 5000\n",
    "validate_paths = True\n",
    "NIL_UUID = '00000000-0000-0000-0000-000000000000'\n",
    "\n",
    "smiles = smi\n",
    "prioritizer = 'async'\n",
    "\n",
    "paths = get_paths(\n",
    "                scs_spg_dict[smiles][prioritizer].reverse(),\n",
    "                root=smiles,\n",
    "                root_uuid=NIL_UUID,\n",
    "                max_depth=max_depth,\n",
    "                max_trees=max_trees,\n",
    "                validate_paths=validate_paths,\n",
    "            )\n",
    "all_paths = nx_paths_to_json(paths, NIL_UUID)\n",
    "\n",
    "set_path_length = 5\n",
    "n = 0\n",
    "for path in all_paths:\n",
    "    rxn_list = get_all_children(path)\n",
    "    path_length = len(rxn_list)\n",
    "    if path_length == set_path_length:\n",
    "        print(f'Path {n}:')\n",
    "        print_rxns_list(scs_spg_dict,prioritizer,smiles,rxn_list)\n",
    "        n+=1"
   ]
  },
  {
   "cell_type": "markdown",
   "metadata": {},
   "source": [
    "# Case study: Epidiolex"
   ]
  },
  {
   "cell_type": "code",
   "execution_count": 111,
   "metadata": {},
   "outputs": [],
   "source": [
    "scs_shortest_path_dict = {}\n",
    "scs_spg_dict = {}\n",
    "\n",
    "smi = 'C=C(C)[C@@H]1CCC(C)=C[C@H]1c1c(O)cc(CCCCC)cc1O'\n",
    "name = 'Epidiolex'\n",
    "path = f'./results/case_study/async_{name}.json'\n",
    "with open(path, \"r\") as outfile:\n",
    "    result_dict = json.load(outfile)\n",
    "\n",
    "\n",
    "smiles = result_dict['start_node']['id']\n",
    "scs_shortest_path_dict[smiles] = {}\n",
    "scs_spg_dict[smiles] = {}\n",
    "prioritizer = 'async'\n",
    "\n",
    "graph_json = build_graph_from_async(result_dict['explored_rxns'],result_dict['explored_nodes'],result_dict['start_node'])\n",
    "try:\n",
    "    g = nx.node_link_graph(graph_json)\n",
    "    if g and len(g.nodes)>1:\n",
    "        std_smiles = Chem.MolToSmiles(Chem.MolFromSmiles(smiles))\n",
    "        chem_nodes = [n for n in g.nodes if '>>' not in n]\n",
    "        starting_nodes = [n for n in chem_nodes if g.nodes[n]['terminal']]\n",
    "        s_p_g = metabolic_dijkstra(g, starting_nodes)\n",
    "        scs_spg_dict[smiles][prioritizer] = s_p_g\n",
    "        try:\n",
    "            scs_shortest_path_dict[smiles][prioritizer] = s_p_g.nodes[std_smiles]['path_length']\n",
    "        except:\n",
    "            scs_shortest_path_dict[smiles][prioritizer] = s_p_g.nodes[smiles]['path_length']\n",
    "    else:\n",
    "        print ('No Graph for', smiles, prioritizer)\n",
    "except:\n",
    "    print ('Graph retrieval failed for', smiles)"
   ]
  },
  {
   "cell_type": "code",
   "execution_count": 112,
   "metadata": {},
   "outputs": [
    {
     "data": {
      "text/plain": [
       "{'type': 'chemical',\n",
       " 'score': 243.30518852908415,\n",
       " 'sfscore': [0.4377802312374115, 0.6024901866912842],\n",
       " 'chem_score': 136.79098683355969,\n",
       " 'enzy_score': 96.71620006923814,\n",
       " 'depth': -1,\n",
       " 'terminal': False,\n",
       " 'path_length': 2,\n",
       " 'visited': False,\n",
       " 'shortest_pathway': ['CC(C)=CCC/C(C)=C/CBr.CCCCCc1cc(O)cc(O)c1>>CCCCCc1cc(O)c(C/C=C(\\\\C)CCC=C(C)C)c(O)c1',\n",
       "  'CCCCCc1cc(O)c(C/C=C(\\\\C)CCC=C(C)C)c(O)c1>>C=C(C)[C@@H]1CCC(C)=C[C@H]1c1c(O)cc(CCCCC)cc1O']}"
      ]
     },
     "execution_count": 112,
     "metadata": {},
     "output_type": "execute_result"
    }
   ],
   "source": [
    "scs_spg_dict[smi]['async'].nodes[smi]"
   ]
  },
  {
   "cell_type": "code",
   "execution_count": 113,
   "metadata": {},
   "outputs": [
    {
     "name": "stdout",
     "output_type": "stream",
     "text": [
      "Path 0:\n",
      "Product SFSCore: [0.438 0.602] ['bkms'] :  CCCCCc1cc(O)c(C/C=C(\\C)CCC=C(C)C)c(O)c1>>C=C(C)[C@@H]1CCC(C)=C[C@H]1c1c(O)cc(CCCCC)cc1O\n"
     ]
    },
    {
     "data": {
      "text/html": [
       "<img src=\"https://askcos.mit.edu/api/v2/draw/?smiles=CCCCCc1cc%28O%29c%28C/C%3DC%28%5CC%29CCC%3DC%28C%29C%29c%28O%29c1%3E%3EC%3DC%28C%29%5BC%40%40H%5D1CCC%28C%29%3DC%5BC%40H%5D1c1c%28O%29cc%28CCCCC%29cc1O&draw_map=false&highlight=false\"/>"
      ],
      "text/plain": [
       "<IPython.core.display.Image object>"
      ]
     },
     "metadata": {},
     "output_type": "display_data"
    },
    {
     "name": "stdout",
     "output_type": "stream",
     "text": [
      "Product SFSCore: [0.437 0.607] ['RXN4Chem'] :  CC(C)=CCC/C(C)=C/CBr.CCCCCc1cc(O)cc(O)c1>>CCCCCc1cc(O)c(C/C=C(\\C)CCC=C(C)C)c(O)c1\n"
     ]
    },
    {
     "data": {
      "text/html": [
       "<img src=\"https://askcos.mit.edu/api/v2/draw/?smiles=CC%28C%29%3DCCC/C%28C%29%3DC/CBr.CCCCCc1cc%28O%29cc%28O%29c1%3E%3ECCCCCc1cc%28O%29c%28C/C%3DC%28%5CC%29CCC%3DC%28C%29C%29c%28O%29c1&draw_map=false&highlight=false\"/>"
      ],
      "text/plain": [
       "<IPython.core.display.Image object>"
      ]
     },
     "metadata": {},
     "output_type": "display_data"
    },
    {
     "name": "stdout",
     "output_type": "stream",
     "text": [
      "Path 1:\n",
      "Product SFSCore: [0.438 0.602] ['bkms'] :  CCCCCc1cc(O)c(C/C=C(\\C)CCC=C(C)C)c(O)c1>>C=C(C)[C@@H]1CCC(C)=C[C@H]1c1c(O)cc(CCCCC)cc1O\n"
     ]
    },
    {
     "data": {
      "text/html": [
       "<img src=\"https://askcos.mit.edu/api/v2/draw/?smiles=CCCCCc1cc%28O%29c%28C/C%3DC%28%5CC%29CCC%3DC%28C%29C%29c%28O%29c1%3E%3EC%3DC%28C%29%5BC%40%40H%5D1CCC%28C%29%3DC%5BC%40H%5D1c1c%28O%29cc%28CCCCC%29cc1O&draw_map=false&highlight=false\"/>"
      ],
      "text/plain": [
       "<IPython.core.display.Image object>"
      ]
     },
     "metadata": {},
     "output_type": "display_data"
    },
    {
     "name": "stdout",
     "output_type": "stream",
     "text": [
      "Product SFSCore: [0.437 0.607] ['RXN4Chem'] :  CC(C)=CCC/C(C)=C/CO.CCCCCc1cc(O)cc(O)c1>>CCCCCc1cc(O)c(C/C=C(\\C)CCC=C(C)C)c(O)c1\n"
     ]
    },
    {
     "data": {
      "text/html": [
       "<img src=\"https://askcos.mit.edu/api/v2/draw/?smiles=CC%28C%29%3DCCC/C%28C%29%3DC/CO.CCCCCc1cc%28O%29cc%28O%29c1%3E%3ECCCCCc1cc%28O%29c%28C/C%3DC%28%5CC%29CCC%3DC%28C%29C%29c%28O%29c1&draw_map=false&highlight=false\"/>"
      ],
      "text/plain": [
       "<IPython.core.display.Image object>"
      ]
     },
     "metadata": {},
     "output_type": "display_data"
    }
   ],
   "source": [
    "# Path 1 shown below is manually checked and selected\n",
    "max_depth = 4\n",
    "max_trees = 5000\n",
    "validate_paths = True\n",
    "NIL_UUID = '00000000-0000-0000-0000-000000000000'\n",
    "\n",
    "smiles = smi\n",
    "prioritizer = 'async'\n",
    "\n",
    "paths = get_paths(\n",
    "                scs_spg_dict[smiles][prioritizer].reverse(),\n",
    "                root=smiles,\n",
    "                root_uuid=NIL_UUID,\n",
    "                max_depth=max_depth,\n",
    "                max_trees=max_trees,\n",
    "                validate_paths=validate_paths,\n",
    "            )\n",
    "all_paths = nx_paths_to_json(paths, NIL_UUID)\n",
    "\n",
    "set_path_length = 2\n",
    "n = 0\n",
    "for path in all_paths:\n",
    "    rxn_list = get_all_children(path)\n",
    "    path_length = len(rxn_list)\n",
    "    if path_length == set_path_length:\n",
    "        print(f'Path {n}:')\n",
    "        print_rxns_list(scs_spg_dict,prioritizer,smiles,rxn_list)\n",
    "        n+=1"
   ]
  },
  {
   "cell_type": "markdown",
   "metadata": {},
   "source": [
    "# Case study: Rivastigmine"
   ]
  },
  {
   "cell_type": "code",
   "execution_count": 10,
   "metadata": {},
   "outputs": [],
   "source": [
    "scs_shortest_path_dict = {}\n",
    "scs_spg_dict = {}\n",
    "\n",
    "smi = 'CCN(C)C(=O)Oc1cccc([C@@H](C)O)c1'\n",
    "name = 'Rivastigmine-44'\n",
    "path = f'./results/case_study/async_{name}.json'\n",
    "with open(path, \"r\") as outfile:\n",
    "    result_dict = json.load(outfile)\n",
    "\n",
    "\n",
    "smiles = result_dict['start_node']['id']\n",
    "scs_shortest_path_dict[smiles] = {}\n",
    "scs_spg_dict[smiles] = {}\n",
    "prioritizer = 'async'\n",
    "\n",
    "graph_json = build_graph_from_async(result_dict['explored_rxns'],result_dict['explored_nodes'],result_dict['start_node'])\n",
    "try:\n",
    "    g = nx.node_link_graph(graph_json)\n",
    "    if g and len(g.nodes)>1:\n",
    "        std_smiles = Chem.MolToSmiles(Chem.MolFromSmiles(smiles))\n",
    "        chem_nodes = [n for n in g.nodes if '>>' not in n]\n",
    "        starting_nodes = [n for n in chem_nodes if g.nodes[n]['terminal']]\n",
    "        s_p_g = metabolic_dijkstra(g, starting_nodes)\n",
    "        scs_spg_dict[smiles][prioritizer] = s_p_g\n",
    "        try:\n",
    "            scs_shortest_path_dict[smiles][prioritizer] = s_p_g.nodes[std_smiles]['path_length']\n",
    "        except:\n",
    "            scs_shortest_path_dict[smiles][prioritizer] = s_p_g.nodes[smiles]['path_length']\n",
    "    else:\n",
    "        print ('No Graph for', smiles, prioritizer)\n",
    "except:\n",
    "    print ('Graph retrieval failed for', smiles)"
   ]
  },
  {
   "cell_type": "code",
   "execution_count": 11,
   "metadata": {},
   "outputs": [
    {
     "data": {
      "text/plain": [
       "{'type': 'chemical',\n",
       " 'score': 130.0,\n",
       " 'sfscore': [0.529366135597229, 0.482090562582016],\n",
       " 'chem_score': 61.18240237236023,\n",
       " 'enzy_score': 67.32822686433792,\n",
       " 'depth': -1,\n",
       " 'terminal': False,\n",
       " 'path_length': 1,\n",
       " 'visited': False,\n",
       " 'shortest_pathway': ['CCN(C)C(=O)Oc1cccc(C(C)=O)c1.CO.[BH4-].[Na+]>>CCN(C)C(=O)Oc1cccc([C@@H](C)O)c1']}"
      ]
     },
     "execution_count": 11,
     "metadata": {},
     "output_type": "execute_result"
    }
   ],
   "source": [
    "scs_spg_dict[smi]['async'].nodes[smi]"
   ]
  },
  {
   "cell_type": "code",
   "execution_count": 12,
   "metadata": {},
   "outputs": [
    {
     "name": "stdout",
     "output_type": "stream",
     "text": [
      "Path 0:\n",
      "Product SFSCore: [0.529 0.482] ['RXN4Chem'] :  CCN(C)C(=O)Oc1cccc(C(C)=O)c1.CO.[BH4-].[Na+]>>CCN(C)C(=O)Oc1cccc([C@@H](C)O)c1\n"
     ]
    },
    {
     "data": {
      "text/html": [
       "<img src=\"https://askcos.mit.edu/api/v2/draw/?smiles=CCN%28C%29C%28%3DO%29Oc1cccc%28C%28C%29%3DO%29c1.CO.%5BBH4-%5D.%5BNa%2B%5D%3E%3ECCN%28C%29C%28%3DO%29Oc1cccc%28%5BC%40%40H%5D%28C%29O%29c1&draw_map=false&highlight=false\"/>"
      ],
      "text/plain": [
       "<IPython.core.display.Image object>"
      ]
     },
     "metadata": {},
     "output_type": "display_data"
    },
    {
     "name": "stdout",
     "output_type": "stream",
     "text": [
      "Path 1:\n",
      "Product SFSCore: [0.529 0.482] ['bkms'] :  CCN(C)C(=O)Oc1cccc(C(C)=O)c1>>CCN(C)C(=O)Oc1cccc([C@@H](C)O)c1\n"
     ]
    },
    {
     "data": {
      "text/html": [
       "<img src=\"https://askcos.mit.edu/api/v2/draw/?smiles=CCN%28C%29C%28%3DO%29Oc1cccc%28C%28C%29%3DO%29c1%3E%3ECCN%28C%29C%28%3DO%29Oc1cccc%28%5BC%40%40H%5D%28C%29O%29c1&draw_map=false&highlight=false\"/>"
      ],
      "text/plain": [
       "<IPython.core.display.Image object>"
      ]
     },
     "metadata": {},
     "output_type": "display_data"
    }
   ],
   "source": [
    "max_depth = 1\n",
    "max_trees = 5000\n",
    "validate_paths = True\n",
    "NIL_UUID = '00000000-0000-0000-0000-000000000000'\n",
    "\n",
    "smiles = smi\n",
    "prioritizer = 'async'\n",
    "\n",
    "paths = get_paths(\n",
    "                scs_spg_dict[smiles][prioritizer].reverse(),\n",
    "                root=smiles,\n",
    "                root_uuid=NIL_UUID,\n",
    "                max_depth=max_depth,\n",
    "                max_trees=max_trees,\n",
    "                validate_paths=validate_paths,\n",
    "            )\n",
    "all_paths = nx_paths_to_json(paths, NIL_UUID)\n",
    "\n",
    "set_path_length = 1\n",
    "n = 0\n",
    "for path in all_paths:\n",
    "    rxn_list = get_all_children(path)\n",
    "    path_length = len(rxn_list)\n",
    "    if path_length == set_path_length:\n",
    "        print(f'Path {n}:')\n",
    "        print_rxns_list(scs_spg_dict,prioritizer,smiles,rxn_list)\n",
    "        n+=1"
   ]
  },
  {
   "cell_type": "markdown",
   "metadata": {},
   "source": [
    "# Case study: Formoterol"
   ]
  },
  {
   "cell_type": "code",
   "execution_count": 13,
   "metadata": {},
   "outputs": [],
   "source": [
    "scs_shortest_path_dict = {}\n",
    "scs_spg_dict = {}\n",
    "\n",
    "smi = 'O=[N+]([O-])c1cccc([C@@H]2CO2)c1'\n",
    "name = 'formoterol-46'\n",
    "path = f'./results/case_study/async_{name}.json'\n",
    "with open(path, \"r\") as outfile:\n",
    "    result_dict = json.load(outfile)\n",
    "\n",
    "\n",
    "smiles = result_dict['start_node']['id']\n",
    "scs_shortest_path_dict[smiles] = {}\n",
    "scs_spg_dict[smiles] = {}\n",
    "prioritizer = 'async'\n",
    "\n",
    "graph_json = build_graph_from_async(result_dict['explored_rxns'],result_dict['explored_nodes'],result_dict['start_node'])\n",
    "try:\n",
    "    g = nx.node_link_graph(graph_json)\n",
    "    if g and len(g.nodes)>1:\n",
    "        std_smiles = Chem.MolToSmiles(Chem.MolFromSmiles(smiles))\n",
    "        chem_nodes = [n for n in g.nodes if '>>' not in n]\n",
    "        starting_nodes = [n for n in chem_nodes if g.nodes[n]['terminal']]\n",
    "        s_p_g = metabolic_dijkstra(g, starting_nodes)\n",
    "        scs_spg_dict[smiles][prioritizer] = s_p_g\n",
    "        try:\n",
    "            scs_shortest_path_dict[smiles][prioritizer] = s_p_g.nodes[std_smiles]['path_length']\n",
    "        except:\n",
    "            scs_shortest_path_dict[smiles][prioritizer] = s_p_g.nodes[smiles]['path_length']\n",
    "    else:\n",
    "        print ('No Graph for', smiles, prioritizer)\n",
    "except:\n",
    "    print ('Graph retrieval failed for', smiles)"
   ]
  },
  {
   "cell_type": "code",
   "execution_count": 14,
   "metadata": {},
   "outputs": [
    {
     "data": {
      "text/plain": [
       "{'type': 'chemical',\n",
       " 'score': 90.33459118601274,\n",
       " 'sfscore': [0.5742165446281433, 0.42704617977142334],\n",
       " 'chem_score': 38.46297437478458,\n",
       " 'enzy_score': 51.75754911881271,\n",
       " 'depth': -1,\n",
       " 'terminal': False,\n",
       " 'path_length': 1,\n",
       " 'visited': False,\n",
       " 'shortest_pathway': ['C=Cc1cccc([N+](=O)[O-])c1.ClCCl.O=C(OO)c1cccc(Cl)c1>>O=[N+]([O-])c1cccc([C@@H]2CO2)c1']}"
      ]
     },
     "execution_count": 14,
     "metadata": {},
     "output_type": "execute_result"
    }
   ],
   "source": [
    "scs_spg_dict[smi]['async'].nodes[smi]"
   ]
  },
  {
   "cell_type": "code",
   "execution_count": 15,
   "metadata": {},
   "outputs": [
    {
     "name": "stdout",
     "output_type": "stream",
     "text": [
      "Path 0:\n",
      "Product SFSCore: [0.574 0.427] ['RXN4Chem'] :  C=Cc1cccc([N+](=O)[O-])c1.ClCCl.O=C(OO)c1cccc(Cl)c1>>O=[N+]([O-])c1cccc([C@@H]2CO2)c1\n"
     ]
    },
    {
     "data": {
      "text/html": [
       "<img src=\"https://askcos.mit.edu/api/v2/draw/?smiles=C%3DCc1cccc%28%5BN%2B%5D%28%3DO%29%5BO-%5D%29c1.ClCCl.O%3DC%28OO%29c1cccc%28Cl%29c1%3E%3EO%3D%5BN%2B%5D%28%5BO-%5D%29c1cccc%28%5BC%40%40H%5D2CO2%29c1&draw_map=false&highlight=false\"/>"
      ],
      "text/plain": [
       "<IPython.core.display.Image object>"
      ]
     },
     "metadata": {},
     "output_type": "display_data"
    },
    {
     "name": "stdout",
     "output_type": "stream",
     "text": [
      "Path 1:\n",
      "Product SFSCore: [0.574 0.427] ['bkms'] :  C=Cc1cccc([N+](=O)[O-])c1>>O=[N+]([O-])c1cccc([C@@H]2CO2)c1\n"
     ]
    },
    {
     "data": {
      "text/html": [
       "<img src=\"https://askcos.mit.edu/api/v2/draw/?smiles=C%3DCc1cccc%28%5BN%2B%5D%28%3DO%29%5BO-%5D%29c1%3E%3EO%3D%5BN%2B%5D%28%5BO-%5D%29c1cccc%28%5BC%40%40H%5D2CO2%29c1&draw_map=false&highlight=false\"/>"
      ],
      "text/plain": [
       "<IPython.core.display.Image object>"
      ]
     },
     "metadata": {},
     "output_type": "display_data"
    },
    {
     "name": "stdout",
     "output_type": "stream",
     "text": [
      "Path 2:\n",
      "Product SFSCore: [0.574 0.427] ['bkms'] :  c1ccc([C@@H]2CO2)cc1>>O=[N+]([O-])c1cccc([C@@H]2CO2)c1\n"
     ]
    },
    {
     "data": {
      "text/html": [
       "<img src=\"https://askcos.mit.edu/api/v2/draw/?smiles=c1ccc%28%5BC%40%40H%5D2CO2%29cc1%3E%3EO%3D%5BN%2B%5D%28%5BO-%5D%29c1cccc%28%5BC%40%40H%5D2CO2%29c1&draw_map=false&highlight=false\"/>"
      ],
      "text/plain": [
       "<IPython.core.display.Image object>"
      ]
     },
     "metadata": {},
     "output_type": "display_data"
    }
   ],
   "source": [
    "# Path 0 shown below is manually checked and selected\n",
    "max_depth = 1\n",
    "max_trees = 5000\n",
    "validate_paths = True\n",
    "NIL_UUID = '00000000-0000-0000-0000-000000000000'\n",
    "\n",
    "smiles = smi\n",
    "prioritizer = 'async'\n",
    "\n",
    "paths = get_paths(\n",
    "                scs_spg_dict[smiles][prioritizer].reverse(),\n",
    "                root=smiles,\n",
    "                root_uuid=NIL_UUID,\n",
    "                max_depth=max_depth,\n",
    "                max_trees=max_trees,\n",
    "                validate_paths=validate_paths,\n",
    "            )\n",
    "all_paths = nx_paths_to_json(paths, NIL_UUID)\n",
    "\n",
    "set_path_length = 1\n",
    "n = 0\n",
    "for path in all_paths:\n",
    "    rxn_list = get_all_children(path)\n",
    "    path_length = len(rxn_list)\n",
    "    if path_length == set_path_length:\n",
    "        print(f'Path {n}:')\n",
    "        print_rxns_list(scs_spg_dict,prioritizer,smiles,rxn_list)\n",
    "        n+=1"
   ]
  },
  {
   "cell_type": "code",
   "execution_count": 19,
   "metadata": {},
   "outputs": [],
   "source": [
    "scs_shortest_path_dict = {}\n",
    "scs_spg_dict = {}\n",
    "\n",
    "smi = 'COc1ccc(C[C@@H](C)N)cc1'\n",
    "name = 'formoterol-48'\n",
    "path = f'./results/case_study/async_{name}.json'\n",
    "with open(path, \"r\") as outfile:\n",
    "    result_dict = json.load(outfile)\n",
    "\n",
    "\n",
    "smiles = result_dict['start_node']['id']\n",
    "scs_shortest_path_dict[smiles] = {}\n",
    "scs_spg_dict[smiles] = {}\n",
    "prioritizer = 'async'\n",
    "\n",
    "graph_json = build_graph_from_async(result_dict['explored_rxns'],result_dict['explored_nodes'],result_dict['start_node'])\n",
    "try:\n",
    "    g = nx.node_link_graph(graph_json)\n",
    "    if g and len(g.nodes)>1:\n",
    "        std_smiles = Chem.MolToSmiles(Chem.MolFromSmiles(smiles))\n",
    "        chem_nodes = [n for n in g.nodes if '>>' not in n]\n",
    "        starting_nodes = [n for n in chem_nodes if g.nodes[n]['terminal']]\n",
    "        s_p_g = metabolic_dijkstra(g, starting_nodes)\n",
    "        scs_spg_dict[smiles][prioritizer] = s_p_g\n",
    "        try:\n",
    "            scs_shortest_path_dict[smiles][prioritizer] = s_p_g.nodes[std_smiles]['path_length']\n",
    "        except:\n",
    "            scs_shortest_path_dict[smiles][prioritizer] = s_p_g.nodes[smiles]['path_length']\n",
    "    else:\n",
    "        print ('No Graph for', smiles, prioritizer)\n",
    "except:\n",
    "    print ('Graph retrieval failed for', smiles)"
   ]
  },
  {
   "cell_type": "code",
   "execution_count": 20,
   "metadata": {},
   "outputs": [
    {
     "data": {
      "text/plain": [
       "{'type': 'chemical',\n",
       " 'score': 85.13843876330611,\n",
       " 'sfscore': [0.5514477491378784, 0.45322513580322266],\n",
       " 'chem_score': 38.18903834216786,\n",
       " 'enzy_score': 46.551558292732345,\n",
       " 'depth': -1,\n",
       " 'terminal': False,\n",
       " 'path_length': 1,\n",
       " 'visited': False,\n",
       " 'shortest_pathway': ['CC(=O)O.[NH4+].CO.COc1ccc(CC(C)=O)cc1.[BH3-]C#N.[Na+]>>COc1ccc(C[C@@H](C)N)cc1']}"
      ]
     },
     "execution_count": 20,
     "metadata": {},
     "output_type": "execute_result"
    }
   ],
   "source": [
    "scs_spg_dict[smi]['async'].nodes[smi]"
   ]
  },
  {
   "cell_type": "code",
   "execution_count": 21,
   "metadata": {},
   "outputs": [
    {
     "name": "stdout",
     "output_type": "stream",
     "text": [
      "Path 0:\n",
      "Product SFSCore: [0.551 0.453] ['RXN4Chem'] :  CC(=O)O.[NH4+].CO.COc1ccc(CC(C)=O)cc1.[BH3-]C#N.[Na+]>>COc1ccc(C[C@@H](C)N)cc1\n"
     ]
    },
    {
     "data": {
      "text/html": [
       "<img src=\"https://askcos.mit.edu/api/v2/draw/?smiles=CC%28%3DO%29O.%5BNH4%2B%5D.CO.COc1ccc%28CC%28C%29%3DO%29cc1.%5BBH3-%5DC%23N.%5BNa%2B%5D%3E%3ECOc1ccc%28C%5BC%40%40H%5D%28C%29N%29cc1&draw_map=false&highlight=false\"/>"
      ],
      "text/plain": [
       "<IPython.core.display.Image object>"
      ]
     },
     "metadata": {},
     "output_type": "display_data"
    },
    {
     "name": "stdout",
     "output_type": "stream",
     "text": [
      "Path 1:\n",
      "Product SFSCore: [0.551 0.453] ['RXN4Chem'] :  COc1ccc(CC(C)=O)cc1.N.[H][H]>>COc1ccc(C[C@@H](C)N)cc1\n"
     ]
    },
    {
     "data": {
      "text/html": [
       "<img src=\"https://askcos.mit.edu/api/v2/draw/?smiles=COc1ccc%28CC%28C%29%3DO%29cc1.N.%5BH%5D%5BH%5D%3E%3ECOc1ccc%28C%5BC%40%40H%5D%28C%29N%29cc1&draw_map=false&highlight=false\"/>"
      ],
      "text/plain": [
       "<IPython.core.display.Image object>"
      ]
     },
     "metadata": {},
     "output_type": "display_data"
    },
    {
     "name": "stdout",
     "output_type": "stream",
     "text": [
      "Path 2:\n",
      "Product SFSCore: [0.551 0.453] ['bkms'] :  COc1ccc(CCCN)cc1>>COc1ccc(C[C@@H](C)N)cc1\n"
     ]
    },
    {
     "data": {
      "text/html": [
       "<img src=\"https://askcos.mit.edu/api/v2/draw/?smiles=COc1ccc%28CCCN%29cc1%3E%3ECOc1ccc%28C%5BC%40%40H%5D%28C%29N%29cc1&draw_map=false&highlight=false\"/>"
      ],
      "text/plain": [
       "<IPython.core.display.Image object>"
      ]
     },
     "metadata": {},
     "output_type": "display_data"
    },
    {
     "name": "stdout",
     "output_type": "stream",
     "text": [
      "Path 3:\n",
      "Product SFSCore: [0.551 0.453] ['bkms'] :  COc1ccc(CC(C)=O)cc1>>COc1ccc(C[C@@H](C)N)cc1\n"
     ]
    },
    {
     "data": {
      "text/html": [
       "<img src=\"https://askcos.mit.edu/api/v2/draw/?smiles=COc1ccc%28CC%28C%29%3DO%29cc1%3E%3ECOc1ccc%28C%5BC%40%40H%5D%28C%29N%29cc1&draw_map=false&highlight=false\"/>"
      ],
      "text/plain": [
       "<IPython.core.display.Image object>"
      ]
     },
     "metadata": {},
     "output_type": "display_data"
    }
   ],
   "source": [
    "# Path 1 shown below is manually checked and selected. Another reagent, (+)-Phenylethylamine, is extracted from literature found by SciFinder.\n",
    "max_depth = 1\n",
    "max_trees = 5000\n",
    "validate_paths = True\n",
    "NIL_UUID = '00000000-0000-0000-0000-000000000000'\n",
    "\n",
    "smiles = smi\n",
    "prioritizer = 'async'\n",
    "\n",
    "paths = get_paths(\n",
    "                scs_spg_dict[smiles][prioritizer].reverse(),\n",
    "                root=smiles,\n",
    "                root_uuid=NIL_UUID,\n",
    "                max_depth=max_depth,\n",
    "                max_trees=max_trees,\n",
    "                validate_paths=validate_paths,\n",
    "            )\n",
    "all_paths = nx_paths_to_json(paths, NIL_UUID)\n",
    "\n",
    "set_path_length = 1\n",
    "n = 0\n",
    "for path in all_paths:\n",
    "    rxn_list = get_all_children(path)\n",
    "    path_length = len(rxn_list)\n",
    "    if path_length == set_path_length:\n",
    "        print(f'Path {n}:')\n",
    "        print_rxns_list(scs_spg_dict,prioritizer,smiles,rxn_list)\n",
    "        n+=1"
   ]
  }
 ],
 "metadata": {
  "kernelspec": {
   "display_name": "sftrain",
   "language": "python",
   "name": "python3"
  },
  "language_info": {
   "codemirror_mode": {
    "name": "ipython",
    "version": 3
   },
   "file_extension": ".py",
   "mimetype": "text/x-python",
   "name": "python",
   "nbconvert_exporter": "python",
   "pygments_lexer": "ipython3",
   "version": "3.9.23"
  },
  "orig_nbformat": 4
 },
 "nbformat": 4,
 "nbformat_minor": 2
}
